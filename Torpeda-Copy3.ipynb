{
 "cells": [
  {
   "cell_type": "markdown",
   "metadata": {},
   "source": [
    "$$\n",
    "\\LaTeX macros\n",
    "\\newcommand{\\pba}{{p^b_a}}\n",
    "\\newcommand{\\de}{{\\dot{e}}}\n",
    "\\newcommand{\\dde}{{\\ddot{e}}}\n",
    "\\newcommand{\\pbd}{{p^b_d}}\n",
    "\\newcommand{\\dpba}{{\\dot{p}^b_a}}\n",
    "\\newcommand{\\ddpba}{{\\ddot{p}^b_a}}\n",
    "\\newcommand{\\dpbd}{{\\dot{p}^b_d}}\n",
    "\\newcommand{\\ddpbd}{{\\ddot{p}^b_d}}\n",
    "\\newcommand{\\pag}{{p^a_g}}\n",
    "\\newcommand{\\pav}{{p^a_v}}\n",
    "\\newcommand{\\dpag}{{\\dot{p}^a_g}}\n",
    "\\newcommand{\\pai}{{p^a_i}}\n",
    "\\newcommand{\\dpai}{{\\dot{p}^a_i}}\n",
    "\\newcommand{\\pbg}{{p^b_g}}\n",
    "\\newcommand{\\dpbg}{{\\dot{p}^b_g}}\n",
    "\\newcommand{\\ddpbg}{{\\ddot{p}^b_g}}\n",
    "\\newcommand{\\pbi}{{p^b_i}}\n",
    "\\newcommand{\\dpbi}{{\\dot{p}^b_i}}\n",
    "\\newcommand{\\ddpbi}{{\\ddot{p}^b_i}}\n",
    "\\newcommand{\\Rba}{{R^b_a}}\n",
    "\\newcommand{\\dRba}{{\\dot{R}{}^b_a}}\n",
    "\\newcommand{\\ddRba}{{\\ddot{R}{}^b_a}}\n",
    "\\newcommand{\\Rab}{{R^a_b}}\n",
    "\\newcommand{\\omaa}{{\\omega^a_a}}\n",
    "\\newcommand{\\domaa}{{\\dot{\\omega}{}^a_a}}\n",
    "\\newcommand{\\Somaa}{{S\\left(\\omega^a_a\\right)}}\n",
    "\\newcommand{\\dSomaa}{{S\\left(\\dot{\\omega}{}^a_a\\right)}}\n",
    "\\newcommand{\\Spag}{{S\\left(p^a_g\\right)}}\n",
    "\\newcommand{\\Spai}{{S\\left(p^a_i\\right)}}\n",
    "\\newcommand{\\nuaa}{{\\nu^a_a}}\n",
    "\\newcommand{\\dnuaa}{{\\dot{\\nu}{}^a_a}}\n",
    "\\newcommand{\\Fb}{{F^b}}\n",
    "\\newcommand{\\Fa}{{F^a}}\n",
    "\\newcommand{\\Fg}{{F_g}}\n",
    "\\newcommand{\\Fv}{{F_v}}\n",
    "\\newcommand{\\Ng}{{N_g}}\n",
    "\\newcommand{\\Nv}{{N_v}}\n",
    "\\newcommand{\\Fe}{{F^{ext}}}\n",
    "\\newcommand{\\Na}{{N^a}}\n",
    "\\newcommand{\\iM}{{M^{-1}}}\n",
    "\\newcommand{\\BM}{\\left[\\begin{matrix}}\n",
    "\\newcommand{\\EBM}{\\end{matrix}\\right]}\n",
    "\\newcommand{\\gamaa}{{\\gamma^a_a}}\n",
    "\\newcommand{\\dgamaa}{{\\dot{\\gamma}{}^a_a}}\n",
    "\\newcommand{\\vx}{\\vec{x}}\n",
    "\\newcommand{\\vt}{\\vec{\\tau}}\n",
    "\\newcommand{\\vn}{\\vec{\\nu}}\n",
    "\\newcommand{\\T}{^\\top}\n",
    "\\newcommand{\\o}[1]{{\\overline{#1}}}\n",
    "\\newcommand{\\d}[2]{{\\frac{\\partial #1}{\\partial #2}}}\n",
    "\\newcommand{\\xpba}{{\\,}^x{\\!}p^b_a}\n",
    "\\newcommand{\\ypba}{{\\,}^y{\\!}p^b_a}\n",
    "\\newcommand{\\As}{{A^{\\!*}}}\n",
    "$$\n"
   ]
  },
  {
   "cell_type": "markdown",
   "metadata": {},
   "source": [
    "## Implementacja artykułu \"Adaptive sliding-mode attitude control for autonomous underwater vehicles with input nonlinearities\""
   ]
  },
  {
   "cell_type": "markdown",
   "metadata": {},
   "source": [
    "Link do artykułu:    https://doi.org/10.1016/j.oceaneng.2016.06.041"
   ]
  },
  {
   "cell_type": "markdown",
   "metadata": {},
   "source": [
    "## Import"
   ]
  },
  {
   "cell_type": "code",
   "execution_count": 1,
   "metadata": {},
   "outputs": [],
   "source": [
    "import sympy as sp \n",
    "import numpy as np\n",
    "import scipy as sc\n",
    "import matplotlib.pyplot as plt # ploting results\n",
    "from scipy.integrate import solve_ivp # solving differential equations\n",
    "from scipy import linalg # solving are\n",
    "MAT = np.array\n",
    "%config IPCompleter.greedy=True"
   ]
  },
  {
   "cell_type": "code",
   "execution_count": 2,
   "metadata": {},
   "outputs": [],
   "source": [
    "#definicja dekoratora log_results\n",
    "import functools\n",
    "\n",
    "def log_results(func):\n",
    "    @functools.wraps(func)\n",
    "    def w_dec(*args, **kwargs):\n",
    "        res = func(*args, **kwargs)\n",
    "        t_old = -1 if len(w_dec.t) == 0 else w_dec.t[-1]\n",
    "        t_new = args[0]\n",
    "        if t_new > t_old:\n",
    "            w_dec.log.append(res)\n",
    "            w_dec.t.append(args[0])\n",
    "        else:\n",
    "            f = filter(lambda x: x >= t_new, w_dec.t)\n",
    "            idx = w_dec.t.index(next(f))\n",
    "            w_dec.log = w_dec.log[0:idx]+[res]\n",
    "            w_dec.t = w_dec.t[0:idx]+[t_new]\n",
    "        return res\n",
    "    w_dec.log = []\n",
    "    w_dec.t = []\n",
    "    return w_dec"
   ]
  },
  {
   "cell_type": "markdown",
   "metadata": {},
   "source": [
    "## Zmienne symboliczne"
   ]
  },
  {
   "cell_type": "code",
   "execution_count": 3,
   "metadata": {},
   "outputs": [],
   "source": [
    "t = sp.symbols('t') # czas\n",
    "psi_, tta_, phi_ = sp.symbols('\\\\psi \\\\theta \\\\phi', cls=sp.Function)# kąty Eulera kolejno yaw, pitch, roll\n",
    "psi, tta, phi = psi_(t), tta_(t), phi_(t)\n",
    "psi_0, Omy_0 = sp.symbols('\\\\psi(0) \\\\omega_y(0)')\n",
    "x_, y_, z_ = sp.symbols('x y z', cls=sp.Function) # położenie torpedy w układzie globalnym\n",
    "x, y, z = x_(t), y_(t), z_(t)\n",
    "Vx_, Vy_, Vz_ = sp.symbols('V_x V_y V_z', cls=sp.Function) # prędkosci liniowe w układzie lokalnym\n",
    "Vx, Vy, Vz = Vx_(t), Vy_(t), Vz_(t)\n",
    "dVx_, dVy_, dVz_ = sp.symbols('\\dot{V}_x \\dot{V}_y \\dot{V}_z', cls=sp.Function) # prędkosci liniowe w układzie lokalnym\n",
    "dVx, dVy, dVz = dVx_(t), dVy_(t), dVz_(t)\n",
    "Omx_, Omy_, Omz_ = sp.symbols('\\\\omega_x \\\\omega_y \\\\omega_z', cls=sp.Function) # prędkosci kątowe w układzie lokalnym\n",
    "Omx, Omy, Omz = Omx_(t), Omy_(t), Omz_(t)\n",
    "dOmx_, dOmy_, dOmz_ = sp.symbols('\\dot{\\\\omega}_x \\dot{\\\\omega}_y \\dot{\\\\omega}_z', cls=sp.Function) # prędkosci kątowe w układzie lokalnym\n",
    "dOmx, dOmy, dOmz = dOmx_(t), dOmy_(t), dOmz_(t)\n",
    "V = sp.symbols('V') # prędkość wypadkowa sqrt(Vx^2 + Vy^2 + Vz^2)\n",
    "xc, yc, zc = sp.symbols('x_c y_c z_c') # współrzędne odległości od środka ciężkości do środka wyporności \n",
    "de, dr, dd = sp.symbols('\\\\delta_e \\\\delta_r \\\\delta_d')\n",
    "\n",
    "beta, alpha = sp.symbols('\\\\beta \\\\alpha') # kąt pooślizgu i natarcia\n",
    "m, rho, L, S, T = sp.symbols('m \\\\rho L S T') # masa torpedy, gęstość wody, długość i przekrój poprzeczny torpedy, siła ciagu\n",
    "lam11, lam22, lam33, lam44 = sp.symbols('\\\\lambda_{11} \\\\lambda_{22} \\\\lambda_{33} \\\\lambda_{44}') # masa dodana\n",
    "lam26, lam35, lam55, lam66 = sp.symbols('\\\\lambda_{26} \\\\lambda_{35} \\\\lambda_{55} \\\\lambda_{66}') # masa dodana\n",
    "Jxx, Jyy, Jzz = sp.symbols('J_{xx} J_{yy} J_{zz}') # dodany moment bezwładności\n",
    "G, dG, dMxp = sp.symbols('G {\\\\Delta}G {\\\\Delta}M_{xp}') # współczynniki\n",
    "Ca_xs, Ca_y, Cde_y, Cwz_y, Cb_z, Cdr_z, Cwy_z = sp.symbols('C^{\\\\alpha}_{xS} C^{\\\\alpha}_{y} C^{\\\\delta_e}_{y} C^{\\\\omega_z}_{y} C^{\\\\beta}_{z} C^{\\\\delta_r}_{z} C^{\\\\omega_y}_{z}')\n",
    "mb_x, mdr_x, mdd_x, mox_x, moy_y, mb_y = sp.symbols('m^{\\\\beta}_x m^{\\\\delta_r}_x m^{\\\\delta_d}_x m^{\\\\omega_x}_x m^{\\\\omega_y}_y m^{\\\\beta}_y ')\n",
    "mdr_y, mox_y, ma_z, mde_z, moz_z = sp.symbols('m^{\\\\delta_r}_y m^{\\\\omega_x}_y m^{\\\\alpha}_z m^{\\\\delta_e}_z m^{\\\\omega_z}_z')\n",
    "c1, c2, c3 = sp.symbols('c_1 c_2 c_3') # c1 c2 wspł hydrodynamiczne c3 wspł wzm sterowania petli otwartej \n",
    "c4, c5, c6 = sp.symbols('c_4 c_5 c_6')\n",
    "f_, d_ = sp.symbols('f d', cls=sp.Function)\n",
    "f, d = f_(V,psi,Omy,t), d_(t)\n",
    "D, h, PHI = sp.symbols('D h \\\\Phi') # nieliniowa część dynamiki i zaburzenia\n",
    "s, e, edot, lam = sp.symbols('s e \\dot{e} \\\\lambda') # zmienne sterownika ślizgowego\n",
    "bhat, hhat, rhohat, Lest, tau, k = sp.symbols('\\hat{b} \\hat{h} \\hat{\\\\rho} L_{est} \\\\tau k')#estymaty i wzmocnienia\n",
    "PSId, PSIdbis, PSIddot = sp.symbols('\\\\Psi_d \\ddot{\\\\Psi}_d \\dot{\\\\Psi}_d') #wartości kąta zadanego, 2 pochoodna, 1 pochodna\n",
    "k1, k2, k3 = sp.symbols('k_1 k_2 k_3')# wzmocnienia pochodnych estymat\n",
    "Phib = sp.symbols('\\\\Phi_b') #wsp ograniczenia funkcji saturacji \n",
    "sig, mu, u = sp.symbols('\\\\sigma m_u u') #zmienne sterowania z martwą strefą\n",
    "mr, ml, br, bl = sp.symbols('m_r m_l b_r b_l') #parametry martwej strefy\n",
    "Omyhat, Omyhatdot, k06, k07 = sp.symbols('\\hat{\\\\omega}_y \\dot{\\hat{\\\\omega}}_y k_{06} k_{07}')\n",
    "Dhat, mihat, ghat = sp.symbols('\\hat{D} \\hat{\\\\mu} \\hat{g}')\n",
    "b1hat, L1est = sp.symbols('\\hat{b}_1 L_{1est}')\n",
    "k01, k02, k03, k04, k05 = sp.symbols('k_{01} k_{02} k_{03} k_{04} k_{05}')#wsp wzm prawa adaptacji \n",
    "drm = sp.symbols('\\\\delta_{rm}')#górny poziom nasycenia\n",
    "kwindup, l, c3b, w, du = sp.symbols('k^* l \\\\bar{c}_3 w {\\\\Delta}u')\n",
    "b2, L2est, c3h = sp.symbols('\\hat{b}_2 L_{2est} \\\\hat{c}_3')\n",
    "c1h, c2h, c3h = sp.symbols('\\hat{c}_1 \\hat{c}_2 \\hat{c}_3')\n",
    "c1h_0, c2h_0, c3h_0, rhoh_0, bh_0, gh_0, mih_0, Omyh_0, Dh_0 = sp.symbols('\\\\hat{c}_1(0) \\\\hat{c}_2(0) \\\\hat{c}_3(0) \\\\hat{\\\\rho}(0) \\\\hat{b}(0) \\\\hat{g}(0) \\\\hat{\\\\mu}(0) \\\\hat{\\\\omega}_y(0) \\\\hat{D}(0)')"
   ]
  },
  {
   "cell_type": "markdown",
   "metadata": {},
   "source": [
    "Definicja kąta poślizgu $\\beta$ i kąta natarcia $\\alpha$ - rozdział 2.1 opis przed wzorem (1)"
   ]
  },
  {
   "cell_type": "code",
   "execution_count": 4,
   "metadata": {},
   "outputs": [
    {
     "data": {
      "text/latex": [
       "$\\displaystyle \\operatorname{atan}{\\left(\\frac{vzt}{\\sqrt{vxt^{2} + vyt^{2}}} \\right)}$"
      ],
      "text/plain": [
       "atan(vzt/sqrt(vxt**2 + vyt**2))"
      ]
     },
     "metadata": {},
     "output_type": "display_data"
    },
    {
     "data": {
      "text/latex": [
       "$\\displaystyle - \\operatorname{atan}{\\left(\\frac{vyt}{vxt} \\right)}$"
      ],
      "text/plain": [
       "-atan(vyt/vxt)"
      ]
     },
     "metadata": {},
     "output_type": "display_data"
    },
    {
     "data": {
      "text/latex": [
       "$\\displaystyle \\operatorname{atan}{\\left(\\frac{\\operatorname{V_{z}}{\\left(t \\right)}}{\\sqrt{\\operatorname{V_{x}}^{2}{\\left(t \\right)} + \\operatorname{V_{y}}^{2}{\\left(t \\right)}}} \\right)}$"
      ],
      "text/plain": [
       "atan(V_z(t)/sqrt(V_x(t)**2 + V_y(t)**2))"
      ]
     },
     "metadata": {},
     "output_type": "display_data"
    },
    {
     "data": {
      "text/latex": [
       "$\\displaystyle - \\operatorname{atan}{\\left(\\frac{\\operatorname{V_{y}}{\\left(t \\right)}}{\\operatorname{V_{x}}{\\left(t \\right)}} \\right)}$"
      ],
      "text/plain": [
       "-atan(V_y(t)/V_x(t))"
      ]
     },
     "metadata": {},
     "output_type": "display_data"
    }
   ],
   "source": [
    "beta_ = sp.atan(Vz/sp.sqrt(Vx**2+Vy**2))\n",
    "alpha_ = -sp.atan(Vy/Vx)\n",
    "\n",
    "vxtmp, vytmp, vztmp = sp.symbols('vxt vyt vzt') \n",
    "beta_slim = beta_.subs(Vz, vztmp)\n",
    "beta_slim = beta_slim.subs(Vx, vxtmp)\n",
    "beta_slim = beta_slim.subs(Vy, vytmp)\n",
    "display(beta_slim)\n",
    "beta_f = sp.lambdify([vxtmp, vytmp, vztmp], beta_slim)\n",
    "\n",
    "alpha_slim = alpha_.subs(Vx, vxtmp)\n",
    "alpha_slim = alpha_slim.subs(Vy, vytmp)\n",
    "display(alpha_slim)\n",
    "alpha_f = sp.lambdify([vxtmp, vytmp], alpha_slim)\n",
    "\n",
    "podstaw = {beta:0.05,alpha:alpha_}\n",
    "display(beta_,alpha_)"
   ]
  },
  {
   "cell_type": "markdown",
   "metadata": {},
   "source": [
    "Opis kinematyki AUV - rozdział 2.1 (1)  $\\BM \\dot{x}\\\\\\dot{y}\\\\\\dot{z} \\EBM$"
   ]
  },
  {
   "cell_type": "code",
   "execution_count": 5,
   "metadata": {},
   "outputs": [
    {
     "data": {
      "text/latex": [
       "$\\displaystyle \\left[\\begin{matrix}\\cos{\\left(\\psi{\\left(t \\right)} \\right)} \\cos{\\left(\\theta{\\left(t \\right)} \\right)} & \\sin{\\left(\\phi{\\left(t \\right)} \\right)} \\sin{\\left(\\psi{\\left(t \\right)} \\right)} - \\sin{\\left(\\theta{\\left(t \\right)} \\right)} \\cos{\\left(\\phi{\\left(t \\right)} \\right)} \\cos{\\left(\\psi{\\left(t \\right)} \\right)} & \\sin{\\left(\\psi{\\left(t \\right)} \\right)} \\cos{\\left(\\phi{\\left(t \\right)} \\right)} + \\sin{\\left(\\theta{\\left(t \\right)} \\right)} \\cos{\\left(\\psi{\\left(t \\right)} \\right)}\\\\\\sin{\\left(\\phi{\\left(t \\right)} \\right)} & \\cos{\\left(\\phi{\\left(t \\right)} \\right)} \\cos{\\left(\\theta{\\left(t \\right)} \\right)} & - \\sin{\\left(\\phi{\\left(t \\right)} \\right)} \\cos{\\left(\\theta{\\left(t \\right)} \\right)} + \\sin{\\left(\\phi{\\left(t \\right)} \\right)}\\\\- \\sin{\\left(\\psi{\\left(t \\right)} \\right)} \\cos{\\left(\\theta{\\left(t \\right)} \\right)} & \\sin{\\left(\\phi{\\left(t \\right)} \\right)} \\cos{\\left(\\psi{\\left(t \\right)} \\right)} + \\sin{\\left(\\psi{\\left(t \\right)} \\right)} \\sin{\\left(\\theta{\\left(t \\right)} \\right)} \\cos{\\left(\\phi{\\left(t \\right)} \\right)} & - \\sin{\\left(\\phi{\\left(t \\right)} \\right)} \\sin{\\left(\\psi{\\left(t \\right)} \\right)} \\sin{\\left(\\theta{\\left(t \\right)} \\right)} + \\cos{\\left(\\phi{\\left(t \\right)} \\right)} \\cos{\\left(\\psi{\\left(t \\right)} \\right)}\\end{matrix}\\right]$"
      ],
      "text/plain": [
       "Matrix([\n",
       "[ cos(\\psi(t))*cos(\\theta(t)), sin(\\phi(t))*sin(\\psi(t)) - sin(\\theta(t))*cos(\\phi(t))*cos(\\psi(t)),               sin(\\psi(t))*cos(\\phi(t)) + sin(\\theta(t))*cos(\\psi(t))],\n",
       "[                sin(\\phi(t)),                                          cos(\\phi(t))*cos(\\theta(t)),                           -sin(\\phi(t))*cos(\\theta(t)) + sin(\\phi(t))],\n",
       "[-sin(\\psi(t))*cos(\\theta(t)), sin(\\phi(t))*cos(\\psi(t)) + sin(\\psi(t))*sin(\\theta(t))*cos(\\phi(t)), -sin(\\phi(t))*sin(\\psi(t))*sin(\\theta(t)) + cos(\\phi(t))*cos(\\psi(t))]])"
      ]
     },
     "metadata": {},
     "output_type": "display_data"
    },
    {
     "data": {
      "text/latex": [
       "$\\displaystyle \\left[\\begin{matrix}\\operatorname{V_{x}}{\\left(t \\right)}\\\\\\operatorname{V_{y}}{\\left(t \\right)}\\\\\\operatorname{V_{z}}{\\left(t \\right)}\\end{matrix}\\right]$"
      ],
      "text/plain": [
       "Matrix([\n",
       "[V_x(t)],\n",
       "[V_y(t)],\n",
       "[V_z(t)]])"
      ]
     },
     "metadata": {},
     "output_type": "display_data"
    },
    {
     "data": {
      "text/latex": [
       "$\\displaystyle \\left[\\begin{matrix}\\cos{\\left(sphi \\right)} \\cos{\\left(stta \\right)} & \\sin{\\left(sphi \\right)} \\sin{\\left(spsi \\right)} - \\sin{\\left(stta \\right)} \\cos{\\left(sphi \\right)} \\cos{\\left(spsi \\right)} & \\sin{\\left(sphi \\right)} \\cos{\\left(spsi \\right)} + \\sin{\\left(stta \\right)} \\cos{\\left(sphi \\right)}\\\\\\sin{\\left(spsi \\right)} & \\cos{\\left(spsi \\right)} \\cos{\\left(stta \\right)} & - \\sin{\\left(spsi \\right)} \\cos{\\left(stta \\right)} + \\sin{\\left(spsi \\right)}\\\\- \\sin{\\left(sphi \\right)} \\cos{\\left(stta \\right)} & \\sin{\\left(sphi \\right)} \\sin{\\left(stta \\right)} \\cos{\\left(spsi \\right)} + \\sin{\\left(spsi \\right)} \\cos{\\left(sphi \\right)} & - \\sin{\\left(sphi \\right)} \\sin{\\left(spsi \\right)} \\sin{\\left(stta \\right)} + \\cos{\\left(sphi \\right)} \\cos{\\left(spsi \\right)}\\end{matrix}\\right]$"
      ],
      "text/plain": [
       "Matrix([\n",
       "[ cos(sphi)*cos(stta), sin(sphi)*sin(spsi) - sin(stta)*cos(sphi)*cos(spsi),            sin(sphi)*cos(spsi) + sin(stta)*cos(sphi)],\n",
       "[           sin(spsi),                                 cos(spsi)*cos(stta),                     -sin(spsi)*cos(stta) + sin(spsi)],\n",
       "[-sin(sphi)*cos(stta), sin(sphi)*sin(stta)*cos(spsi) + sin(spsi)*cos(sphi), -sin(sphi)*sin(spsi)*sin(stta) + cos(sphi)*cos(spsi)]])"
      ]
     },
     "metadata": {},
     "output_type": "display_data"
    },
    {
     "name": "stdout",
     "output_type": "stream",
     "text": [
      "<function _lambdifygenerated at 0x00000132801E99D8>\n",
      "[[ 0.29192658  0.46242567  0.90929743]\n",
      " [ 0.84147098  0.29192658  0.38682227]\n",
      " [-0.45464871  0.83722241 -0.30389665]]\n"
     ]
    }
   ],
   "source": [
    "Rot_ = sp.Matrix([[sp.cos(tta)*sp.cos(psi),sp.sin(psi)*sp.sin(phi)-sp.sin(tta)*sp.cos(psi)*sp.cos(phi),sp.sin(psi)*sp.cos(phi)+sp.sin(tta)*sp.cos(psi)],\n",
    "                 [sp.sin(phi),sp.cos(tta)*sp.cos(phi),sp.sin(phi)-sp.cos(tta)*sp.sin(phi)],\n",
    "                 [-sp.cos(tta)*sp.sin(psi),sp.cos(psi)*sp.sin(phi)+sp.sin(tta)*sp.sin(psi)*sp.cos(phi),sp.cos(psi)*sp.cos(phi)-sp.sin(tta)*sp.sin(psi)*sp.sin(phi)]])\n",
    "V_ = sp.Matrix([[Vx, Vy, Vz]]).T\n",
    "velState_ = Rot_@V_ # wektor stanu pochodnych położenia\n",
    "\n",
    "stta, sphi, spsi = sp.symbols('stta spsi sphi')\n",
    "\n",
    "slim = Rot_.subs(tta, stta)\n",
    "slim = slim.subs(psi, spsi)\n",
    "slim = slim.subs(phi, sphi)\n",
    "display(Rot_,V_)\n",
    "\n",
    "display(slim)\n",
    "R_f = sp.lambdify([spsi, stta, sphi], slim)\n",
    "print(R_f)\n",
    "print(R_f(1,1,1))\n"
   ]
  },
  {
   "cell_type": "markdown",
   "metadata": {},
   "source": [
    "Opis kinematyki AUV - rozdział 2.1 (2)  $\\BM \\dot{\\psi}\\\\\\dot{\\theta}\\\\\\dot{\\phi} \\EBM$"
   ]
  },
  {
   "cell_type": "code",
   "execution_count": 6,
   "metadata": {},
   "outputs": [],
   "source": [
    "Rot2_ = sp.Matrix([[0,sp.sec(tta)*sp.cos(phi),sp.sec(tta)*sp.sin(phi)],\n",
    "                   [0,sp.sin(phi),sp.cos(phi)],\n",
    "                   [1,-sp.tan(tta)*sp.cos(phi),sp.tan(tta)*sp.sin(phi)]])\n",
    "Om_ = sp.Matrix([[Omx,Omy,Omz]]).T\n",
    "dAngState_ = Rot2_@Om_\n",
    "#display(Rot2_,Om_)"
   ]
  },
  {
   "cell_type": "markdown",
   "metadata": {},
   "source": [
    "Równania dynamiki - rozdział 2.1 (3)"
   ]
  },
  {
   "cell_type": "code",
   "execution_count": 7,
   "metadata": {},
   "outputs": [],
   "source": [
    "dVx_ = (T-0.5*Ca_xs*rho*V**2*S-dG*sp.sin(tta))/(m + lam11)\n",
    "dVy_ = (-(m*xc+lam26)*dOmz-m*Vx*Omz+0.5*rho*V**2*S*(Ca_y*alpha+Cde_y*de+Cwz_y*Omz)-dG*sp.cos(tta)*sp.cos(phi))/(m + lam22)\n",
    "dVz_ = ((m*xc-lam35)*dOmy+m*Vx*Omy+0.5*rho*V**2*S*(Cb_z*beta+Cdr_z+Cwy_z)+dG*sp.cos(tta)*sp.sin(phi))/(m + lam22)\n",
    "dOmx_ = (m*Vx*(yc*Omx+zc*Omx)+0.5*rho*V**2*S*L*(mb_x*beta+mdr_x*dr+mdd_x*dd+mox_x*Omx+moy_y*Omy)+G*sp.cos(tta)*(yc*sp.sin(phi)+zc*sp.cos(phi))+dMxp)/(Jxx+lam44)\n",
    "dOmy_ = (-m*Vx*xc*Omy+(m*xc-lam35)*dVz+0.5*rho*V**2*S*L*(mb_y*beta+mdr_y*dr+mox_y*Omx+moy_y*Omy)-G*(xc*sp.cos(tta)*sp.sin(phi)+zc*sp.sin(tta)))/(Jyy+lam55)\n",
    "dOmz_ = (-m*Vx*xc*Omz-(m*xc+lam26)*dVy+0.5*rho*V**2*S*L*(ma_z*alpha+mde_z*de+moz_z*Omz)+G*(yc*sp.sin(tta)-xc*sp.cos(tta)*sp.cos(phi)))/(Jzz+lam66)\n",
    "#display(dVx_,dVy_,dVz_,dOmx_,dOmy_,dOmz_)"
   ]
  },
  {
   "cell_type": "markdown",
   "metadata": {},
   "source": [
    "Obliczenie prędkości - rozdział 2.1 "
   ]
  },
  {
   "cell_type": "code",
   "execution_count": 8,
   "metadata": {},
   "outputs": [],
   "source": [
    "V_ = sp.sqrt(Vx**2+Vy**2+Vz**2)\n",
    "podstaw.update({V:V_})\n",
    "#display(V_)"
   ]
  },
  {
   "cell_type": "markdown",
   "metadata": {},
   "source": [
    "Równania dynamiki i kinematyki kąta odchylenia - rozdział 2.2 (4)"
   ]
  },
  {
   "cell_type": "code",
   "execution_count": 9,
   "metadata": {},
   "outputs": [],
   "source": [
    "dPsi_ = Omy\n",
    "dOmy_ = c1*Omy + c2*beta + c3*dr + f + d \n",
    "#display(dPsi_, dOmy_)"
   ]
  },
  {
   "cell_type": "markdown",
   "metadata": {},
   "source": [
    "Kompaktowa forma wzoru (4) - rozdział 2.2 (5)"
   ]
  },
  {
   "cell_type": "code",
   "execution_count": 10,
   "metadata": {},
   "outputs": [
    {
     "data": {
      "text/latex": [
       "$\\displaystyle \\left[\\begin{matrix}D + \\beta c_{2} + \\delta_r c_{3} + c_{1} \\omega_{y}{\\left(t \\right)}\\end{matrix}\\right]$"
      ],
      "text/plain": [
       "Matrix([[D + \\beta*c_2 + \\delta_r*c_3 + c_1*\\omega_y(t)]])"
      ]
     },
     "metadata": {},
     "output_type": "display_data"
    }
   ],
   "source": [
    "h_ = sp.Matrix([[c1,c2]]).T\n",
    "PHI_ = sp.Matrix([[Omy,beta]]).T\n",
    "dOmy2_ = sp.Transpose(h_)@PHI_ + sp.Matrix([[c3*dr]]) + sp.Matrix([[D]])\n",
    "display(dOmy2_)"
   ]
  },
  {
   "cell_type": "markdown",
   "metadata": {},
   "source": [
    "Definicja błędwów śledzenia trajektorii zadanej - rozdział 2.2 (6)"
   ]
  },
  {
   "cell_type": "code",
   "execution_count": 11,
   "metadata": {},
   "outputs": [
    {
     "data": {
      "text/latex": [
       "$\\displaystyle e$"
      ],
      "text/plain": [
       "e"
      ]
     },
     "metadata": {},
     "output_type": "display_data"
    },
    {
     "data": {
      "text/latex": [
       "$\\displaystyle - \\dot{\\Psi}_d + \\omega_{y}{\\left(t \\right)}$"
      ],
      "text/plain": [
       "-\\dot{\\Psi}_d + \\omega_y(t)"
      ]
     },
     "metadata": {},
     "output_type": "display_data"
    }
   ],
   "source": [
    "e_ = psi - PSId\n",
    "edot_ = Omy - PSIddot\n",
    "podstaw.update({e:e_,edot:edot_})\n",
    "display(e,edot_)"
   ]
  },
  {
   "cell_type": "markdown",
   "metadata": {},
   "source": [
    "Sterowanie ślizgowe - rozdział 3 (7)"
   ]
  },
  {
   "cell_type": "code",
   "execution_count": 12,
   "metadata": {},
   "outputs": [
    {
     "data": {
      "text/latex": [
       "$\\displaystyle \\dot{e} + \\lambda e$"
      ],
      "text/plain": [
       "\\dot{e} + \\lambda*e"
      ]
     },
     "metadata": {},
     "output_type": "display_data"
    }
   ],
   "source": [
    "s_ = edot + lam*e\n",
    "display(s_)"
   ]
  },
  {
   "cell_type": "markdown",
   "metadata": {},
   "source": [
    "Prawo sterowania - rozdział 3 (13)"
   ]
  },
  {
   "cell_type": "code",
   "execution_count": 13,
   "metadata": {},
   "outputs": [],
   "source": [
    "znak = sp.sign(s) \n",
    "Lest_ = -tau*s - k*znak - hhat*PHI - rhohat*znak + PSIdbis - lam*(Omy - PSIddot)\n",
    "dr_ = bhat*Lest\n",
    "podstaw.update({Lest:Lest_})\n",
    "#display(dr_,Lest_)"
   ]
  },
  {
   "cell_type": "markdown",
   "metadata": {},
   "source": [
    "Prawo adaptacji - rozdział 3 (14)"
   ]
  },
  {
   "cell_type": "code",
   "execution_count": 14,
   "metadata": {},
   "outputs": [],
   "source": [
    "h1hatdot_ = k1*Omy*s\n",
    "h2hatdot_ = k1*beta*s\n",
    "hhatdot_ = sp.Matrix([[h1hatdot_,h2hatdot_]]).T\n",
    "bhatdot_ = - k2*Lest*s\n",
    "rhohatdot_ = k3*sp.Abs(s)\n",
    "#display(hhatdot_,bhatdot_,rhohatdot_)"
   ]
  },
  {
   "cell_type": "markdown",
   "metadata": {},
   "source": [
    "Saturacja sygnału - rozdział 3 (19)"
   ]
  },
  {
   "cell_type": "code",
   "execution_count": 15,
   "metadata": {},
   "outputs": [],
   "source": [
    "def sat(sf_):\n",
    "    if (sf_ > Phib): return 1\n",
    "    elif (sf_ < -Phib): return -1\n",
    "    else: return 1/Phib"
   ]
  },
  {
   "cell_type": "markdown",
   "metadata": {},
   "source": [
    "Model sterowania z martwą strefą - sygnał sterujący - rozdział 4.1 (20)"
   ]
  },
  {
   "cell_type": "code",
   "execution_count": 16,
   "metadata": {},
   "outputs": [
    {
     "data": {
      "text/latex": [
       "$\\displaystyle \\sigma + m_{u} u$"
      ],
      "text/plain": [
       "\\sigma + m_u*u"
      ]
     },
     "metadata": {},
     "output_type": "display_data"
    }
   ],
   "source": [
    "dr2_ = mu*u + sig\n",
    "display(dr2_)"
   ]
  },
  {
   "cell_type": "code",
   "execution_count": 17,
   "metadata": {},
   "outputs": [],
   "source": [
    "mr=0.3\n",
    "ml=0.12\n",
    "br=1\n",
    "bl=1.3\n",
    "def mu(u_):\n",
    "    if(u_>0): return mr\n",
    "    if(u_<=0): return ml\n",
    "def sig(u_):\n",
    "    if(u_<=-bl): return -ml*bl\n",
    "    if(u_>-bl and  u_<=br): return mu(u_)*u_\n",
    "    if(u_>=br): return mr*br"
   ]
  },
  {
   "cell_type": "markdown",
   "metadata": {},
   "source": [
    "Obserwator zaburzeń - rozdział 4.2 (26)"
   ]
  },
  {
   "cell_type": "code",
   "execution_count": 18,
   "metadata": {},
   "outputs": [
    {
     "data": {
      "text/latex": [
       "$\\displaystyle - k_{06} \\left(\\hat{\\omega}_y - \\omega_{y}{\\left(t \\right)}\\right)$"
      ],
      "text/plain": [
       "-k_{06}*(\\hat{\\omega}_y - \\omega_y(t))"
      ]
     },
     "metadata": {},
     "output_type": "display_data"
    },
    {
     "data": {
      "text/latex": [
       "$\\displaystyle \\beta \\hat{c}_2 + \\hat{D} + \\hat{\\mu} u + \\hat{c}_1 \\omega_{y}{\\left(t \\right)} + \\hat{g} - k_{07} \\left(\\hat{\\omega}_y - \\omega_{y}{\\left(t \\right)}\\right)$"
      ],
      "text/plain": [
       "\\beta*\\hat{c}_2 + \\hat{D} + \\hat{\\mu}*u + \\hat{c}_1*\\omega_y(t) + \\hat{g} - k_{07}*(\\hat{\\omega}_y - \\omega_y(t))"
      ]
     },
     "metadata": {},
     "output_type": "display_data"
    }
   ],
   "source": [
    "Dhatdot_ = -k06*(Omyhat-Omy)\n",
    "Omyhatdot_ = Dhat + mihat*u +ghat + c1h*Omy + c2h*beta - k07*(Omyhat - Omy)\n",
    "display(Dhatdot_,Omyhatdot_)"
   ]
  },
  {
   "cell_type": "markdown",
   "metadata": {},
   "source": [
    "Projekt sterownika dla wejścia z martwą strefą - rozdział 4.3 (27)"
   ]
  },
  {
   "cell_type": "code",
   "execution_count": 19,
   "metadata": {},
   "outputs": [
    {
     "data": {
      "text/latex": [
       "$\\displaystyle L_{1est} \\hat{b}_1$"
      ],
      "text/plain": [
       "L_{1est}*\\hat{b}_1"
      ]
     },
     "metadata": {},
     "output_type": "display_data"
    },
    {
     "data": {
      "text/latex": [
       "$\\displaystyle - \\Phi \\hat{h} + \\ddot{\\Psi}_d - \\hat{D} - \\hat{\\rho} \\operatorname{sign}{\\left(s \\right)} - \\hat{g} - \\lambda \\left(- \\dot{\\Psi}_d + \\omega_{y}{\\left(t \\right)}\\right) - \\tau s - k \\operatorname{sign}{\\left(s \\right)}$"
      ],
      "text/plain": [
       "-\\Phi*\\hat{h} + \\ddot{\\Psi}_d - \\hat{D} - \\hat{\\rho}*sign(s) - \\hat{g} - \\lambda*(-\\dot{\\Psi}_d + \\omega_y(t)) - \\tau*s - k*sign(s)"
      ]
     },
     "metadata": {},
     "output_type": "display_data"
    }
   ],
   "source": [
    "u_ = b1hat*L1est\n",
    "hp = hhat*PHI\n",
    "L1est1_ = -tau*s - k*sp.sign(s) - hp - ghat - Dhat - rhohat*sp.sign(s) + PSIdbis - lam*(Omy - PSIddot)\n",
    "hp = c1h*Omy + c2h*beta\n",
    "L1est_ = -tau*s - k*sp.sign(s) - hp - ghat - Dhat - rhohat*sp.sign(s) + PSIdbis - lam*(Omy - PSIddot)\n",
    "podstaw.update({u:u_,L1est:L1est_})\n",
    "display(u_,L1est1_)"
   ]
  },
  {
   "cell_type": "markdown",
   "metadata": {},
   "source": [
    "Prawo adaptacji - rozdział 4.3 (30)"
   ]
  },
  {
   "cell_type": "code",
   "execution_count": 20,
   "metadata": {
    "scrolled": true
   },
   "outputs": [
    {
     "data": {
      "text/latex": [
       "$\\displaystyle \\left[\\begin{matrix}k_{01} s \\omega_{y}{\\left(t \\right)} - k_{01} \\left(\\hat{\\omega}_y - \\omega_{y}{\\left(t \\right)}\\right) \\omega_{y}{\\left(t \\right)}\\\\\\beta k_{01} s - \\beta k_{01} \\left(\\hat{\\omega}_y - \\omega_{y}{\\left(t \\right)}\\right)\\end{matrix}\\right]$"
      ],
      "text/plain": [
       "Matrix([\n",
       "[k_{01}*s*\\omega_y(t) - k_{01}*(\\hat{\\omega}_y - \\omega_y(t))*\\omega_y(t)],\n",
       "[            \\beta*k_{01}*s - \\beta*k_{01}*(\\hat{\\omega}_y - \\omega_y(t))]])"
      ]
     },
     "metadata": {},
     "output_type": "display_data"
    },
    {
     "data": {
      "text/latex": [
       "$\\displaystyle - L_{1est} k_{02} s$"
      ],
      "text/plain": [
       "-L_{1est}*k_{02}*s"
      ]
     },
     "metadata": {},
     "output_type": "display_data"
    },
    {
     "data": {
      "text/latex": [
       "$\\displaystyle k_{03} \\left|{s}\\right|$"
      ],
      "text/plain": [
       "k_{03}*Abs(s)"
      ]
     },
     "metadata": {},
     "output_type": "display_data"
    },
    {
     "data": {
      "text/latex": [
       "$\\displaystyle k_{04} s - k_{04} \\left(\\hat{\\omega}_y - \\omega_{y}{\\left(t \\right)}\\right)$"
      ],
      "text/plain": [
       "k_{04}*s - k_{04}*(\\hat{\\omega}_y - \\omega_y(t))"
      ]
     },
     "metadata": {},
     "output_type": "display_data"
    },
    {
     "data": {
      "text/latex": [
       "$\\displaystyle - k_{05} u \\left(\\hat{\\omega}_y - \\omega_{y}{\\left(t \\right)}\\right)$"
      ],
      "text/plain": [
       "-k_{05}*u*(\\hat{\\omega}_y - \\omega_y(t))"
      ]
     },
     "metadata": {},
     "output_type": "display_data"
    }
   ],
   "source": [
    "h12hatdot_ = k01*Omy*s - k01*(Omyhat-Omy)*Omy\n",
    "h22hatdot_ = k01*beta*s - k01*(Omyhat-Omy)*beta\n",
    "h1hatdot_ = sp.Matrix([[h12hatdot_,h22hatdot_]]).T\n",
    "b1hatdot_ = -k02*L1est*s\n",
    "rho1hatdot_ = k03*sp.Abs(s)\n",
    "ghatdot_ = k04*s - k04*(Omyhat-Omy)\n",
    "midothat_ = -k05*(Omyhat-Omy)*u\n",
    "display(h1hatdot_,b1hatdot_,rho1hatdot_,ghatdot_,midothat_)"
   ]
  },
  {
   "cell_type": "markdown",
   "metadata": {},
   "source": [
    "Sterowanie z nasyceniem - rozdział 4.4 \n",
    "Charakterystyka saturacji (35)"
   ]
  },
  {
   "cell_type": "code",
   "execution_count": 21,
   "metadata": {},
   "outputs": [],
   "source": [
    "drm = 12*np.pi/180\n",
    "def drsat(u_):\n",
    "    if(u_>drm): return drm\n",
    "    if(u_<=drm and u_>=-drm): return u_\n",
    "    if(u_<-drm): return -drm"
   ]
  },
  {
   "cell_type": "markdown",
   "metadata": {},
   "source": [
    "Kompensator anti-windup - rozdział 4.4 (36)"
   ]
  },
  {
   "cell_type": "code",
   "execution_count": 22,
   "metadata": {},
   "outputs": [],
   "source": [
    "du_ = dr-u\n",
    "w_ = -kwindup*w - w*(sp.Abs(c3b*s*du)+0.5*du**2)/(sp.Abs(w)**2)+du \n",
    "podstaw.update({du:du_,w:w_})\n",
    "#display(w_)"
   ]
  },
  {
   "cell_type": "markdown",
   "metadata": {},
   "source": [
    "Prawo sterowania - rozdział 4.4 (37)"
   ]
  },
  {
   "cell_type": "code",
   "execution_count": 23,
   "metadata": {},
   "outputs": [],
   "source": [
    "u2_ = b2*L2est\n",
    "b2_ = 1/c3\n",
    "L2est_ = -tau*(s - w) - k*sp.sign(s) - hhat*PHI - ghat - Dhat - rhohat*znak + PSIdbis - lam*(Omy - PSIddot)\n",
    "podstaw.update({b2:b2_,L2est:L2est_})\n",
    "#display(u2_,L2est_)"
   ]
  },
  {
   "cell_type": "markdown",
   "metadata": {},
   "source": [
    "Obserwator zakłóceń - rozdział 4.4 (38)"
   ]
  },
  {
   "cell_type": "code",
   "execution_count": 24,
   "metadata": {},
   "outputs": [],
   "source": [
    "D2hatdot_ = -k06*(Omyhat-Omy)\n",
    "Omy2hatdot_ = Dhat + c3h*dr + hhat*PHI - k07*(Omyhat - Omy)\n",
    "#display(D2hatdot_,Omy2hatdot_)"
   ]
  },
  {
   "cell_type": "markdown",
   "metadata": {},
   "source": [
    "Prawo adaptacji - rozdział 4.4 (39)"
   ]
  },
  {
   "cell_type": "code",
   "execution_count": 25,
   "metadata": {},
   "outputs": [],
   "source": [
    "h31hatdot_ = k01*Omy*s - k01*Omy*(Omyhat - Omy)\n",
    "h32hatdot_ = k01*beta*s - k01*beta*(Omyhat - Omy)\n",
    "h3_ = sp.Matrix([[h31hatdot_,h32hatdot_]]).T\n",
    "b2dothat_ = -k02*L2est*s\n",
    "rho2hatdot_ = k03*sp.Abs(s)\n",
    "c3hatdot_ = -(Omyhat - Omy)*dr\n",
    "#display(h3_,b2dothat_,rho2hatdot_,c3hatdot_)"
   ]
  },
  {
   "cell_type": "markdown",
   "metadata": {},
   "source": [
    "Zewnętrzne zaburzenie - rozdział 5"
   ]
  },
  {
   "cell_type": "code",
   "execution_count": 26,
   "metadata": {},
   "outputs": [],
   "source": [
    "dis_ = 0.55*sp.sin(0.01*t) + 0.33*sp.sin(0.1*t) + 0.25*sp.cos(0.02*t) + 0.3*sp.sin(0.1*t)*sp.cos(0.2*t)\n",
    "dis_f = sp.lambdify([t], dis_)\n",
    "#display(dis_)"
   ]
  },
  {
   "cell_type": "markdown",
   "metadata": {},
   "source": [
    "Wymuszenie - rozdział 5"
   ]
  },
  {
   "cell_type": "code",
   "execution_count": 27,
   "metadata": {},
   "outputs": [],
   "source": [
    "Trec = 50 #okres sygnału prostokątnego\n",
    "Amp = 28.7 #amplituda sygnału prostokątnego\n",
    "def Rectangle(t_):\n",
    "    tmp = t_%Trec\n",
    "    if(tmp<0.5*Trec): return 0\n",
    "    if(tmp>=0.5*Trec): return Amp"
   ]
  },
  {
   "cell_type": "markdown",
   "metadata": {},
   "source": [
    "## Wartości zmiennych symbolicznych"
   ]
  },
  {
   "cell_type": "code",
   "execution_count": 28,
   "metadata": {},
   "outputs": [],
   "source": [
    "params ={c1:-4.695,c2:10.735,c3:1.8207,c4:0.2623,c5:-1.274,c6:-0.102}#nominalne parametry modelu\n",
    "params.update({psi_0:10*np.pi/180,Omy_0:3*np.pi/180})#wartości początkowe\n",
    "params.update({c1h_0:-1, c2h_0:2, c3h_0:0, rhoh_0:0.5, bh_0:0, gh_0:0, mih_0:0, Omyh_0:0, Dh_0:0.6})#wart. pocz. estymat\n",
    "params.update({mr:0.3, ml:0.12, br:1, bl:1.3})#wart. saturacji i martwej strefy\n",
    "params.update({k1:60, k2:60, k3:60, k01:60, k02:60, k03:60, k04:60, k05:60, k06:1, k07:1})#wzmocnienie poch. estymat\n",
    "params.update({k:0.02, kwindup:20,tau:20,lam:1})\n",
    "params.update({drm:12*np.pi/180})"
   ]
  },
  {
   "cell_type": "markdown",
   "metadata": {},
   "source": [
    "Funkcje numeryczne"
   ]
  },
  {
   "cell_type": "code",
   "execution_count": 29,
   "metadata": {},
   "outputs": [],
   "source": [
    "#dr2_num = sp.lambdify((sig,u,mu),dr2_.subs(params))\n",
    "s_num = sp.lambdify((Omy,psi,PSId,PSIddot),s_.subs(podstaw).subs(params))\n",
    "u_num = sp.lambdify((b1hat,PSIdbis,PSIddot,Dhat,rhohat,s,c1h,Omy,c2h,ghat),u.subs(podstaw).subs(podstaw).subs(podstaw).subs(params))\n",
    "Dhatdot_num = sp.lambdify((Omy,Omyhat),Dhatdot_.subs(params))\n",
    "Omyhatdot_num = sp.lambdify((Dhat,mihat,b1hat,PSIdbis,PSIddot,rhohat,s,c1h,c2h,Omy,Omyhat,ghat),Omyhatdot_.subs(podstaw).subs(podstaw).subs(podstaw).subs(params))\n",
    "h12hatdot_num = sp.lambdify((Omy,Omyhat),h12hatdot_.subs(podstaw).subs(podstaw).subs(podstaw).subs(params))\n",
    "h22hatdot_num = sp.lambdify((s,Omy,Omyhat),h22hatdot_.subs(podstaw).subs(podstaw).subs(podstaw).subs(params))\n",
    "b1hatdot_num = sp.lambdify((s,PSIddot,PSIdbis,Dhat,rhohat,c1h,c2h,Omy,ghat),b1hatdot_.subs(podstaw).subs(podstaw).subs(podstaw).subs(params))\n",
    "rho1hatdot_num = sp.lambdify((s),rho1hatdot_.subs(podstaw).subs(podstaw).subs(podstaw).subs(params))#\n",
    "ghatdot_num = sp.lambdify((s,Omy,Omyhat),ghatdot_.subs(podstaw).subs(podstaw).subs(podstaw).subs(params))#\n",
    "midothat_num = sp.lambdify((s,b1hat,Omy,Omyhat,PSIddot,PSIdbis,Dhat,rhohat,c1h,c2h,ghat),midothat_.subs(podstaw).subs(podstaw).subs(podstaw).subs(params))\n",
    "dPsi_num = sp.lambdify((Omy),dPsi_)\n",
    "dOmy2_num = sp.lambdify((D,dr,Omy),dOmy2_.subs(podstaw).subs(podstaw).subs(podstaw).subs(params))\n",
    "dis_num = sp.lambdify((t),dis_)"
   ]
  },
  {
   "cell_type": "code",
   "execution_count": 30,
   "metadata": {},
   "outputs": [
    {
     "data": {
      "image/png": "[encoded data removed]",
      "text/plain": [
       "<Figure size 432x288 with 1 Axes>"
      ]
     },
     "metadata": {
      "needs_background": "light"
     },
     "output_type": "display_data"
    },
    {
     "data": {
      "image/png": "[encoded data removed]",
      "text/plain": [
       "<Figure size 432x288 with 1 Axes>"
      ]
     },
     "metadata": {
      "needs_background": "light"
     },
     "output_type": "display_data"
    },
    {
     "data": {
      "image/png": "[encoded data removed]",
      "text/plain": [
       "<Figure size 432x288 with 1 Axes>"
      ]
     },
     "metadata": {
      "needs_background": "light"
     },
     "output_type": "display_data"
    },
    {
     "data": {
      "image/png": "[encoded data removed]",
      "text/plain": [
       "<Figure size 432x288 with 1 Axes>"
      ]
     },
     "metadata": {
      "needs_background": "light"
     },
     "output_type": "display_data"
    }
   ],
   "source": [
    "\n",
    "tn = 0.002\n",
    "pps = int(np.trunc(1/tn))\n",
    "sim_time = 100\n",
    "\n",
    "trajectory_points_count=pps*sim_time\n",
    "tpc = trajectory_points_count\n",
    "time_space = np.linspace(0,sim_time, trajectory_points_count, False)\n",
    "\n",
    "\n",
    "period = 50\n",
    "amp = 30\n",
    "rect_sig = lambda t: 0 if t-(t//period)*period < period*0.5 else amp\n",
    "\n",
    "rect = np.vectorize(rect_sig)(time_space)\n",
    "psi_reference = np.zeros(trajectory_points_count)\n",
    "psi_reference_dot = np.zeros(trajectory_points_count)\n",
    "psi_reference_dot_dot = np.zeros(trajectory_points_count)\n",
    "psi_dot_last = 0\n",
    "psi_last = 10\n",
    "psi_now = 0\n",
    "\n",
    "k = 1\n",
    "T = 0.6\n",
    "\n",
    "# przepuszczenie funkcji prostokątnej przez obiekt inercyjny, aby nadać mu krągłości xd,\n",
    "# ale wsumie to jest to chyba potrzebne żeby różniczka z niego wykorzystywane w różniczce uchybu nie była zjebana\n",
    "\n",
    "dlugosc = 1000\n",
    "spoints = 400\n",
    "sinc_space = np.linspace(-dlugosc, dlugosc, spoints)\n",
    "sinc = np.sinc(sinc_space)\n",
    "\n",
    "plt.plot(sinc_space, sinc)\n",
    "plt.show()\n",
    "\n",
    "for i in range(trajectory_points_count):\n",
    "    x_now = rect[i]\n",
    "    psi_now = (k*x_now - psi_last)/T * tn + psi_last\n",
    "    \n",
    "    psi_reference[i] = psi_now\n",
    "    psi_last = psi_now\n",
    "\n",
    "a = np.ones(spoints//2)*10\n",
    "b = psi_reference\n",
    "c = np.ones(spoints//2-1)*amp\n",
    "\n",
    "d = np.concatenate((a, b, c), axis=None)\n",
    "ref_sinc = np.convolve(d, sinc, 'valid')* 2*np.pi/360 * 5.0   \n",
    "# a jeszcze pozamieniam  na radiany\n",
    "rect = rect * 2*np.pi/360\n",
    "psi_reference = ref_sinc\n",
    "\n",
    "psi_dot_last = 0\n",
    "psi_last = 10\n",
    "\n",
    "for n in range(trajectory_points_count):\n",
    "\n",
    "    psi_dot_now = (psi_reference[n] - psi_last)/tn\n",
    "    psi_reference_dot[n] = psi_dot_now\n",
    "    psi_reference_dot_dot[n] = (psi_dot_now - psi_dot_last)/tn\n",
    "    psi_dot_last = psi_dot_now\n",
    "    \n",
    "    psi_last = psi_reference[n]\n",
    "\n",
    "    \n",
    "\n",
    "plt.plot(time_space, rect)\n",
    "plt.plot(time_space, psi_reference)\n",
    "plt.show()\n",
    "\n",
    "let = 3\n",
    "\n",
    "a = np.zeros(let+1)\n",
    "psi_reference_dot = np.concatenate((a,psi_reference_dot[let:-1]))\n",
    "\n",
    "a = np.zeros(let+1)\n",
    "psi_reference_dot_dot = np.concatenate((a,psi_reference_dot_dot[let:-1]))\n",
    "\n",
    "plt.plot(time_space, psi_reference_dot)\n",
    "plt.show()\n",
    "\n",
    "plt.plot(time_space, psi_reference_dot_dot)\n",
    "plt.show()\n",
    "\n"
   ]
  },
  {
   "cell_type": "code",
   "execution_count": 31,
   "metadata": {},
   "outputs": [
    {
     "data": {
      "image/png": "[encoded data removed]",
      "text/plain": [
       "<Figure size 432x288 with 1 Axes>"
      ]
     },
     "metadata": {
      "needs_background": "light"
     },
     "output_type": "display_data"
    },
    {
     "data": {
      "image/png": "[encoded data removed]",
      "text/plain": [
       "<Figure size 432x288 with 1 Axes>"
      ]
     },
     "metadata": {
      "needs_background": "light"
     },
     "output_type": "display_data"
    }
   ],
   "source": [
    "# w artykule nie ma nic o źródle pochodzenia w_x w_z v_x v_y v_z takżę pizgnę sobie je z czapy ignorując\n",
    "# ich potencjalną dynamikę czy wymuszenie\n",
    "\n",
    "# spreparowane velocities\n",
    "f_mult = 0.43\n",
    "ve_x = np.sin(time_space*np.pi*0.13*f_mult)*0.02 + 0.03\n",
    "ve_y = np.sin(time_space*np.pi*0.051*f_mult)*0.05\n",
    "ve_z = np.sin(time_space*np.pi*0.081*f_mult)*0.07\n",
    "# W metrach na sekundę\n",
    "\n",
    "plt.plot(time_space, ve_x)\n",
    "plt.plot(time_space, ve_y)\n",
    "plt.plot(time_space, ve_z)\n",
    "plt.legend(['x', 'y', 'z'])\n",
    "plt.show()\n",
    "\n",
    "# spreparowane współczynniki alfa i beta\n",
    "alpha_prep = np.zeros(tpc)\n",
    "beta_prep = np.zeros(tpc)\n",
    "\n",
    "for n in range(tpc):\n",
    "    alpha_prep[n] = alpha_f(ve_x[n], ve_y[n])\n",
    "    beta_prep[n] = beta_f(ve_x[n], ve_y[n], ve_z[n])\n",
    "    \n",
    "plt.plot(time_space, alpha_prep)\n",
    "plt.plot(time_space, beta_prep)\n",
    "plt.legend(['alpha', 'beta'])\n",
    "plt.show()\n",
    "\n",
    "\n",
    "    "
   ]
  },
  {
   "cell_type": "code",
   "execution_count": 32,
   "metadata": {},
   "outputs": [
    {
     "data": {
      "image/png": "[encoded data removed]",
      "text/plain": [
       "<Figure size 432x288 with 1 Axes>"
      ]
     },
     "metadata": {
      "needs_background": "light"
     },
     "output_type": "display_data"
    }
   ],
   "source": [
    "# spreparowane angular velocities\n",
    "ave_x = np.sin(time_space*np.pi*0.041*f_mult)*0.05\n",
    "ave_z = np.sin(time_space*np.pi*0.037*f_mult)*0.07\n",
    "# w radianach na sekundę\n",
    "\n",
    "plt.plot(time_space, ave_x)\n",
    "plt.plot(time_space, ave_z)\n",
    "plt.show()"
   ]
  },
  {
   "cell_type": "code",
   "execution_count": 33,
   "metadata": {},
   "outputs": [
    {
     "name": "stdout",
     "output_type": "stream",
     "text": [
      "0\n",
      "5000\n",
      "10000\n"
     ]
    },
    {
     "name": "stderr",
     "output_type": "stream",
     "text": [
      "C:\\Users\\Wojciech\\anaconda3\\lib\\site-packages\\ipykernel_launcher.py:75: RuntimeWarning: invalid value encountered in add\n",
      "<string>:2: RuntimeWarning: invalid value encountered in cos\n",
      "<string>:2: RuntimeWarning: invalid value encountered in sin\n"
     ]
    },
    {
     "name": "stdout",
     "output_type": "stream",
     "text": [
      "15000\n",
      "20000\n",
      "25000\n",
      "30000\n",
      "35000\n",
      "40000\n",
      "45000\n"
     ]
    }
   ],
   "source": [
    "# tu będzei musiała się pojawić jednoczesna symulacja s, s_prim, e_prim, estymat, w_y oraz na wszelki wypadek macierzy rotacji \n",
    "# la grande simulatione xD\n",
    "k= 0.02\n",
    "\n",
    "k_1 = 60\n",
    "k_2 = 6\n",
    "k_3 = 60\n",
    "\n",
    "lambda_sim = 1\n",
    "tau = 20\n",
    "\n",
    "h_estim_sim_last = np.matrix([-1,2]).T\n",
    "b_estim_sim_last = 0\n",
    "p_estim_sim_last = 0.5\n",
    "\n",
    "psi_sim_last = 0.1745 # 10 stopni w radianach\n",
    "teta_sim_last = 0 #nie ma danych\n",
    "phi_sim_last = 0 #nie ma danych\n",
    "\n",
    "omega_y_sim_last = 0.0523 # 3 st/rad w radianach\n",
    "\n",
    "a_sim_last = np.matrix([psi_sim_last, teta_sim_last, phi_sim_last]).T\n",
    "s_sim_last = 0\n",
    "\n",
    "h1_estim_wykres = np.zeros(tpc)\n",
    "h2_estim_wykres = np.zeros(tpc)\n",
    "b_estim_wykres = np.zeros(tpc)\n",
    "p_estim_wykres = np.zeros(tpc)\n",
    "\n",
    "psi_wykres = np.zeros(tpc)\n",
    "omega_y_wykres = np.zeros(tpc)\n",
    "tau_wykres = np.zeros(tpc)\n",
    "s_wykres = np.zeros(tpc)\n",
    "\n",
    "c_3 = 1.8207\n",
    "\n",
    "mysing = lambda s: np.tanh(s)\n",
    "\n",
    "for n in range(tpc):\n",
    "    psi_male = np.matrix([omega_y_sim_last, beta_prep[n]]).T\n",
    "\n",
    "#     print(psi_sim_last)\n",
    "    s_sim = omega_y_sim_last - psi_reference_dot[n] + lambda_sim*(psi_sim_last - psi_reference[n])\n",
    "    \n",
    "    L_sim1 = -tau*s_sim\n",
    "    L_sim2 = - k*mysing(s_sim)\n",
    "    L_sim3 = - h_estim_sim_last.T*psi_male\n",
    "    L_sim4 = - p_estim_sim_last*mysing(s_sim)\n",
    "    L_sim5 = psi_reference_dot_dot[n]\n",
    "    L_sim6 = - lambda_sim*(omega_y_sim_last - psi_reference_dot[n])\n",
    "    \n",
    "    \n",
    "    L_sim = L_sim1 + L_sim2 + L_sim3 + L_sim4 + L_sim5 + L_sim6\n",
    "        \n",
    "    tmp = omega_y_sim_last\n",
    "    ave_sim = np.matrix([ave_x[n], tmp, ave_z[n]]).T\n",
    "    \n",
    "    h_estim_sim_now = (k_1 * psi_male * s_sim) * tn + h_estim_sim_last\n",
    "    b_estim_sim_now = (-k_2 * L_sim * s_sim) * tn + b_estim_sim_last\n",
    "    p_estim_sim_now = (k_3 * np.abs(s_sim)) * tn + p_estim_sim_last\n",
    "    \n",
    "\n",
    "#     print(a_sim_last)\n",
    "#     print(a_sim_last[0])\n",
    "#     print(a_sim_last[0].item())\n",
    "    a_sim1 = R_f(a_sim_last[0].item(), a_sim_last[1].item(), a_sim_last[2].item())\n",
    "    a_sim_now = a_sim1 * ave_sim * tn + a_sim_last\n",
    "    \n",
    "    \n",
    "    tau_ster = b_estim_sim_last * L_sim\n",
    "    \n",
    "# Dynamika nie uwzględnia f ponieważnie ma dokładnej informacji o niej\n",
    "# informację o tym należałoby wyciągnąć z dynamiki nie uporszczonej\n",
    "# a najlepiej zapytać promotora o co b\n",
    "    omega_y_sim_now = (h_estim_sim_last.T*psi_male + c_3*tau_ster + dis_f(time_space[n])) * tn + omega_y_sim_last\n",
    "    psi_sim_now = a_sim_now[0].item()\n",
    "    \n",
    "#     value check\n",
    "#     print('nowalinia--------------')\n",
    "#     print('s_sim', s_sim)\n",
    "#     print('L_sim', L_sim1,  L_sim2,  L_sim3,  L_sim4,  L_sim5,  L_sim6)\n",
    "#     print('h estim', h_estim_sim_now)\n",
    "#     print('b estim', b_estim_sim_now)\n",
    "#     print('p estim', p_estim_sim_now)\n",
    "    \n",
    "#     print(b_estim_sim_now)\n",
    "    h1_estim_wykres[n] = h_estim_sim_now[0].item()\n",
    "    h2_estim_wykres[n] = h_estim_sim_now[1].item()\n",
    "    b_estim_wykres[n] = b_estim_sim_now.item()\n",
    "    p_estim_wykres[n] = p_estim_sim_now.item()\n",
    "    \n",
    "    h_estim_sim_last = h_estim_sim_now\n",
    "    b_estim_sim_last = b_estim_sim_now\n",
    "    p_estim_sim_last = p_estim_sim_now\n",
    "    \n",
    "    \n",
    "    tau_wykres[n] = tau_ster.item()\n",
    "    omega_y_wykres[n] = omega_y_sim_now[0].item()\n",
    "    psi_wykres[n] = psi_sim_now\n",
    "    s_wykres[n] = s_sim\n",
    "    \n",
    "    omega_y_sim_last = omega_y_sim_now.item()\n",
    "    psi_sim_last = psi_sim_now\n",
    "    a_sim_last = a_sim_now\n",
    "    if n%(tpc//10) == 0:\n",
    "        print(n)\n",
    "    \n",
    "\n",
    "    "
   ]
  },
  {
   "cell_type": "code",
   "execution_count": 34,
   "metadata": {},
   "outputs": [
    {
     "data": {
      "image/png": "[encoded data removed]",
      "text/plain": [
       "<Figure size 432x288 with 1 Axes>"
      ]
     },
     "metadata": {
      "needs_background": "light"
     },
     "output_type": "display_data"
    },
    {
     "data": {
      "image/png": "[encoded data removed]",
      "text/plain": [
       "<Figure size 432x288 with 1 Axes>"
      ]
     },
     "metadata": {
      "needs_background": "light"
     },
     "output_type": "display_data"
    },
    {
     "data": {
      "image/png": "[encoded data removed]",
      "text/plain": [
       "<Figure size 432x288 with 1 Axes>"
      ]
     },
     "metadata": {
      "needs_background": "light"
     },
     "output_type": "display_data"
    },
    {
     "data": {
      "image/png": "[encoded data removed]",
      "text/plain": [
       "<Figure size 432x288 with 1 Axes>"
      ]
     },
     "metadata": {
      "needs_background": "light"
     },
     "output_type": "display_data"
    },
    {
     "data": {
      "image/png": "[encoded data removed]",
      "text/plain": [
       "<Figure size 432x288 with 1 Axes>"
      ]
     },
     "metadata": {
      "needs_background": "light"
     },
     "output_type": "display_data"
    },
    {
     "data": {
      "image/png": "[encoded data removed]",
      "text/plain": [
       "<Figure size 432x288 with 1 Axes>"
      ]
     },
     "metadata": {
      "needs_background": "light"
     },
     "output_type": "display_data"
    },
    {
     "data": {
      "image/png": "[encoded data removed]",
      "text/plain": [
       "<Figure size 432x288 with 1 Axes>"
      ]
     },
     "metadata": {
      "needs_background": "light"
     },
     "output_type": "display_data"
    }
   ],
   "source": [
    "last = (tpc//4)\n",
    "time_space1 = time_space[0:last]\n",
    "h1_estim_wykres1 = h1_estim_wykres[0:last]\n",
    "h2_estim_wykres1 = h2_estim_wykres[0:last]\n",
    "b_estim_wykres1 = b_estim_wykres[0:last]\n",
    "p_estim_wykres1 = p_estim_wykres[0:last]\n",
    "tau_wykres1 = tau_wykres[0:last]\n",
    "omega_y_wykres1 = omega_y_wykres[0:last]\n",
    "psi_wykres1 = psi_wykres[0:last]\n",
    "psi_ref1 = psi_reference[0:last]\n",
    "s_wykres1 = s_wykres[0:last]\n",
    "\n",
    "plt.plot(time_space1, h1_estim_wykres1, time_space1, h2_estim_wykres1)\n",
    "plt.show()\n",
    "\n",
    "plt.plot(time_space1, b_estim_wykres1)\n",
    "plt.show()\n",
    "\n",
    "plt.plot(time_space1, p_estim_wykres1)\n",
    "plt.show()\n",
    "\n",
    "plt.plot(time_space1, tau_wykres1)\n",
    "plt.show()\n",
    "\n",
    "plt.plot(time_space1, s_wykres1)\n",
    "plt.legend(['s'])\n",
    "plt.show()\n",
    "\n",
    "\n",
    "plt.plot(time_space1, omega_y_wykres1)\n",
    "plt.show()\n",
    "\n",
    "plt.plot(time_space1, psi_wykres1,time_space1, psi_ref1)\n",
    "plt.show()"
   ]
  },
  {
   "cell_type": "code",
   "execution_count": null,
   "metadata": {},
   "outputs": [],
   "source": []
  }
 ],
 "metadata": {
  "kernelspec": {
   "display_name": "Python 3",
   "language": "python",
   "name": "python3"
  },
  "language_info": {
   "codemirror_mode": {
    "name": "ipython",
    "version": 3
   },
   "file_extension": ".py",
   "mimetype": "text/x-python",
   "name": "python",
   "nbconvert_exporter": "python",
   "pygments_lexer": "ipython3",
   "version": "3.7.6"
  }
 },
 "nbformat": 4,
 "nbformat_minor": 4
}
