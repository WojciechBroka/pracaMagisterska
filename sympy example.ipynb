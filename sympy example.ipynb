{
 "cells": [
  {
   "cell_type": "markdown",
   "metadata": {},
   "source": [
    "### Definicja poniższej funkcji z wykorzystaniem `sympy`\n",
    "\n",
    "```python\n",
    "def r(t_):\n",
    "    return -theta_1*lambda_1*m.exp(-lambda_1*t_) - theta_2*lambda_2*m.exp(-lambda_2*t_) - theta_3*k3*m.exp(-k3*t_)\n",
    "```"
   ]
  },
  {
   "cell_type": "code",
   "execution_count": 1,
   "metadata": {},
   "outputs": [],
   "source": [
    "import sympy as sp"
   ]
  },
  {
   "cell_type": "code",
   "execution_count": 2,
   "metadata": {},
   "outputs": [],
   "source": [
    "# definicja symboli\n",
    "theta_1, theta_2, theta_3 = sp.symbols('\\\\theta_1 \\\\theta_2 \\\\theta_3')\n",
    "lambda_1, lambda_2 = sp.symbols('\\lambda_1 \\lambda_2')\n",
    "t_, k3 = sp.symbols('t k_3')\n",
    "\n",
    "# definicja wyrażenia r skopiowana ze skryptu ze zmianą m -> sp\n",
    "r = -theta_1*lambda_1*sp.exp(-lambda_1*t_) - theta_2*lambda_2*sp.exp(-lambda_2*t_) - theta_3*k3*sp.exp(-k3*t_)"
   ]
  },
  {
   "cell_type": "code",
   "execution_count": 3,
   "metadata": {},
   "outputs": [
    {
     "data": {
      "text/latex": [
       "$\\displaystyle - \\lambda_1 \\theta_1 e^{- \\lambda_1 t} - \\lambda_2 \\theta_2 e^{- \\lambda_2 t} - \\theta_3 k_{3} e^{- k_{3} t}$"
      ],
      "text/plain": [
       "-\\lambda_1*\\theta_1*exp(-\\lambda_1*t) - \\lambda_2*\\theta_2*exp(-\\lambda_2*t) - \\theta_3*k_3*exp(-k_3*t)"
      ]
     },
     "execution_count": 3,
     "metadata": {},
     "output_type": "execute_result"
    }
   ],
   "source": [
    "# wyświetl wyrażenie\n",
    "r"
   ]
  },
  {
   "cell_type": "markdown",
   "metadata": {},
   "source": [
    "Powyższa forma zdecydowania ułatwia \"odnalezienie\" się w implementowanym artykule i znalezienie ewentualnych błędów.\n",
    "\n",
    "Jeżeli chcemy skorzystać z wyrażenia 'r' jako funkcji zależnej od czasu, można wykorzystać `lambdify`:"
   ]
  },
  {
   "cell_type": "code",
   "execution_count": 4,
   "metadata": {},
   "outputs": [
    {
     "name": "stdout",
     "output_type": "stream",
     "text": [
      "-2.7720755086763038e-12\n"
     ]
    }
   ],
   "source": [
    "r_ = sp.lambdify((theta_1,theta_2,theta_3,lambda_1,lambda_2,k3,t_),r)\n",
    "\n",
    "# teraz r_ jest funkcją która przyjmuje 7 parametrów:\n",
    "print(r_(1,2,3,4,5,6,7))"
   ]
  },
  {
   "cell_type": "markdown",
   "metadata": {},
   "source": [
    "Bardziej czytelny sposób, wykorzystanie `subs` do podstawiania parametrów stałych:"
   ]
  },
  {
   "cell_type": "code",
   "execution_count": 5,
   "metadata": {},
   "outputs": [
    {
     "name": "stdout",
     "output_type": "stream",
     "text": [
      "-2.772075508676304e-12\n"
     ]
    }
   ],
   "source": [
    "# definicja \"pierwszej porcji\" parametrów\n",
    "params = {theta_1:1,theta_2:2,theta_3:3} \n",
    "# rozszerzenie zmiennej `params`\n",
    "params.update({lambda_1:4,lambda_2:5,k3:6})\n",
    "# definicja `r_` jako funkcji zależnej od tylko od `t_`\n",
    "r_ = sp.lambdify((t_),r.subs(params))\n",
    "\n",
    "# teraz r_ jest funkcją o parametrach zdefiniowanych w params,\n",
    "# przyjmująca jeden argument: t_\n",
    "print(r_(7))"
   ]
  },
  {
   "cell_type": "markdown",
   "metadata": {},
   "source": [
    "## Definicja symboli zależnych:"
   ]
  },
  {
   "cell_type": "code",
   "execution_count": 6,
   "metadata": {},
   "outputs": [],
   "source": [
    "# definicja zmiennej niezależnej\n",
    "t = sp.symbols('t') \n",
    "\n",
    "# definicja symboli typu 'funkcja', czyli zależnych\n",
    "# w cudzysłowach wykorzystywana jest notacja latexa,\n",
    "# podwójny '\\' przed 'theta' ponieważ '\\t' jest znakiem specjalnym\n",
    "phi, tta = sp.symbols('\\phi \\\\theta', cls=sp.Function) \n",
    "\n",
    "# definicja symboli niezależnych (np. niezmiennych w czasie)\n",
    "x,y = sp.symbols('x,y') \n",
    "\n",
    "# definicja wyrażenia f1\n",
    "f1 = x**2+phi(t)+tta(t)**3*y \n",
    "\n",
    "# pochodna wyrażenia f1 po t\n",
    "df1 = sp.diff(f1,t) "
   ]
  },
  {
   "cell_type": "code",
   "execution_count": 7,
   "metadata": {},
   "outputs": [
    {
     "data": {
      "text/latex": [
       "$\\displaystyle \\phi{\\left(t \\right)}$"
      ],
      "text/plain": [
       "\\phi(t)"
      ]
     },
     "execution_count": 7,
     "metadata": {},
     "output_type": "execute_result"
    }
   ],
   "source": [
    "phi(t)"
   ]
  },
  {
   "cell_type": "code",
   "execution_count": 8,
   "metadata": {},
   "outputs": [
    {
     "data": {
      "text/latex": [
       "$\\displaystyle \\theta{\\left(t \\right)}$"
      ],
      "text/plain": [
       "\\theta(t)"
      ]
     },
     "execution_count": 8,
     "metadata": {},
     "output_type": "execute_result"
    }
   ],
   "source": [
    "tta(t)"
   ]
  },
  {
   "cell_type": "code",
   "execution_count": 9,
   "metadata": {},
   "outputs": [
    {
     "data": {
      "text/latex": [
       "$\\displaystyle x^{2} + y \\theta^{3}{\\left(t \\right)} + \\phi{\\left(t \\right)}$"
      ],
      "text/plain": [
       "x**2 + y*\\theta(t)**3 + \\phi(t)"
      ]
     },
     "execution_count": 9,
     "metadata": {},
     "output_type": "execute_result"
    }
   ],
   "source": [
    "f1"
   ]
  },
  {
   "cell_type": "code",
   "execution_count": 10,
   "metadata": {},
   "outputs": [
    {
     "data": {
      "text/latex": [
       "$\\displaystyle 3 y \\theta^{2}{\\left(t \\right)} \\frac{d}{d t} \\theta{\\left(t \\right)} + \\frac{d}{d t} \\phi{\\left(t \\right)}$"
      ],
      "text/plain": [
       "3*y*\\theta(t)**2*Derivative(\\theta(t), t) + Derivative(\\phi(t), t)"
      ]
     },
     "execution_count": 10,
     "metadata": {},
     "output_type": "execute_result"
    }
   ],
   "source": [
    "df1"
   ]
  },
  {
   "cell_type": "markdown",
   "metadata": {},
   "source": [
    "# 25 maja 2020"
   ]
  },
  {
   "cell_type": "markdown",
   "metadata": {},
   "source": [
    "## Suma dwóch funkcji"
   ]
  },
  {
   "cell_type": "code",
   "execution_count": 11,
   "metadata": {},
   "outputs": [
    {
     "data": {
      "text/latex": [
       "$\\displaystyle x^{2} + y \\theta^{3}{\\left(t \\right)} + 3 y \\theta^{2}{\\left(t \\right)} \\frac{d}{d t} \\theta{\\left(t \\right)} + \\phi{\\left(t \\right)} + \\frac{d}{d t} \\phi{\\left(t \\right)}$"
      ],
      "text/plain": [
       "x**2 + y*\\theta(t)**3 + 3*y*\\theta(t)**2*Derivative(\\theta(t), t) + \\phi(t) + Derivative(\\phi(t), t)"
      ]
     },
     "execution_count": 11,
     "metadata": {},
     "output_type": "execute_result"
    }
   ],
   "source": [
    "f2 = df1+f1\n",
    "f2"
   ]
  },
  {
   "cell_type": "markdown",
   "metadata": {},
   "source": [
    "## Podstawienie pod funkcję innej zmiennej"
   ]
  },
  {
   "cell_type": "code",
   "execution_count": 12,
   "metadata": {},
   "outputs": [
    {
     "data": {
      "text/latex": [
       "$\\displaystyle x^{3} y + 3 x^{2} y \\frac{d}{d t} x + x^{2} + \\phi{\\left(t \\right)} + \\frac{d}{d t} \\phi{\\left(t \\right)}$"
      ],
      "text/plain": [
       "x**3*y + 3*x**2*y*Derivative(x, t) + x**2 + \\phi(t) + Derivative(\\phi(t), t)"
      ]
     },
     "execution_count": 12,
     "metadata": {},
     "output_type": "execute_result"
    }
   ],
   "source": [
    "f2.subs({tta(t):x})"
   ]
  },
  {
   "cell_type": "markdown",
   "metadata": {},
   "source": [
    "## Podstawienie pod funkcje innej funkcji"
   ]
  },
  {
   "cell_type": "code",
   "execution_count": 13,
   "metadata": {},
   "outputs": [
    {
     "data": {
      "text/latex": [
       "$\\displaystyle x^{2} + y \\phi^{3}{\\left(t \\right)} + 3 y \\phi^{2}{\\left(t \\right)} \\frac{d}{d t} \\phi{\\left(t \\right)} + \\phi{\\left(t \\right)} + \\frac{d}{d t} \\phi{\\left(t \\right)}$"
      ],
      "text/plain": [
       "x**2 + y*\\phi(t)**3 + 3*y*\\phi(t)**2*Derivative(\\phi(t), t) + \\phi(t) + Derivative(\\phi(t), t)"
      ]
     },
     "execution_count": 13,
     "metadata": {},
     "output_type": "execute_result"
    }
   ],
   "source": [
    "f2.subs({tta(t):phi(t)})"
   ]
  },
  {
   "cell_type": "markdown",
   "metadata": {},
   "source": [
    "## Zmiana argumentu funkcji"
   ]
  },
  {
   "cell_type": "code",
   "execution_count": 14,
   "metadata": {},
   "outputs": [
    {
     "data": {
      "text/latex": [
       "$\\displaystyle x^{2} + y \\theta^{3}{\\left(x \\right)} + 3 y \\theta^{2}{\\left(x \\right)} \\frac{d}{d x} \\theta{\\left(x \\right)} + \\phi{\\left(x \\right)} + \\frac{d}{d x} \\phi{\\left(x \\right)}$"
      ],
      "text/plain": [
       "x**2 + y*\\theta(x)**3 + 3*y*\\theta(x)**2*Derivative(\\theta(x), x) + \\phi(x) + Derivative(\\phi(x), x)"
      ]
     },
     "execution_count": 14,
     "metadata": {},
     "output_type": "execute_result"
    }
   ],
   "source": [
    "f2.subs({t:x})"
   ]
  },
  {
   "cell_type": "markdown",
   "metadata": {},
   "source": [
    "# Propozycja jak implementować złożone wyrażenia np.:\n",
    "$$\n",
    "f_1 = a \\cdot c \\\\\n",
    "a = d(t) + b(t) \\\\\n",
    "b = d(t)^2+c(t) \\\\\n",
    "c = d(t) \\cdot 10 \\\\\n",
    "d = t \\cdot 5\n",
    "$$\n",
    "Pomimo tego, że $a$, $b$ i $c$ w pierwszym równaniu nie są zapisane w formie funkcji zależnej od czasu (czyli np. $a(t)$). Kolejne równania sugerują, że jest to jednak tylko konwencja dla zachowania czytelności zapisu."
   ]
  },
  {
   "cell_type": "markdown",
   "metadata": {},
   "source": [
    "## Krok 1: implementacja wyrażenia głównego"
   ]
  },
  {
   "cell_type": "code",
   "execution_count": 15,
   "metadata": {},
   "outputs": [
    {
     "data": {
      "text/latex": [
       "$\\displaystyle a{\\left(t \\right)} c{\\left(t \\right)}$"
      ],
      "text/plain": [
       "a(t)*c(t)"
      ]
     },
     "metadata": {},
     "output_type": "display_data"
    }
   ],
   "source": [
    "t = sp.symbols('t')\n",
    "a, c = sp.symbols('a c',cls=sp.Function) # deklaracja zmiennych\n",
    "f_1 = a(t) * c(t) # deklaracja funkcji\n",
    "display(f_1) # wyświetlenie funkcji w celu jej weryfikacji ze wzorem"
   ]
  },
  {
   "cell_type": "markdown",
   "metadata": {},
   "source": [
    "## Krok 2: implementacja wyrażeń \"wewnętrznych\""
   ]
  },
  {
   "cell_type": "code",
   "execution_count": 16,
   "metadata": {},
   "outputs": [
    {
     "data": {
      "text/latex": [
       "$\\displaystyle b{\\left(t \\right)} + d{\\left(t \\right)}$"
      ],
      "text/plain": [
       "b(t) + d(t)"
      ]
     },
     "metadata": {},
     "output_type": "display_data"
    }
   ],
   "source": [
    "b, d = sp.symbols('b d', cls=sp.Function)\n",
    "a_ = d(t) + b(t) # znak '_' jest wykorzystany, aby oznaczyć \"tymczasowość\" zmiennej, może tutaj być cokolwiek\n",
    "podstaw = {a(t):a_} # zmienna podstaw zostanie wykorzystana \"na koniec\"\n",
    "display(a_) # w tym miejscu najlepiej podać numer równania z artykułu"
   ]
  },
  {
   "cell_type": "code",
   "execution_count": 17,
   "metadata": {},
   "outputs": [
    {
     "data": {
      "text/latex": [
       "$\\displaystyle c{\\left(t \\right)} + d^{2}{\\left(t \\right)}$"
      ],
      "text/plain": [
       "c(t) + d(t)**2"
      ]
     },
     "metadata": {},
     "output_type": "display_data"
    }
   ],
   "source": [
    "b_ = d(t)**2 + c(t)\n",
    "podstaw.update({b(t):b_})\n",
    "display(b_)"
   ]
  },
  {
   "cell_type": "code",
   "execution_count": 18,
   "metadata": {},
   "outputs": [
    {
     "data": {
      "text/latex": [
       "$\\displaystyle 10 d{\\left(t \\right)}$"
      ],
      "text/plain": [
       "10*d(t)"
      ]
     },
     "metadata": {},
     "output_type": "display_data"
    }
   ],
   "source": [
    "c_ = d(t)*10\n",
    "podstaw.update({c(t):c_})\n",
    "display(c_)"
   ]
  },
  {
   "cell_type": "code",
   "execution_count": 19,
   "metadata": {},
   "outputs": [
    {
     "data": {
      "text/latex": [
       "$\\displaystyle 5 t$"
      ],
      "text/plain": [
       "5*t"
      ]
     },
     "metadata": {},
     "output_type": "display_data"
    }
   ],
   "source": [
    "d_ = t*5\n",
    "podstaw.update({d(t):d_})\n",
    "display(d_)"
   ]
  },
  {
   "cell_type": "markdown",
   "metadata": {},
   "source": [
    "### Jeżeli wymagana jest kolejna \"seria\" podstawień, warto zastosować notację \"_n\", gdzie \"n\" jest kolejnym podstawieniem"
   ]
  },
  {
   "cell_type": "markdown",
   "metadata": {},
   "source": [
    "## Krok 3: weryfikacja poprawności poszczególnych części wyrażenia.\n",
    "Zwłaszcza dla bardziej skomplikowanych wyrażeń pozwoli na zebranie wszystkiego w jednym miejscu (ułatwi ewentualną weryfikację), ale co ważniejsze, pozwoli potwierdzić, że nie został popełniony jakiś drobny błąd, np. nadpisanie zmiennej."
   ]
  },
  {
   "cell_type": "code",
   "execution_count": 20,
   "metadata": {},
   "outputs": [
    {
     "data": {
      "text/latex": [
       "$\\displaystyle a{\\left(t \\right)} c{\\left(t \\right)}$"
      ],
      "text/plain": [
       "a(t)*c(t)"
      ]
     },
     "metadata": {},
     "output_type": "display_data"
    },
    {
     "data": {
      "text/latex": [
       "$\\displaystyle b{\\left(t \\right)} + d{\\left(t \\right)}$"
      ],
      "text/plain": [
       "b(t) + d(t)"
      ]
     },
     "metadata": {},
     "output_type": "display_data"
    },
    {
     "data": {
      "text/latex": [
       "$\\displaystyle c{\\left(t \\right)} + d^{2}{\\left(t \\right)}$"
      ],
      "text/plain": [
       "c(t) + d(t)**2"
      ]
     },
     "metadata": {},
     "output_type": "display_data"
    },
    {
     "data": {
      "text/latex": [
       "$\\displaystyle 10 d{\\left(t \\right)}$"
      ],
      "text/plain": [
       "10*d(t)"
      ]
     },
     "metadata": {},
     "output_type": "display_data"
    },
    {
     "data": {
      "text/latex": [
       "$\\displaystyle 5 t$"
      ],
      "text/plain": [
       "5*t"
      ]
     },
     "metadata": {},
     "output_type": "display_data"
    }
   ],
   "source": [
    "display(f_1,a_,b_,c_,d_) # i tutaj kolejne numery równań"
   ]
  },
  {
   "cell_type": "markdown",
   "metadata": {},
   "source": [
    "## Krok 4: podstawienie zmiennych i zamiana wyrażenia symbolicznego na numeryczne."
   ]
  },
  {
   "cell_type": "code",
   "execution_count": 21,
   "metadata": {},
   "outputs": [
    {
     "data": {
      "text/latex": [
       "$\\displaystyle 50 t \\left(25 t^{2} + 55 t\\right)$"
      ],
      "text/plain": [
       "50*t*(25*t**2 + 55*t)"
      ]
     },
     "metadata": {},
     "output_type": "display_data"
    }
   ],
   "source": [
    "display(f_1.subs(podstaw)) # nie jest to niezbędny krok i rozumiem, że wynik mógł być nieczytelny dla skomplikowanych wyrażeń.\n",
    "f_1_num = sp.lambdify((t),f_1.subs(podstaw))"
   ]
  },
  {
   "cell_type": "markdown",
   "metadata": {},
   "source": [
    "# Krok 5: testy\n",
    "W związku z dosyć \"napiętym grafikiem\", krok ten jest opcjonalny, jednak myślę, że warto się nad nim zastanowić, gdyż pozwala na zautomatyzowanie weryfikacji poprawności implementacji. Ewentualnie ułatwienie wykrywania błędów w równaniach.\n",
    "\n",
    "Przykładowo, jeżeli jesteśmy wstanie określić (np. obliczyć \"ręcznie\") jaki powinien być wynik danego wyrażenia dla pewnych wyjątkowych przypadków, lub chociażby rozmiar (w przypadku macierzy). Możemy wykorzystać metody automatycznego testowania. W pythonie, najbardziej podstawowym narzędziem jest moduł [`doctest`](https://docs.python.org/3.8/library/doctest.html).\n",
    "\n",
    "Dla powyższego przypadku mogłoby to wyglądać np.:"
   ]
  },
  {
   "cell_type": "code",
   "execution_count": 22,
   "metadata": {},
   "outputs": [
    {
     "name": "stdout",
     "output_type": "stream",
     "text": [
      "**********************************************************************\n",
      "File \"__main__\", line 9, in __main__.przykladoweTesty\n",
      "Failed example:\n",
      "    f_1_num(1)\n",
      "Expected:\n",
      "    10\n",
      "Got:\n",
      "    4000\n",
      "**********************************************************************\n",
      "1 items had failures:\n",
      "   1 of   3 in __main__.przykladoweTesty\n",
      "***Test Failed*** 1 failures.\n"
     ]
    },
    {
     "data": {
      "text/plain": [
       "TestResults(failed=1, attempted=3)"
      ]
     },
     "execution_count": 22,
     "metadata": {},
     "output_type": "execute_result"
    }
   ],
   "source": [
    "import doctest\n",
    "\n",
    "def przykladoweTesty(t):\n",
    "    \"\"\"\n",
    "    Funkcja testująca poprawność implementacji.\n",
    "    \n",
    "    >>> f_1_num(0)\n",
    "    0\n",
    "    >>> f_1_num(1)\n",
    "    10\n",
    "    >>> f_1_num(1) < 5000\n",
    "    True\n",
    "    \"\"\"\n",
    "\n",
    "doctest.testmod()    "
   ]
  },
  {
   "cell_type": "markdown",
   "metadata": {},
   "source": [
    "W powyższym przykładie jeden test zakończył się niepomyślnie. Po zamianie w drugim teście `10` na `4000`, wszystkie testy powinny się skończyć pomyślnie."
   ]
  }
 ],
 "metadata": {
  "kernelspec": {
   "display_name": "Python 3",
   "language": "python",
   "name": "python3"
  },
  "language_info": {
   "codemirror_mode": {
    "name": "ipython",
    "version": 3
   },
   "file_extension": ".py",
   "mimetype": "text/x-python",
   "name": "python",
   "nbconvert_exporter": "python",
   "pygments_lexer": "ipython3",
   "version": "3.6.9"
  }
 },
 "nbformat": 4,
 "nbformat_minor": 4
}
