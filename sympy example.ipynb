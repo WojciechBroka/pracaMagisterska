{
 "cells": [
  {
   "cell_type": "markdown",
   "metadata": {},
   "source": [
    "### Definicja poniższej funkcji z wykorzystaniem `sympy`\n",
    "\n",
    "```python\n",
    "def r(t_):\n",
    "    return -theta_1*lambda_1*m.exp(-lambda_1*t_) - theta_2*lambda_2*m.exp(-lambda_2*t_) - theta_3*k3*m.exp(-k3*t_)\n",
    "```"
   ]
  },
  {
   "cell_type": "code",
   "execution_count": 1,
   "metadata": {},
   "outputs": [],
   "source": [
    "import sympy as sp"
   ]
  },
  {
   "cell_type": "code",
   "execution_count": 2,
   "metadata": {},
   "outputs": [],
   "source": [
    "# definicja symboli\n",
    "theta_1, theta_2, theta_3 = sp.symbols('\\\\theta_1 \\\\theta_2 \\\\theta_3')\n",
    "lambda_1, lambda_2 = sp.symbols('\\lambda_1 \\lambda_2')\n",
    "t_, k3 = sp.symbols('t k_3')\n",
    "\n",
    "# definicja wyrażenia r skopiowana ze skryptu ze zmianą m -> sp\n",
    "r = -theta_1*lambda_1*sp.exp(-lambda_1*t_) - theta_2*lambda_2*sp.exp(-lambda_2*t_) - theta_3*k3*sp.exp(-k3*t_)"
   ]
  },
  {
   "cell_type": "code",
   "execution_count": 3,
   "metadata": {},
   "outputs": [
    {
     "data": {
      "text/latex": [
       "$\\displaystyle - \\lambda_1 \\theta_1 e^{- \\lambda_1 t} - \\lambda_2 \\theta_2 e^{- \\lambda_2 t} - \\theta_3 k_{3} e^{- k_{3} t}$"
      ],
      "text/plain": [
       "-\\lambda_1*\\theta_1*exp(-\\lambda_1*t) - \\lambda_2*\\theta_2*exp(-\\lambda_2*t) - \\theta_3*k_3*exp(-k_3*t)"
      ]
     },
     "execution_count": 3,
     "metadata": {},
     "output_type": "execute_result"
    }
   ],
   "source": [
    "# wyświetl wyrażenie\n",
    "r"
   ]
  },
  {
   "cell_type": "markdown",
   "metadata": {},
   "source": [
    "Powyższa forma zdecydowania ułatwia \"odnalezienie\" się w implementowanym artykule i znalezienie ewentualnych błędów.\n",
    "\n",
    "Jeżeli chcemy skorzystać z wyrażenia 'r' jako funkcji zależnej od czasu, można wykorzystać `lambdify`:"
   ]
  },
  {
   "cell_type": "code",
   "execution_count": 4,
   "metadata": {},
   "outputs": [
    {
     "name": "stdout",
     "output_type": "stream",
     "text": [
      "-2.7720755086763038e-12\n"
     ]
    }
   ],
   "source": [
    "r_ = sp.lambdify((theta_1,theta_2,theta_3,lambda_1,lambda_2,k3,t_),r)\n",
    "\n",
    "# teraz r_ jest funkcją która przyjmuje 7 parametrów:\n",
    "print(r_(1,2,3,4,5,6,7))"
   ]
  },
  {
   "cell_type": "markdown",
   "metadata": {},
   "source": [
    "Bardziej czytelny sposób, wykorzystanie `subs` do podstawiania parametrów stałych:"
   ]
  },
  {
   "cell_type": "code",
   "execution_count": 5,
   "metadata": {},
   "outputs": [
    {
     "name": "stdout",
     "output_type": "stream",
     "text": [
      "-2.772075508676304e-12\n"
     ]
    }
   ],
   "source": [
    "# definicja \"pierwszej porcji\" parametrów\n",
    "params = {theta_1:1,theta_2:2,theta_3:3} \n",
    "# rozszerzenie zmiennej `params`\n",
    "params.update({lambda_1:4,lambda_2:5,k3:6})\n",
    "# definicja `r_` jako funkcji zależnej od tylko od `t_`\n",
    "r_ = sp.lambdify((t_),r.subs(params))\n",
    "\n",
    "# teraz r_ jest funkcją o parametrach zdefiniowanych w params,\n",
    "# przyjmująca jeden argument: t_\n",
    "print(r_(7))"
   ]
  },
  {
   "cell_type": "markdown",
   "metadata": {},
   "source": [
    "## Definicja symboli zależnych:"
   ]
  },
  {
   "cell_type": "code",
   "execution_count": 6,
   "metadata": {},
   "outputs": [],
   "source": [
    "# definicja zmiennej niezależnej\n",
    "t = sp.symbols('t') \n",
    "\n",
    "# definicja symboli typu 'funkcja', czyli zależnych\n",
    "# w cudzysłowach wykorzystywana jest notacja latexa,\n",
    "# podwójny '\\' przed 'theta' ponieważ '\\t' jest znakiem specjalnym\n",
    "phi, tta = sp.symbols('\\phi \\\\theta', cls=sp.Function) \n",
    "\n",
    "# definicja symboli niezależnych (np. niezmiennych w czasie)\n",
    "x,y = sp.symbols('x,y') \n",
    "\n",
    "# definicja wyrażenia f1\n",
    "f1 = x**2+phi(t)+tta(t)**3*y \n",
    "\n",
    "# pochodna wyrażenia f1 po t\n",
    "df1 = sp.diff(f1,t) "
   ]
  },
  {
   "cell_type": "code",
   "execution_count": 7,
   "metadata": {},
   "outputs": [
    {
     "data": {
      "text/latex": [
       "$\\displaystyle \\phi{\\left(t \\right)}$"
      ],
      "text/plain": [
       "\\phi(t)"
      ]
     },
     "execution_count": 7,
     "metadata": {},
     "output_type": "execute_result"
    }
   ],
   "source": [
    "phi(t)"
   ]
  },
  {
   "cell_type": "code",
   "execution_count": 8,
   "metadata": {},
   "outputs": [
    {
     "data": {
      "text/latex": [
       "$\\displaystyle \\theta{\\left(t \\right)}$"
      ],
      "text/plain": [
       "\\theta(t)"
      ]
     },
     "execution_count": 8,
     "metadata": {},
     "output_type": "execute_result"
    }
   ],
   "source": [
    "tta(t)"
   ]
  },
  {
   "cell_type": "code",
   "execution_count": 9,
   "metadata": {},
   "outputs": [
    {
     "data": {
      "text/latex": [
       "$\\displaystyle x^{2} + y \\theta^{3}{\\left(t \\right)} + \\phi{\\left(t \\right)}$"
      ],
      "text/plain": [
       "x**2 + y*\\theta(t)**3 + \\phi(t)"
      ]
     },
     "execution_count": 9,
     "metadata": {},
     "output_type": "execute_result"
    }
   ],
   "source": [
    "f1"
   ]
  },
  {
   "cell_type": "code",
   "execution_count": 10,
   "metadata": {},
   "outputs": [
    {
     "data": {
      "text/latex": [
       "$\\displaystyle 3 y \\theta^{2}{\\left(t \\right)} \\frac{d}{d t} \\theta{\\left(t \\right)} + \\frac{d}{d t} \\phi{\\left(t \\right)}$"
      ],
      "text/plain": [
       "3*y*\\theta(t)**2*Derivative(\\theta(t), t) + Derivative(\\phi(t), t)"
      ]
     },
     "execution_count": 10,
     "metadata": {},
     "output_type": "execute_result"
    }
   ],
   "source": [
    "df1"
   ]
  }
 ],
 "metadata": {
  "kernelspec": {
   "display_name": "Python 3",
   "language": "python",
   "name": "python3"
  },
  "language_info": {
   "codemirror_mode": {
    "name": "ipython",
    "version": 3
   },
   "file_extension": ".py",
   "mimetype": "text/x-python",
   "name": "python",
   "nbconvert_exporter": "python",
   "pygments_lexer": "ipython3",
   "version": "3.6.9"
  }
 },
 "nbformat": 4,
 "nbformat_minor": 4
}
