{
 "cells": [
  {
   "cell_type": "markdown",
   "metadata": {},
   "source": [
    "# Implementacja \"Robust global stabilization and disturbance rejection of an underactuated nonholonomic airship\""
   ]
  },
  {
   "cell_type": "markdown",
   "metadata": {},
   "source": [
    "Link do implementowanego artykułu: https://ieeexplore.ieee.org/document/4389345"
   ]
  },
  {
   "cell_type": "markdown",
   "metadata": {},
   "source": [
    "Imports"
   ]
  },
  {
   "cell_type": "code",
   "execution_count": 1,
   "metadata": {},
   "outputs": [],
   "source": [
    "import sympy as sp\n",
    "import numpy as np\n",
    "import scipy as sc\n",
    "import matplotlib.pyplot as plt # ploting results\n",
    "from scipy.integrate import solve_ivp # solving differential equations\n",
    "MAT = np.array"
   ]
  },
  {
   "cell_type": "markdown",
   "metadata": {},
   "source": [
    "Definicja zmiennych  - rozdział II"
   ]
  },
  {
   "cell_type": "code",
   "execution_count": 2,
   "metadata": {},
   "outputs": [],
   "source": [
    "t = sp.symbols('t') # czas\n",
    "th = sp.symbols('\\\\theta') # kąt obrotu sterowca w układzie globalnym\n",
    "u = sp.symbols('u') # prędkość wzdłużna sterowca w układzie lokalnym\n",
    "v = sp.symbols('v') # prędkość poprzeczna sterowca w układzie lokalnym\n",
    "r = sp.symbols('r') # prędkość obrotowa sterowca w układzie globalnym\n",
    "x, y = sp.symbols('x y') # położenie sterowca w układzie globalnym\n",
    "z1, z2, z3 = sp.symbols('z_{1} z_{2} z_{3}') # ?\n",
    "tauu, taur = sp.symbols('\\\\tau_{u} \\\\tau_{r}') # sygnały sterujące kolejno: siła ciągu, siła skręcająca \n",
    "ub, vb, z1b, z2b, z3b = sp.symbols('\\\\bar{u} \\\\bar{v} \\\\bar{z}_{1} \\\\bar{z}_{2} \\\\bar{z}_{3}')#nowe zmienne stanu po transforma"
   ]
  },
  {
   "cell_type": "markdown",
   "metadata": {},
   "source": [
    "Definicja współczynników i stałych "
   ]
  },
  {
   "cell_type": "code",
   "execution_count": 3,
   "metadata": {},
   "outputs": [],
   "source": [
    "Cu, Cv, Cr = sp.symbols('C_{u} C_{v} C_{r}') #współczynniki aerodynamiczne względem osi u v r\n",
    "Vw = sp.symbols('V_{w}') #prędkość wiatru (w artykule jest zawsze stała)\n",
    "a_ship, b_ship = sp.symbols('a_{ship} b_{ship}') #długość sterowca, szerokość sterowca\n",
    "m, m3 = sp.symbols('m m_{3}') # masa strowca m=m1=m2, masa sterowca m3\n",
    "d1, d2, d3 = sp.symbols('d_{1} d_{2} d_{3}') # współczynniki tłumienia kolejno w osi u v r\n",
    "d1f, d2f, d3f, th3f = sp.symbols('\\\\underline{d}_{1} \\\\underline{d}_{2} \\\\underline{d}_{3} \\\\underline{\\\\theta}_{3}') # dolne wartości wsp tłumienia d1, d2, d3\n",
    "d1c, d2c, d3c, th3c = sp.symbols('\\\\bar{d}_{1} \\\\bar{d}_{2} \\\\bar{d}_{3} \\\\bar{\\\\theta}_{3}') # górne wartości współczynników tłumienia d1, d2, d3\n",
    "d10, d20, d30, th30 = sp.symbols('d_{10} d_{20} d_{30} \\\\theta_{30}') # niepewności\n",
    "Delta_1, Delta_2, Delta_3, delta_1, delta_2, delta_3 = sp.symbols('\\\\Delta_{1} \\\\Delta_{2} \\\\Delta_{3} \\\\delta_{1} \\\\delta_{2} \\\\delta_{3}')# niepewności\n",
    "k1, k2, k3, a = sp.symbols('k_{1} k_{2} k_{3} a') # współczynniki wzmocnień syg ster tau_r\n",
    "k_th, k_r  = sp.symbols('k_{\\\\theta} k_{r}') # jak wyżej\n",
    "k1b, k2b, k3b, k4b, k5b = sp.symbols('\\\\bar{k}_{1} \\\\bar{k}_{2} \\\\bar{k}_{3} \\\\bar{k}_{4} \\\\bar{k}_{5}')#wsp wzm sterownika tau_u\n",
    "th_1, th_2, th_3 = sp.symbols('\\\\theta_1 \\\\theta_2 \\\\theta_3') # współczynniki th z obliczone na podst wzoru 4.4\n",
    "lam_1, lam_2 = sp.symbols('\\lambda_1 \\lambda_2') # współczynniki lam z obliczone na podst wzoru 4.4\n",
    "delta_d = sp.symbols('\\\\Delta_{d}') # współczynnik deltad ze wzoru 4.3\n",
    "th_0, r_0 = sp.symbols('th(0) r(0)')# wartości początkowe"
   ]
  },
  {
   "cell_type": "markdown",
   "metadata": {},
   "source": [
    "Definicja funkcji - rozdział II (2.2)"
   ]
  },
  {
   "cell_type": "code",
   "execution_count": 4,
   "metadata": {},
   "outputs": [
    {
     "data": {
      "text/latex": [
       "$\\displaystyle C_{u} V_{w}^{2} \\sqrt{a_{ship}^{2} \\sin^{2}{\\left(\\theta \\right)} + b_{ship}^{2} \\cos^{2}{\\left(\\theta \\right)}} \\cos{\\left(\\theta \\right)}$"
      ],
      "text/plain": [
       "C_{u}*V_{w}**2*sqrt(a_{ship}**2*sin(\\theta)**2 + b_{ship}**2*cos(\\theta)**2)*cos(\\theta)"
      ]
     },
     "metadata": {},
     "output_type": "display_data"
    },
    {
     "data": {
      "text/latex": [
       "$\\displaystyle C_{v} V_{w}^{2} \\sqrt{a_{ship}^{2} \\sin^{2}{\\left(\\theta \\right)} + b_{ship}^{2} \\cos^{2}{\\left(\\theta \\right)}} \\sin{\\left(\\theta \\right)}$"
      ],
      "text/plain": [
       "C_{v}*V_{w}**2*sqrt(a_{ship}**2*sin(\\theta)**2 + b_{ship}**2*cos(\\theta)**2)*sin(\\theta)"
      ]
     },
     "metadata": {},
     "output_type": "display_data"
    },
    {
     "data": {
      "text/latex": [
       "$\\displaystyle C_{r} V_{w}^{2} \\sqrt{a_{ship}^{2} \\sin^{2}{\\left(\\theta \\right)} + b_{ship}^{2} \\cos^{2}{\\left(\\theta \\right)}} \\cos{\\left(2 \\theta \\right)}$"
      ],
      "text/plain": [
       "C_{r}*V_{w}**2*sqrt(a_{ship}**2*sin(\\theta)**2 + b_{ship}**2*cos(\\theta)**2)*cos(2*\\theta)"
      ]
     },
     "metadata": {},
     "output_type": "display_data"
    },
    {
     "data": {
      "text/latex": [
       "$\\displaystyle \\sqrt{a_{ship}^{2} \\sin^{2}{\\left(\\theta \\right)} + b_{ship}^{2} \\cos^{2}{\\left(\\theta \\right)}}$"
      ],
      "text/plain": [
       "sqrt(a_{ship}**2*sin(\\theta)**2 + b_{ship}**2*cos(\\theta)**2)"
      ]
     },
     "metadata": {},
     "output_type": "display_data"
    }
   ],
   "source": [
    "def F(angle):\n",
    "    return sp.sqrt(a_ship**2 * sp.sin(angle)**2 + b_ship**2 * sp.cos(angle)**2)\n",
    "def fu(angle):\n",
    "    return Cu * Vw**2 * F(angle) * sp.cos(angle)\n",
    "def fv(angle):\n",
    "    return Cv * Vw**2 * F(angle) * sp.sin(angle)\n",
    "def fr(angle):\n",
    "    return Cr * Vw**2 * F(angle) * sp.cos(2 * angle)\n",
    "Ff = sp.symbols('F', cls=sp.Function)\n",
    "#wyświetlanie implementowanych wzorów\n",
    "display(fu(th),fv(th),fr(th),F(th))"
   ]
  },
  {
   "cell_type": "markdown",
   "metadata": {},
   "source": [
    "Opis modelu kinematycznego, geometrycznego powiązania pomiędzy układem globalnym a układem lokalnym - rozdział II (2.4)"
   ]
  },
  {
   "cell_type": "code",
   "execution_count": 5,
   "metadata": {},
   "outputs": [],
   "source": [
    "def Kinematyka(u_,v_,r_,angle):\n",
    "    dx = u_ * sp.cos(angle) - v_ * sp.sin(angle)\n",
    "    dy = u_ * sp.sin(angle) + v_ * sp.cos(angle)\n",
    "    dth = r_\n",
    "    return sp.Matrix([[dx,dy,dth]]).T\n",
    "#wyświetlanie implementowanych wzorów\n",
    "#display(Kinematyka(u,v,r,th))"
   ]
  },
  {
   "cell_type": "markdown",
   "metadata": {},
   "source": [
    "Ciąg dalszy opisu kinematyki, z1 z2 - rozdział II (2.5)"
   ]
  },
  {
   "cell_type": "code",
   "execution_count": 6,
   "metadata": {},
   "outputs": [],
   "source": [
    "def Z12(x_,y_,angle):\n",
    "    z1 = x_ * sp.cos(angle) + y_ * sp.sin(angle)\n",
    "    z2 = -x_ * sp.sin(angle) + y_ * sp.cos(angle)\n",
    "    return sp.Matrix([[z1,z2]]).T\n",
    "#wyświetlanie implementowanych wzorów\n",
    "#display(Z12(x,y,th))"
   ]
  },
  {
   "cell_type": "markdown",
   "metadata": {},
   "source": [
    "Równanie stanu uzyskane przez połączenie kinematyki i dynamiki sterowca - rozdział II (2.6)"
   ]
  },
  {
   "cell_type": "code",
   "execution_count": 7,
   "metadata": {},
   "outputs": [
    {
     "data": {
      "text/latex": [
       "$\\displaystyle \\left[\\begin{matrix}- d_{1} & r & 0 & 0\\\\- r & - d_{2} & 0 & 0\\\\1 & 0 & 0 & r\\\\0 & 1 & - r & 0\\end{matrix}\\right]$"
      ],
      "text/plain": [
       "Matrix([\n",
       "[-d_{1},      r,  0, 0],\n",
       "[    -r, -d_{2},  0, 0],\n",
       "[     1,      0,  0, r],\n",
       "[     0,      1, -r, 0]])"
      ]
     },
     "metadata": {},
     "output_type": "display_data"
    },
    {
     "data": {
      "text/latex": [
       "$\\displaystyle \\left[\\begin{matrix}u\\\\v\\\\z_{1}\\\\z_{2}\\end{matrix}\\right]$"
      ],
      "text/plain": [
       "Matrix([\n",
       "[    u],\n",
       "[    v],\n",
       "[z_{1}],\n",
       "[z_{2}]])"
      ]
     },
     "metadata": {},
     "output_type": "display_data"
    },
    {
     "data": {
      "text/latex": [
       "$\\displaystyle \\left[\\begin{matrix}\\frac{1}{m}\\\\0\\\\0\\\\0\\end{matrix}\\right]$"
      ],
      "text/plain": [
       "Matrix([\n",
       "[1/m],\n",
       "[  0],\n",
       "[  0],\n",
       "[  0]])"
      ]
     },
     "metadata": {},
     "output_type": "display_data"
    },
    {
     "data": {
      "text/latex": [
       "$\\displaystyle \\left[\\begin{matrix}C_{u} V_{w}^{2} \\sqrt{a_{ship}^{2} \\sin^{2}{\\left(\\theta \\right)} + b_{ship}^{2} \\cos^{2}{\\left(\\theta \\right)}} \\cos{\\left(\\theta \\right)}\\\\C_{v} V_{w}^{2} \\sqrt{a_{ship}^{2} \\sin^{2}{\\left(\\theta \\right)} + b_{ship}^{2} \\cos^{2}{\\left(\\theta \\right)}} \\sin{\\left(\\theta \\right)}\\\\0\\\\0\\end{matrix}\\right]$"
      ],
      "text/plain": [
       "Matrix([\n",
       "[C_{u}*V_{w}**2*sqrt(a_{ship}**2*sin(\\theta)**2 + b_{ship}**2*cos(\\theta)**2)*cos(\\theta)],\n",
       "[C_{v}*V_{w}**2*sqrt(a_{ship}**2*sin(\\theta)**2 + b_{ship}**2*cos(\\theta)**2)*sin(\\theta)],\n",
       "[                                                                                       0],\n",
       "[                                                                                       0]])"
      ]
     },
     "metadata": {},
     "output_type": "display_data"
    },
    {
     "data": {
      "text/latex": [
       "$\\displaystyle \\left[\\begin{matrix}\\frac{C_{u} V_{w}^{2} \\sqrt{a_{ship}^{2} \\sin^{2}{\\left(\\theta \\right)} + b_{ship}^{2} \\cos^{2}{\\left(\\theta \\right)}} \\cos{\\left(\\theta \\right)}}{m} + \\frac{\\tau_{u}}{m} - d_{1} u + r v\\\\\\frac{C_{v} V_{w}^{2} \\sqrt{a_{ship}^{2} \\sin^{2}{\\left(\\theta \\right)} + b_{ship}^{2} \\cos^{2}{\\left(\\theta \\right)}} \\sin{\\left(\\theta \\right)}}{m} - d_{2} v - r u\\\\r z_{2} + u\\\\- r z_{1} + v\\end{matrix}\\right]$"
      ],
      "text/plain": [
       "Matrix([\n",
       "[C_{u}*V_{w}**2*sqrt(a_{ship}**2*sin(\\theta)**2 + b_{ship}**2*cos(\\theta)**2)*cos(\\theta)/m + \\tau_{u}/m - d_{1}*u + r*v],\n",
       "[             C_{v}*V_{w}**2*sqrt(a_{ship}**2*sin(\\theta)**2 + b_{ship}**2*cos(\\theta)**2)*sin(\\theta)/m - d_{2}*v - r*u],\n",
       "[                                                                                                            r*z_{2} + u],\n",
       "[                                                                                                           -r*z_{1} + v]])"
      ]
     },
     "metadata": {},
     "output_type": "display_data"
    }
   ],
   "source": [
    "# układ Sigma1:\n",
    "# macierz stanu\n",
    "def A1(r_):\n",
    "    return sp.Matrix([[-d1,r_,0,0],[-r_,-d2,0,0],[1,0,0,r_],[0,1,-r_,0]]) \n",
    "#---------\n",
    "q = sp.Matrix([[u,v,z1,z2]]).T # wektor stanu\n",
    "b1 = sp.Matrix([[1/m,0,0,0]]).T # macierz sterowania\n",
    "# wektor sił zakłóceń - wiatru\n",
    "def f(angle):\n",
    "    return sp.Matrix([[fu(angle),fv(angle),0,0]]).T \n",
    "#system dynamiczny\n",
    "def dQ1(q_,r_,tauu_,ang):\n",
    "    return A1(r_) @ q_ + b1 * tauu_ + f(ang)/m\n",
    "#wyświetlanie implementowanych wzorów\n",
    "display(A1(r),q,b1,f(th),dQ1(q,r,tauu,th))"
   ]
  },
  {
   "cell_type": "code",
   "execution_count": 8,
   "metadata": {},
   "outputs": [
    {
     "data": {
      "text/latex": [
       "$\\displaystyle \\left[\\begin{matrix}- d_{3} r + \\frac{C_{r} V_{w}^{2} \\sqrt{a_{ship}^{2} \\sin^{2}{\\left(\\theta \\right)} + b_{ship}^{2} \\cos^{2}{\\left(\\theta \\right)}} \\cos{\\left(2 \\theta \\right)} + \\tau_{r}}{m_{3}}\\\\r\\end{matrix}\\right]$"
      ],
      "text/plain": [
       "Matrix([\n",
       "[-d_{3}*r + (C_{r}*V_{w}**2*sqrt(a_{ship}**2*sin(\\theta)**2 + b_{ship}**2*cos(\\theta)**2)*cos(2*\\theta) + \\tau_{r})/m_{3}],\n",
       "[                                                                                                                       r]])"
      ]
     },
     "metadata": {},
     "output_type": "display_data"
    }
   ],
   "source": [
    "# układ Sigma2:\n",
    "def dQ2(r_,taur_,angle):\n",
    "    dr = -d3 * r_ + (1/m3) * (taur_ + fr(angle))\n",
    "    dth = r_\n",
    "    return sp.Matrix([[dr,dth]]).T\n",
    "\n",
    "#wyświetlanie implementowanych wzorów\n",
    "display(dQ2(r,taur,th))"
   ]
  },
  {
   "cell_type": "markdown",
   "metadata": {},
   "source": [
    "Sygnał sterujący dla podsystemu Sigma2 - rozdział IV (4.1)"
   ]
  },
  {
   "cell_type": "code",
   "execution_count": 9,
   "metadata": {},
   "outputs": [
    {
     "data": {
      "text/latex": [
       "$\\displaystyle m_{3} \\left(- C_{r} V_{w}^{2} \\sqrt{a_{ship}^{2} \\sin^{2}{\\left(\\theta \\right)} + b_{ship}^{2} \\cos^{2}{\\left(\\theta \\right)}} \\cos{\\left(2 \\theta \\right)} - \\theta k_{\\theta} + a e^{- k_{3} t} - k_{r} r\\right)$"
      ],
      "text/plain": [
       "m_{3}*(-C_{r}*V_{w}**2*sqrt(a_{ship}**2*sin(\\theta)**2 + b_{ship}**2*cos(\\theta)**2)*cos(2*\\theta) - \\theta*k_{\\theta} + a*exp(-k_{3}*t) - k_{r}*r)"
      ]
     },
     "metadata": {},
     "output_type": "display_data"
    }
   ],
   "source": [
    "def Ctrl_r(t_,r_,angle):\n",
    "    return m3 * (-k_r * r_ - k_th * angle + a * sp.exp(-k3 * t_) - fr(angle))\n",
    "#wyświetlanie implementowanych wzorów\n",
    "display(Ctrl_r(t,r,th))\n",
    "k_th = k1 * k2\n",
    "k_r = k1 + k2 - d3f"
   ]
  },
  {
   "cell_type": "markdown",
   "metadata": {},
   "source": [
    "Odpowiedź kąta i prędkości kątowej jest dana - rozdział IV (4.3)"
   ]
  },
  {
   "cell_type": "code",
   "execution_count": 10,
   "metadata": {},
   "outputs": [
    {
     "data": {
      "text/latex": [
       "$\\displaystyle \\theta{\\left(t \\right)}$"
      ],
      "text/plain": [
       "\\theta(t)"
      ]
     },
     "metadata": {},
     "output_type": "display_data"
    },
    {
     "data": {
      "text/latex": [
       "$\\displaystyle \\theta_1 e^{- \\lambda_1 t} + \\theta_2 e^{- \\lambda_2 t} + \\theta_3 e^{- k_{3} t}$"
      ],
      "text/plain": [
       "\\theta_1*exp(-\\lambda_1*t) + \\theta_2*exp(-\\lambda_2*t) + \\theta_3*exp(-k_{3}*t)"
      ]
     },
     "metadata": {},
     "output_type": "display_data"
    },
    {
     "data": {
      "text/latex": [
       "$\\displaystyle r{\\left(t \\right)}$"
      ],
      "text/plain": [
       "r(t)"
      ]
     },
     "metadata": {},
     "output_type": "display_data"
    },
    {
     "data": {
      "text/latex": [
       "$\\displaystyle - \\lambda_1 \\theta_1 e^{- \\lambda_1 t} - \\lambda_2 \\theta_2 e^{- \\lambda_2 t} - \\theta_3 k_{3} e^{- k_{3} t}$"
      ],
      "text/plain": [
       "-\\lambda_1*\\theta_1*exp(-\\lambda_1*t) - \\lambda_2*\\theta_2*exp(-\\lambda_2*t) - \\theta_3*k_{3}*exp(-k_{3}*t)"
      ]
     },
     "metadata": {},
     "output_type": "display_data"
    }
   ],
   "source": [
    "def Th(t_):\n",
    "    return th_1*sp.exp(-lam_1*t_) + th_2*sp.exp(-lam_2*t_) + th_3*sp.exp(-k3*t_) # th(t)\n",
    "def R(t_):\n",
    "    return -th_1*lam_1*sp.exp(-lam_1*t_) - th_2*lam_2*sp.exp(-lam_2*t_) - th_3*k3*sp.exp(-k3*t_) # r(t)\n",
    "tta, rf = sp.symbols('\\\\theta r', cls=sp.Function) # to będą później funkcje te powyżej\n",
    "#wyświetlanie implementowanych wzorów\n",
    "display(tta(t),Th(t),rf(t),R(t))"
   ]
  },
  {
   "cell_type": "markdown",
   "metadata": {},
   "source": [
    "Implementacja współczynników theta - rozdział IV (4.4)"
   ]
  },
  {
   "cell_type": "code",
   "execution_count": 11,
   "metadata": {},
   "outputs": [
    {
     "data": {
      "text/latex": [
       "$\\displaystyle \\frac{a}{\\left(- \\lambda_1 + \\lambda_2\\right) \\left(- \\lambda_1 + k_{3}\\right)} + \\frac{\\lambda_2 th(0) + r(0)}{- \\lambda_1 + \\lambda_2}$"
      ],
      "text/plain": [
       "a/((-\\lambda_1 + \\lambda_2)*(-\\lambda_1 + k_{3})) + (\\lambda_2*th(0) + r(0))/(-\\lambda_1 + \\lambda_2)"
      ]
     },
     "metadata": {},
     "output_type": "display_data"
    },
    {
     "data": {
      "text/latex": [
       "$\\displaystyle \\frac{a}{\\left(\\lambda_1 - \\lambda_2\\right) \\left(- \\lambda_2 + k_{3}\\right)} + \\frac{k_{1} th(0) + r(0)}{\\lambda_1 - \\lambda_2}$"
      ],
      "text/plain": [
       "a/((\\lambda_1 - \\lambda_2)*(-\\lambda_2 + k_{3})) + (k_{1}*th(0) + r(0))/(\\lambda_1 - \\lambda_2)"
      ]
     },
     "metadata": {},
     "output_type": "display_data"
    },
    {
     "data": {
      "text/latex": [
       "$\\displaystyle \\frac{a}{\\left(\\lambda_1 - k_{3}\\right) \\left(\\lambda_2 - k_{3}\\right)}$"
      ],
      "text/plain": [
       "a/((\\lambda_1 - k_{3})*(\\lambda_2 - k_{3}))"
      ]
     },
     "metadata": {},
     "output_type": "display_data"
    }
   ],
   "source": [
    "th_1 = ((lam_2*th_0 + r_0)/(lam_2 - lam_1)) + a/((lam_2 - lam_1)*(k3 - lam_1))\n",
    "th_2 = ((k1*th_0 + r_0)/(lam_1 - lam_2)) + a/((lam_1 - lam_2)*(k3 - lam_2))\n",
    "th_3 = a/((lam_1 - k3)*(lam_2 - k3))\n",
    "#wyświetlanie implementowanych wzorów\n",
    "display(th_1,th_2,th_3)"
   ]
  },
  {
   "cell_type": "markdown",
   "metadata": {},
   "source": [
    "Implementacja współczynników lambda - rozdział IV (4.4)"
   ]
  },
  {
   "cell_type": "code",
   "execution_count": 12,
   "metadata": {},
   "outputs": [
    {
     "data": {
      "text/latex": [
       "$\\displaystyle \\frac{\\Delta_{d}}{2} + \\frac{k_{1}}{2} + \\frac{k_{2}}{2} + \\frac{\\sqrt{\\Delta_{d}^{2} + 2 \\Delta_{d} \\left(k_{1} + k_{2}\\right) + \\left(k_{1} - k_{2}\\right)^{2}}}{2}$"
      ],
      "text/plain": [
       "\\Delta_{d}/2 + k_{1}/2 + k_{2}/2 + sqrt(\\Delta_{d}**2 + 2*\\Delta_{d}*(k_{1} + k_{2}) + (k_{1} - k_{2})**2)/2"
      ]
     },
     "metadata": {},
     "output_type": "display_data"
    },
    {
     "data": {
      "text/latex": [
       "$\\displaystyle \\frac{\\Delta_{d}}{2} + \\frac{k_{1}}{2} + \\frac{k_{2}}{2} - \\frac{\\sqrt{\\Delta_{d}^{2} + 2 \\Delta_{d} \\left(k_{1} + k_{2}\\right) + \\left(k_{1} - k_{2}\\right)^{2}}}{2}$"
      ],
      "text/plain": [
       "\\Delta_{d}/2 + k_{1}/2 + k_{2}/2 - sqrt(\\Delta_{d}**2 + 2*\\Delta_{d}*(k_{1} + k_{2}) + (k_{1} - k_{2})**2)/2"
      ]
     },
     "metadata": {},
     "output_type": "display_data"
    },
    {
     "data": {
      "text/latex": [
       "$\\displaystyle - \\underline{d}_{3} + d_{3}$"
      ],
      "text/plain": [
       "-\\underline{d}_{3} + d_{3}"
      ]
     },
     "metadata": {},
     "output_type": "display_data"
    }
   ],
   "source": [
    "lam_1 = ((delta_d + k1 + k2) + sp.sqrt(delta_d**2 + 2*delta_d*(k1 + k2) + (k1 - k2)**2))/2\n",
    "lam_2 = ((delta_d + k1 + k2) - sp.sqrt(delta_d**2 + 2*delta_d*(k1 + k2) + (k1 - k2)**2))/2\n",
    "delta_d = d3 - d3f\n",
    "#wyświetlanie implementowanych wzorów\n",
    "display(lam_1,lam_2,delta_d)"
   ]
  },
  {
   "cell_type": "markdown",
   "metadata": {},
   "source": [
    "Implementacja systemu Sigma1e - rozdział IV (4.7)"
   ]
  },
  {
   "cell_type": "code",
   "execution_count": 13,
   "metadata": {},
   "outputs": [
    {
     "data": {
      "text/latex": [
       "$\\displaystyle \\left[\\begin{matrix}- d_{1} & r{\\left(t \\right)} & 0 & 0 & 0\\\\- r{\\left(t \\right)} & - d_{2} & 0 & 0 & 0\\\\1 & 0 & 0 & r{\\left(t \\right)} & 0\\\\0 & 1 & - r{\\left(t \\right)} & 0 & 0\\\\0 & 0 & 1 & 0 & 0\\end{matrix}\\right]$"
      ],
      "text/plain": [
       "Matrix([\n",
       "[-d_{1},   r(t),     0,    0, 0],\n",
       "[ -r(t), -d_{2},     0,    0, 0],\n",
       "[     1,      0,     0, r(t), 0],\n",
       "[     0,      1, -r(t),    0, 0],\n",
       "[     0,      0,     1,    0, 0]])"
      ]
     },
     "metadata": {},
     "output_type": "display_data"
    },
    {
     "data": {
      "text/latex": [
       "$\\displaystyle \\left[\\begin{matrix}\\frac{1}{m}\\\\0\\\\0\\\\0\\\\0\\end{matrix}\\right]$"
      ],
      "text/plain": [
       "Matrix([\n",
       "[1/m],\n",
       "[  0],\n",
       "[  0],\n",
       "[  0],\n",
       "[  0]])"
      ]
     },
     "metadata": {},
     "output_type": "display_data"
    },
    {
     "data": {
      "text/latex": [
       "$\\displaystyle \\left[\\begin{matrix}C_{u} V_{w}^{2} \\sqrt{a_{ship}^{2} \\sin^{2}{\\left(\\theta \\right)} + b_{ship}^{2} \\cos^{2}{\\left(\\theta \\right)}} \\cos{\\left(\\theta \\right)}\\\\- C_{v} V_{w}^{2} \\sqrt{a_{ship}^{2} \\sin^{2}{\\left(\\theta \\right)} + b_{ship}^{2} \\cos^{2}{\\left(\\theta \\right)}} \\sin{\\left(\\theta \\right)}\\\\0\\\\0\\\\0\\end{matrix}\\right]$"
      ],
      "text/plain": [
       "Matrix([\n",
       "[ C_{u}*V_{w}**2*sqrt(a_{ship}**2*sin(\\theta)**2 + b_{ship}**2*cos(\\theta)**2)*cos(\\theta)],\n",
       "[-C_{v}*V_{w}**2*sqrt(a_{ship}**2*sin(\\theta)**2 + b_{ship}**2*cos(\\theta)**2)*sin(\\theta)],\n",
       "[                                                                                        0],\n",
       "[                                                                                        0],\n",
       "[                                                                                        0]])"
      ]
     },
     "metadata": {},
     "output_type": "display_data"
    },
    {
     "data": {
      "text/latex": [
       "$\\displaystyle \\left[\\begin{matrix}u\\\\v\\\\z_{1}\\\\z_{2}\\\\z_{3}\\end{matrix}\\right]$"
      ],
      "text/plain": [
       "Matrix([\n",
       "[    u],\n",
       "[    v],\n",
       "[z_{1}],\n",
       "[z_{2}],\n",
       "[z_{3}]])"
      ]
     },
     "metadata": {},
     "output_type": "display_data"
    },
    {
     "data": {
      "text/latex": [
       "$\\displaystyle \\left[\\begin{matrix}\\frac{C_{u} V_{w}^{2} \\sqrt{a_{ship}^{2} \\sin^{2}{\\left(\\theta \\right)} + b_{ship}^{2} \\cos^{2}{\\left(\\theta \\right)}} \\cos{\\left(\\theta \\right)}}{m} + \\frac{\\tau_{u}}{m} - d_{1} u + v r{\\left(t \\right)}\\\\- \\frac{C_{v} V_{w}^{2} \\sqrt{a_{ship}^{2} \\sin^{2}{\\left(\\theta \\right)} + b_{ship}^{2} \\cos^{2}{\\left(\\theta \\right)}} \\sin{\\left(\\theta \\right)}}{m} - d_{2} v - u r{\\left(t \\right)}\\\\u + z_{2} r{\\left(t \\right)}\\\\v - z_{1} r{\\left(t \\right)}\\\\z_{1}\\end{matrix}\\right]$"
      ],
      "text/plain": [
       "Matrix([\n",
       "[C_{u}*V_{w}**2*sqrt(a_{ship}**2*sin(\\theta)**2 + b_{ship}**2*cos(\\theta)**2)*cos(\\theta)/m + \\tau_{u}/m - d_{1}*u + v*r(t)],\n",
       "[            -C_{v}*V_{w}**2*sqrt(a_{ship}**2*sin(\\theta)**2 + b_{ship}**2*cos(\\theta)**2)*sin(\\theta)/m - d_{2}*v - u*r(t)],\n",
       "[                                                                                                            u + z_{2}*r(t)],\n",
       "[                                                                                                            v - z_{1}*r(t)],\n",
       "[                                                                                                                     z_{1}]])"
      ]
     },
     "metadata": {},
     "output_type": "display_data"
    }
   ],
   "source": [
    "def A2(t_):\n",
    "    return sp.Matrix([[-d1,rf(t_),0,0,0],[-rf(t_),-d2,0,0,0],[1,0,0,rf(t_),0],[0,1,-rf(t_),0,0],[0,0,1,0,0]])# macierz stanu\n",
    "b2 = sp.Matrix([[1/m,0,0,0,0]]).T # macierz sterowania\n",
    "def ff(angle):\n",
    "    return sp.Matrix([[fu(angle),-fv(angle),0,0,0]]).T # wektor zakłóceń - wiatru\n",
    "q2 = sp.Matrix([[u,v,z1,z2,z3]]).T # wektor stanu\n",
    "def dX1(q2_,angle,tauu_,t_):\n",
    "    return A2(t_) @ q2_ + b2 * tauu_ + ff(angle)/m\n",
    "#wyświetlanie implementowanych wzorów\n",
    "display(A2(t),b2,ff(th),q2,dX1(q2,th,tauu,t))"
   ]
  },
  {
   "cell_type": "markdown",
   "metadata": {},
   "source": [
    "Wektor stanu po zastosowaniu gładkiej transformacji współrzędnych - rozdział IV (4.9)"
   ]
  },
  {
   "cell_type": "code",
   "execution_count": 14,
   "metadata": {},
   "outputs": [],
   "source": [
    "ub = u\n",
    "vb = v * sp.exp(k3 * t)\n",
    "z1b = z1\n",
    "z2b = z2 * sp.exp(k3 * t)\n",
    "z3b = z3"
   ]
  },
  {
   "cell_type": "markdown",
   "metadata": {},
   "source": [
    "Nowy wektor stanu - rozdział IV (4.10)"
   ]
  },
  {
   "cell_type": "code",
   "execution_count": 15,
   "metadata": {},
   "outputs": [],
   "source": [
    "Xb = sp.Matrix([[ub,vb,z1b,z2b,z3b]]).T\n",
    "#wyświetlanie implementowanych wzorów\n",
    "#display(Xb)"
   ]
  },
  {
   "cell_type": "markdown",
   "metadata": {},
   "source": [
    "Współczynniki d1, d2, th3 - rozdział IV (4.11)"
   ]
  },
  {
   "cell_type": "code",
   "execution_count": 16,
   "metadata": {},
   "outputs": [
    {
     "data": {
      "text/latex": [
       "$\\displaystyle \\Delta_{1} + d_{10}$"
      ],
      "text/plain": [
       "\\Delta_{1} + d_{10}"
      ]
     },
     "metadata": {},
     "output_type": "display_data"
    },
    {
     "data": {
      "text/latex": [
       "$\\displaystyle \\Delta_{2} + d_{20}$"
      ],
      "text/plain": [
       "\\Delta_{2} + d_{20}"
      ]
     },
     "metadata": {},
     "output_type": "display_data"
    },
    {
     "data": {
      "text/latex": [
       "$\\displaystyle \\Delta_{3} + d_{30}$"
      ],
      "text/plain": [
       "\\Delta_{3} + d_{30}"
      ]
     },
     "metadata": {},
     "output_type": "display_data"
    },
    {
     "data": {
      "text/latex": [
       "$\\displaystyle \\Delta_{3} + \\theta_{30}$"
      ],
      "text/plain": [
       "\\Delta_{3} + \\theta_{30}"
      ]
     },
     "metadata": {},
     "output_type": "display_data"
    }
   ],
   "source": [
    "d1 = d10 + Delta_1\n",
    "d2 = d20 + Delta_2\n",
    "d3 = d30 + Delta_3#\n",
    "th3 = th30 + Delta_3\n",
    "#wyświetlanie implementowanych wzorów\n",
    "display(d1,d2,d3,th3)"
   ]
  },
  {
   "cell_type": "markdown",
   "metadata": {},
   "source": [
    "Wzory potrzebne do obliczenia d1, d2, th3 - rozdział IV (4.12)"
   ]
  },
  {
   "cell_type": "code",
   "execution_count": 17,
   "metadata": {},
   "outputs": [
    {
     "data": {
      "text/latex": [
       "$\\displaystyle \\frac{a}{\\left(- k_{1} + k_{3}\\right) \\left(- k_{2} + k_{3}\\right)}$"
      ],
      "text/plain": [
       "a/((-k_{1} + k_{3})*(-k_{2} + k_{3}))"
      ]
     },
     "metadata": {},
     "output_type": "display_data"
    },
    {
     "data": {
      "text/latex": [
       "$\\displaystyle \\frac{a}{k_{1} k_{2} + k_{3}^{2} - k_{3} \\left(\\bar{d}_{3} - \\underline{d}_{3} + k_{1} + k_{2}\\right)}$"
      ],
      "text/plain": [
       "a/(k_{1}*k_{2} + k_{3}**2 - k_{3}*(\\bar{d}_{3} - \\underline{d}_{3} + k_{1} + k_{2}))"
      ]
     },
     "metadata": {},
     "output_type": "display_data"
    },
    {
     "data": {
      "text/latex": [
       "$\\displaystyle \\frac{\\bar{d}_{1}}{2} + \\frac{\\underline{d}_{1}}{2}$"
      ],
      "text/plain": [
       "\\bar{d}_{1}/2 + \\underline{d}_{1}/2"
      ]
     },
     "metadata": {},
     "output_type": "display_data"
    },
    {
     "data": {
      "text/latex": [
       "$\\displaystyle \\frac{\\bar{d}_{2}}{2} + \\frac{\\underline{d}_{2}}{2}$"
      ],
      "text/plain": [
       "\\bar{d}_{2}/2 + \\underline{d}_{2}/2"
      ]
     },
     "metadata": {},
     "output_type": "display_data"
    },
    {
     "data": {
      "text/latex": [
       "$\\displaystyle \\frac{\\bar{d}_{3}}{2} + \\frac{\\underline{d}_{3}}{2}$"
      ],
      "text/plain": [
       "\\bar{d}_{3}/2 + \\underline{d}_{3}/2"
      ]
     },
     "metadata": {},
     "output_type": "display_data"
    },
    {
     "data": {
      "text/latex": [
       "$\\displaystyle \\frac{a}{2 \\left(k_{1} k_{2} + k_{3}^{2} - k_{3} \\left(\\bar{d}_{3} - \\underline{d}_{3} + k_{1} + k_{2}\\right)\\right)} + \\frac{a}{2 \\left(- k_{1} + k_{3}\\right) \\left(- k_{2} + k_{3}\\right)}$"
      ],
      "text/plain": [
       "a/(2*(k_{1}*k_{2} + k_{3}**2 - k_{3}*(\\bar{d}_{3} - \\underline{d}_{3} + k_{1} + k_{2}))) + a/(2*(-k_{1} + k_{3})*(-k_{2} + k_{3}))"
      ]
     },
     "metadata": {},
     "output_type": "display_data"
    },
    {
     "data": {
      "text/latex": [
       "$\\displaystyle \\frac{\\bar{d}_{1}}{2} - \\frac{\\underline{d}_{1}}{2}$"
      ],
      "text/plain": [
       "\\bar{d}_{1}/2 - \\underline{d}_{1}/2"
      ]
     },
     "metadata": {},
     "output_type": "display_data"
    },
    {
     "data": {
      "text/latex": [
       "$\\displaystyle \\frac{\\bar{d}_{2}}{2} - \\frac{\\underline{d}_{2}}{2}$"
      ],
      "text/plain": [
       "\\bar{d}_{2}/2 - \\underline{d}_{2}/2"
      ]
     },
     "metadata": {},
     "output_type": "display_data"
    },
    {
     "data": {
      "text/latex": [
       "$\\displaystyle \\frac{a}{2 \\left(k_{1} k_{2} + k_{3}^{2} - k_{3} \\left(\\bar{d}_{3} - \\underline{d}_{3} + k_{1} + k_{2}\\right)\\right)} - \\frac{a}{2 \\left(- k_{1} + k_{3}\\right) \\left(- k_{2} + k_{3}\\right)}$"
      ],
      "text/plain": [
       "a/(2*(k_{1}*k_{2} + k_{3}**2 - k_{3}*(\\bar{d}_{3} - \\underline{d}_{3} + k_{1} + k_{2}))) - a/(2*(-k_{1} + k_{3})*(-k_{2} + k_{3}))"
      ]
     },
     "metadata": {},
     "output_type": "display_data"
    }
   ],
   "source": [
    "th3f = a/((k3 - k1)*(k3 - k2))\n",
    "th3c = a/(k3**2 - (d3c + k_r)*k3 + k1*k2)\n",
    "d10 = (d1c + d1f)/2\n",
    "d20 = (d2c + d2f)/2\n",
    "d30 = (d3c + d3f)/2\n",
    "th30 = (th3c + th3f)/2\n",
    "delta_1 = (d1c - d1f)/2\n",
    "delta_2 = (d2c - d2f)/2\n",
    "delta_3 = (th3c - th3f)/2\n",
    "#wyświetlanie implementowanych wzorów\n",
    "display(th3f,th3c,d10,d20,d30,th30,delta_1,delta_2,delta_3)"
   ]
  },
  {
   "cell_type": "markdown",
   "metadata": {},
   "source": [
    "Rozszerzony system Sigma1e bez zakłócenia f(t) - rozdział IV (4.13) i (4.14)"
   ]
  },
  {
   "cell_type": "code",
   "execution_count": 18,
   "metadata": {},
   "outputs": [
    {
     "data": {
      "text/latex": [
       "$\\displaystyle \\left[\\begin{matrix}- \\frac{\\bar{d}_{1}}{2} - \\frac{\\underline{d}_{1}}{2} & 0 & 0 & 0 & 0\\\\k_{3} \\left(\\frac{a}{2 \\left(k_{1} k_{2} + k_{3}^{2} - k_{3} \\left(\\bar{d}_{3} - \\underline{d}_{3} + k_{1} + k_{2}\\right)\\right)} + \\frac{a}{2 \\left(- k_{1} + k_{3}\\right) \\left(- k_{2} + k_{3}\\right)}\\right) & - \\frac{\\bar{d}_{2}}{2} - \\frac{\\underline{d}_{2}}{2} + k_{3} & 0 & 0 & 0\\\\1 & 0 & 0 & 0 & 0\\\\0 & 1 & k_{3} \\left(\\frac{a}{2 \\left(k_{1} k_{2} + k_{3}^{2} - k_{3} \\left(\\bar{d}_{3} - \\underline{d}_{3} + k_{1} + k_{2}\\right)\\right)} + \\frac{a}{2 \\left(- k_{1} + k_{3}\\right) \\left(- k_{2} + k_{3}\\right)}\\right) & k_{3} & 0\\\\0 & 0 & 1 & 0 & 0\\end{matrix}\\right]$"
      ],
      "text/plain": [
       "Matrix([\n",
       "[                                                                                                      -\\bar{d}_{1}/2 - \\underline{d}_{1}/2,                                            0,                                                                                                                                          0,     0, 0],\n",
       "[k_{3}*(a/(2*(k_{1}*k_{2} + k_{3}**2 - k_{3}*(\\bar{d}_{3} - \\underline{d}_{3} + k_{1} + k_{2}))) + a/(2*(-k_{1} + k_{3})*(-k_{2} + k_{3}))), -\\bar{d}_{2}/2 - \\underline{d}_{2}/2 + k_{3},                                                                                                                                          0,     0, 0],\n",
       "[                                                                                                                                         1,                                            0,                                                                                                                                          0,     0, 0],\n",
       "[                                                                                                                                         0,                                            1, k_{3}*(a/(2*(k_{1}*k_{2} + k_{3}**2 - k_{3}*(\\bar{d}_{3} - \\underline{d}_{3} + k_{1} + k_{2}))) + a/(2*(-k_{1} + k_{3})*(-k_{2} + k_{3}))), k_{3}, 0],\n",
       "[                                                                                                                                         0,                                            0,                                                                                                                                          1,     0, 0]])"
      ]
     },
     "metadata": {},
     "output_type": "display_data"
    },
    {
     "data": {
      "text/latex": [
       "$\\displaystyle \\left[\\begin{matrix}1 & 0 & 0 & 0\\\\0 & 1 & 1 & 0\\\\0 & 0 & 0 & 0\\\\0 & 0 & 0 & 1\\\\0 & 0 & 0 & 0\\end{matrix}\\right]$"
      ],
      "text/plain": [
       "Matrix([\n",
       "[1, 0, 0, 0],\n",
       "[0, 1, 1, 0],\n",
       "[0, 0, 0, 0],\n",
       "[0, 0, 0, 1],\n",
       "[0, 0, 0, 0]])"
      ]
     },
     "metadata": {},
     "output_type": "display_data"
    },
    {
     "data": {
      "text/latex": [
       "$\\displaystyle \\left[\\begin{matrix}- \\frac{\\bar{d}_{1}}{2} + \\frac{\\underline{d}_{1}}{2} & 0 & 0 & 0 & 0\\\\0 & - \\frac{\\bar{d}_{2}}{2} + \\frac{\\underline{d}_{2}}{2} & 0 & 0 & 0\\\\k_{3} \\left(\\frac{a}{2 \\left(k_{1} k_{2} + k_{3}^{2} - k_{3} \\left(\\bar{d}_{3} - \\underline{d}_{3} + k_{1} + k_{2}\\right)\\right)} - \\frac{a}{2 \\left(- k_{1} + k_{3}\\right) \\left(- k_{2} + k_{3}\\right)}\\right) & 0 & 0 & 0 & 0\\\\0 & 0 & k_{3} \\left(\\frac{a}{2 \\left(k_{1} k_{2} + k_{3}^{2} - k_{3} \\left(\\bar{d}_{3} - \\underline{d}_{3} + k_{1} + k_{2}\\right)\\right)} - \\frac{a}{2 \\left(- k_{1} + k_{3}\\right) \\left(- k_{2} + k_{3}\\right)}\\right) & 0 & 0\\end{matrix}\\right]$"
      ],
      "text/plain": [
       "Matrix([\n",
       "[                                                                                                      -\\bar{d}_{1}/2 + \\underline{d}_{1}/2,                                    0,                                                                                                                                          0, 0, 0],\n",
       "[                                                                                                                                         0, -\\bar{d}_{2}/2 + \\underline{d}_{2}/2,                                                                                                                                          0, 0, 0],\n",
       "[k_{3}*(a/(2*(k_{1}*k_{2} + k_{3}**2 - k_{3}*(\\bar{d}_{3} - \\underline{d}_{3} + k_{1} + k_{2}))) - a/(2*(-k_{1} + k_{3})*(-k_{2} + k_{3}))),                                    0,                                                                                                                                          0, 0, 0],\n",
       "[                                                                                                                                         0,                                    0, k_{3}*(a/(2*(k_{1}*k_{2} + k_{3}**2 - k_{3}*(\\bar{d}_{3} - \\underline{d}_{3} + k_{1} + k_{2}))) - a/(2*(-k_{1} + k_{3})*(-k_{2} + k_{3}))), 0, 0]])"
      ]
     },
     "metadata": {},
     "output_type": "display_data"
    },
    {
     "data": {
      "text/latex": [
       "$\\displaystyle \\left[\\begin{matrix}\\frac{\\Delta_{1}}{\\frac{\\bar{d}_{1}}{2} - \\frac{\\underline{d}_{1}}{2}} & 0 & 0 & 0\\\\0 & \\frac{\\Delta_{2}}{\\frac{\\bar{d}_{2}}{2} - \\frac{\\underline{d}_{2}}{2}} & 0 & 0\\\\0 & 0 & \\frac{\\Delta_{3}}{\\frac{a}{2 \\left(k_{1} k_{2} + k_{3}^{2} - k_{3} \\left(\\bar{d}_{3} - \\underline{d}_{3} + k_{1} + k_{2}\\right)\\right)} - \\frac{a}{2 \\left(- k_{1} + k_{3}\\right) \\left(- k_{2} + k_{3}\\right)}} & 0\\\\0 & 0 & 0 & \\frac{\\Delta_{3}}{\\frac{a}{2 \\left(k_{1} k_{2} + k_{3}^{2} - k_{3} \\left(\\bar{d}_{3} - \\underline{d}_{3} + k_{1} + k_{2}\\right)\\right)} - \\frac{a}{2 \\left(- k_{1} + k_{3}\\right) \\left(- k_{2} + k_{3}\\right)}}\\end{matrix}\\right]$"
      ],
      "text/plain": [
       "Matrix([\n",
       "[\\Delta_{1}/(\\bar{d}_{1}/2 - \\underline{d}_{1}/2),                                                0,                                                                                                                                               0,                                                                                                                                               0],\n",
       "[                                               0, \\Delta_{2}/(\\bar{d}_{2}/2 - \\underline{d}_{2}/2),                                                                                                                                               0,                                                                                                                                               0],\n",
       "[                                               0,                                                0, \\Delta_{3}/(a/(2*(k_{1}*k_{2} + k_{3}**2 - k_{3}*(\\bar{d}_{3} - \\underline{d}_{3} + k_{1} + k_{2}))) - a/(2*(-k_{1} + k_{3})*(-k_{2} + k_{3}))),                                                                                                                                               0],\n",
       "[                                               0,                                                0,                                                                                                                                               0, \\Delta_{3}/(a/(2*(k_{1}*k_{2} + k_{3}**2 - k_{3}*(\\bar{d}_{3} - \\underline{d}_{3} + k_{1} + k_{2}))) - a/(2*(-k_{1} + k_{3})*(-k_{2} + k_{3})))]])"
      ]
     },
     "metadata": {},
     "output_type": "display_data"
    }
   ],
   "source": [
    "#macierze o stałych współczynnikach\n",
    "def A10():\n",
    "    return sp.Matrix([[-d10,0,0,0,0],[th30*k3,-(d20-k3),0,0,0],[1,0,0,0,0],[0,1,th30*k3,k3,0],[0,0,1,0,0]])\n",
    "def D():\n",
    "    return sp.Matrix([[1,0,0,0],[0,1,1,0],[0,0,0,0],[0,0,0,1],[0,0,0,0]])\n",
    "def E():\n",
    "    return sp.Matrix([[-delta_1,0,0,0,0],[0,-delta_2,0,0,0],[k3*delta_3,0,0,0,0],[0,0,k3*delta_3,0,0]])\n",
    "def DELTA():\n",
    "    return sp.Matrix.diag([Delta_1/delta_1,Delta_2/delta_2,Delta_3/delta_3,Delta_3/delta_3])\n",
    "#funkcja alpha(t)\n",
    "def Alp(t_):\n",
    "    return -(th_1*lam_1*sp.exp(-(lam_1-k3)*t_)+th_2*lam_2*sp.exp(-(lam_2-k3)*t_))\n",
    "af = sp.symbols('\\\\alpha', cls=sp.Function)# to będzie później funkcja alpha(t)\n",
    "#macierz o zmiennych współczynnikach\n",
    "def A22(t_):\n",
    "    return sp.Matrix([[0,rf(t_)*sp.exp(-k3*t_),0,0,0],[af(t_),0,0,0,0],[0,0,0,rf(t_)*sp.exp(-k3*t_),0],[0,0,af(t_),0,0],[0,0,0,0,0]])\n",
    "#wyświetlanie implementowanych wzorów\n",
    "#display(Alp(t),A22(t))\n",
    "display(A10(),D(),E(),DELTA())"
   ]
  },
  {
   "cell_type": "markdown",
   "metadata": {},
   "source": [
    "Sygnał sterujący tau_u - rozdział IV (4.21)"
   ]
  },
  {
   "cell_type": "code",
   "execution_count": 19,
   "metadata": {},
   "outputs": [
    {
     "data": {
      "text/latex": [
       "$\\displaystyle - \\bar{k}_{1} u - \\bar{k}_{2} v e^{k_{3} t} - \\bar{k}_{3} z_{1} - \\bar{k}_{4} z_{2} e^{k_{3} t} - \\bar{k}_{5} z_{3}$"
      ],
      "text/plain": [
       "-\\bar{k}_{1}*u - \\bar{k}_{2}*v*exp(k_{3}*t) - \\bar{k}_{3}*z_{1} - \\bar{k}_{4}*z_{2}*exp(k_{3}*t) - \\bar{k}_{5}*z_{3}"
      ]
     },
     "metadata": {},
     "output_type": "display_data"
    }
   ],
   "source": [
    "def Ctrl_u(ub_,vb_,z1b_,z2b_,z3b_):\n",
    "    return -(k1b*ub_+k2b*vb_+k3b*z1b_+k4b*z2b_+k5b*z3b_)\n",
    "#wyświetlanie implementowanych wzorów\n",
    "display(Ctrl_u(ub,vb,z1b,z2b,z3b))"
   ]
  },
  {
   "cell_type": "markdown",
   "metadata": {},
   "source": [
    "Implementacja systemu - rozdział IV (4.25)"
   ]
  },
  {
   "cell_type": "code",
   "execution_count": 20,
   "metadata": {
    "scrolled": true
   },
   "outputs": [
    {
     "data": {
      "text/latex": [
       "$\\displaystyle \\left[\\begin{matrix}\\bar{k}_{1} & \\bar{k}_{2} & \\bar{k}_{3} & \\bar{k}_{4} & \\bar{k}_{5}\\end{matrix}\\right]$"
      ],
      "text/plain": [
       "Matrix([[\\bar{k}_{1}, \\bar{k}_{2}, \\bar{k}_{3}, \\bar{k}_{4}, \\bar{k}_{5}]])"
      ]
     },
     "metadata": {},
     "output_type": "display_data"
    },
    {
     "data": {
      "text/latex": [
       "$\\displaystyle \\left[\\begin{matrix}\\frac{\\Delta_{1} \\left(- \\frac{\\bar{d}_{1}}{2} + \\frac{\\underline{d}_{1}}{2}\\right)}{\\frac{\\bar{d}_{1}}{2} - \\frac{\\underline{d}_{1}}{2}} - \\frac{\\bar{d}_{1}}{2} - \\frac{\\bar{k}_{1}}{m} - \\frac{\\underline{d}_{1}}{2} & - \\frac{\\bar{k}_{2}}{m} & - \\frac{\\bar{k}_{3}}{m} & - \\frac{\\bar{k}_{4}}{m} & - \\frac{\\bar{k}_{5}}{m}\\\\\\Delta_{3} k_{3} + k_{3} \\left(\\frac{a}{2 \\left(k_{1} k_{2} + k_{3}^{2} - k_{3} \\left(\\bar{d}_{3} - \\underline{d}_{3} + k_{1} + k_{2}\\right)\\right)} + \\frac{a}{2 \\left(- k_{1} + k_{3}\\right) \\left(- k_{2} + k_{3}\\right)}\\right) & \\frac{\\Delta_{2} \\left(- \\frac{\\bar{d}_{2}}{2} + \\frac{\\underline{d}_{2}}{2}\\right)}{\\frac{\\bar{d}_{2}}{2} - \\frac{\\underline{d}_{2}}{2}} - \\frac{\\bar{d}_{2}}{2} - \\frac{\\underline{d}_{2}}{2} + k_{3} & 0 & 0 & 0\\\\1 & 0 & 0 & 0 & 0\\\\0 & 1 & \\Delta_{3} k_{3} + k_{3} \\left(\\frac{a}{2 \\left(k_{1} k_{2} + k_{3}^{2} - k_{3} \\left(\\bar{d}_{3} - \\underline{d}_{3} + k_{1} + k_{2}\\right)\\right)} + \\frac{a}{2 \\left(- k_{1} + k_{3}\\right) \\left(- k_{2} + k_{3}\\right)}\\right) & k_{3} & 0\\\\0 & 0 & 1 & 0 & 0\\end{matrix}\\right]$"
      ],
      "text/plain": [
       "Matrix([\n",
       "[                \\Delta_{1}*(-\\bar{d}_{1}/2 + \\underline{d}_{1}/2)/(\\bar{d}_{1}/2 - \\underline{d}_{1}/2) - \\bar{d}_{1}/2 - \\bar{k}_{1}/m - \\underline{d}_{1}/2,                                                                                                                        -\\bar{k}_{2}/m,                                                                                                                                                -\\bar{k}_{3}/m, -\\bar{k}_{4}/m, -\\bar{k}_{5}/m],\n",
       "[\\Delta_{3}*k_{3} + k_{3}*(a/(2*(k_{1}*k_{2} + k_{3}**2 - k_{3}*(\\bar{d}_{3} - \\underline{d}_{3} + k_{1} + k_{2}))) + a/(2*(-k_{1} + k_{3})*(-k_{2} + k_{3}))), \\Delta_{2}*(-\\bar{d}_{2}/2 + \\underline{d}_{2}/2)/(\\bar{d}_{2}/2 - \\underline{d}_{2}/2) - \\bar{d}_{2}/2 - \\underline{d}_{2}/2 + k_{3},                                                                                                                                                             0,              0,              0],\n",
       "[                                                                                                                                                            1,                                                                                                                                     0,                                                                                                                                                             0,              0,              0],\n",
       "[                                                                                                                                                            0,                                                                                                                                     1, \\Delta_{3}*k_{3} + k_{3}*(a/(2*(k_{1}*k_{2} + k_{3}**2 - k_{3}*(\\bar{d}_{3} - \\underline{d}_{3} + k_{1} + k_{2}))) + a/(2*(-k_{1} + k_{3})*(-k_{2} + k_{3}))),          k_{3},              0],\n",
       "[                                                                                                                                                            0,                                                                                                                                     0,                                                                                                                                                             1,              0,              0]])"
      ]
     },
     "metadata": {},
     "output_type": "display_data"
    },
    {
     "data": {
      "text/latex": [
       "$\\displaystyle \\left[\\begin{matrix}C_{u} V_{w}^{2} F{\\left(\\theta{\\left(t \\right)} \\right)} \\cos{\\left(\\theta{\\left(t \\right)} \\right)}\\\\- C_{v} V_{w}^{2} F{\\left(\\theta{\\left(t \\right)} \\right)} e^{k_{3} t} \\sin{\\left(\\theta{\\left(t \\right)} \\right)}\\\\0\\\\0\\\\0\\end{matrix}\\right]$"
      ],
      "text/plain": [
       "Matrix([\n",
       "[              C_{u}*V_{w}**2*F(\\theta(t))*cos(\\theta(t))],\n",
       "[-C_{v}*V_{w}**2*F(\\theta(t))*exp(k_{3}*t)*sin(\\theta(t))],\n",
       "[                                                       0],\n",
       "[                                                       0],\n",
       "[                                                       0]])"
      ]
     },
     "metadata": {},
     "output_type": "display_data"
    }
   ],
   "source": [
    "kb = sp.Matrix([[k1b,k2b,k3b,k4b,k5b]]) #wektor wzmocnień sterownika\n",
    "def Ac():\n",
    "    kb_ = sp.Matrix([[k1b,k2b,k3b,k4b,k5b]])\n",
    "    return A10() - b2@kb_ + D()@DELTA()@E()\n",
    "#wektor zakłóceń\n",
    "def fb(t_):\n",
    "    return sp.Matrix([[Cu*Vw**2*Ff(tta(t_))*sp.cos(tta(t_)),-Cv*Vw**2*sp.exp(k3*t_)*Ff(tta(t_))*sp.sin(tta(t_)),0,0,0]]).T\n",
    "#równanie systemu Sigma1e po dekompozycji na macierz stałą i zależną od czasu\n",
    "def dXb(Xb_,t_):\n",
    "    return (Ac() + A2(t_))@Xb_ + fb(t_)/m\n",
    "#wyświetlanie implementowanych wzorów\n",
    "display(kb,Ac(),fb(t))\n",
    "#display(dXb(Xb,t))"
   ]
  },
  {
   "cell_type": "markdown",
   "metadata": {},
   "source": [
    "# Podstawienie wartości do zmiennych symbolicznych"
   ]
  },
  {
   "cell_type": "code",
   "execution_count": 21,
   "metadata": {},
   "outputs": [],
   "source": [
    "params = {a_ship:1.2,b_ship:0.5} #Podstawienie wymiarów sterowca\n",
    "params.update({Cu:0.42,Cv:0.42,Cr:0.42,Vw:0.1}) #Podstawienie wartości współczynników aerodynamicznych i prędkości wiatru\n",
    "params.update({m:0.072, m3:0.018})#Podstawienie wartości masy strowca m=m1=m2, masa sterowca m3\n",
    "params.update({d1f:0.008, d2f:0.029, d3f:0.035})#Podstawienie dolnych wartości współczynników tłumienia\n",
    "params.update({d1c:0.01, d2c:0.057, d3c:0.05})#Podstawienie górnych wartości współczynników tłumienia\n",
    "params.update({k1:0.52, k2:0.5, k3:0.35, a:0.15})#Podstawienie wartości wzmocnień kontrolera tau_r\n",
    "params.update({k1b:1.6, k2b:0.13, k3b:1.0, k4b:0.16, k5b:0.0032})#Podstawienie wartości\n",
    "params.update({})#Podstawienie wartości\n",
    "params.update({})#Podstawienie wartości\n",
    "params.update({})#Podstawienie wartości\n",
    "params.update({})#Podstawienie wartości(tych wart nie ma w artykule-podałem losowe)"
   ]
  },
  {
   "cell_type": "markdown",
   "metadata": {},
   "source": [
    "# Podstawienie wartości do zmiennych symbolicznych"
   ]
  },
  {
   "cell_type": "code",
   "execution_count": 22,
   "metadata": {},
   "outputs": [],
   "source": [
    "#podstawienie wartości stałych współczynników\n",
    "tmp = sp.Matrix([[a_ship,b_ship,m,m3,Cu,Cv,Cr,Vw,d1f,d2f,d3f,d1c,d2c,d3c,k1,k2,k3,a,k1b,k2b,k3b,k4b,k5b]]).subs(params)\n",
    "a_ship,b_ship,m,m3,Cu,Cv,Cr,Vw,d1f,d2f,d3f,d1c,d2c,d3c,k1,k2,k3,a,k1b,k2b,k3b,k4b,k5b = tmp\n",
    "#podstawienie wartości, które są obliczane na podstawie stałych współczynników\n",
    "#tmp2 = sp.Matrix([[k_r,k_th,d10,d20,d30,delta_1,delta_2,delta_3,th3c,th3f]]).subs(params)\n",
    "#k_r,k_th,d10,d20,d30,delta_1,delta_2,delta_3,th3c,th3f = tmp2\n",
    "k_th = k1 * k2\n",
    "k_r = k1 + k2 - d3f\n",
    "th3f = a/((k3 - k1)*(k3 - k2))\n",
    "th3c = a/(k3**2 - (d3c + k_r)*k3 + k1*k2)\n",
    "d10 = (d1c + d1f)/2\n",
    "d20 = (d2c + d2f)/2\n",
    "d30 = (d3c + d3f)/2\n",
    "th30 = (th3c + th3f)/2\n",
    "delta_1 = (d1c - d1f)/2\n",
    "delta_2 = (d2c - d2f)/2\n",
    "delta_3 = (th3c - th3f)/2\n",
    "Delta_1 = delta_1 #wartości wielkich delta przyjęto równe małym deltom \n",
    "Delta_2 = delta_2\n",
    "Delta_3 = delta_3\n",
    "d1 = d10 + Delta_1\n",
    "d2 = d20 + Delta_2\n",
    "d3 = d30 + Delta_3#\n",
    "th3 = th30 + Delta_3\n",
    "delta_d = d3 - d3f\n",
    "lam_1 = ((delta_d + k1 + k2) + sp.sqrt(delta_d**2 + 2*delta_d*(k1 + k2) + (k1 - k2)**2))/2\n",
    "lam_2 = ((delta_d + k1 + k2) - sp.sqrt(delta_d**2 + 2*delta_d*(k1 + k2) + (k1 - k2)**2))/2\n",
    "th_0=1 # wartość początkowa kąta theta\n",
    "r_0=0  # wartość początkowa prędkości kątowej r\n",
    "th_1 = ((lam_2*th_0 + r_0)/(lam_2 - lam_1)) + a/((lam_2 - lam_1)*(k3 - lam_1))\n",
    "th_2 = ((k1*th_0 + r_0)/(lam_1 - lam_2)) + a/((lam_1 - lam_2)*(k3 - lam_2))\n",
    "th_3 = a/((lam_1 - k3)*(lam_2 - k3))\n",
    "rf = R\n",
    "af = Alp\n",
    "Ff = F\n",
    "tta = Th# ???funkcja Th czy kąt theta\n",
    "b2 = sp.Matrix([[1/m,0,0,0,0]]).T # macierz sterowania"
   ]
  },
  {
   "cell_type": "markdown",
   "metadata": {},
   "source": [
    "## D"
   ]
  },
  {
   "cell_type": "code",
   "execution_count": null,
   "metadata": {},
   "outputs": [],
   "source": []
  },
  {
   "cell_type": "code",
   "execution_count": null,
   "metadata": {},
   "outputs": [],
   "source": []
  },
  {
   "cell_type": "code",
   "execution_count": null,
   "metadata": {},
   "outputs": [],
   "source": []
  },
  {
   "cell_type": "code",
   "execution_count": null,
   "metadata": {},
   "outputs": [],
   "source": []
  },
  {
   "cell_type": "raw",
   "metadata": {},
   "source": []
  },
  {
   "cell_type": "code",
   "execution_count": null,
   "metadata": {},
   "outputs": [],
   "source": []
  },
  {
   "cell_type": "code",
   "execution_count": null,
   "metadata": {},
   "outputs": [],
   "source": []
  }
 ],
 "metadata": {
  "kernelspec": {
   "display_name": "Python 3",
   "language": "python",
   "name": "python3"
  },
  "language_info": {
   "codemirror_mode": {
    "name": "ipython",
    "version": 3
   },
   "file_extension": ".py",
   "mimetype": "text/x-python",
   "name": "python",
   "nbconvert_exporter": "python",
   "pygments_lexer": "ipython3",
   "version": "3.8.1"
  }
 },
 "nbformat": 4,
 "nbformat_minor": 4
}
