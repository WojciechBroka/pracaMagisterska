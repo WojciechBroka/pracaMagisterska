{
 "cells": [
  {
   "cell_type": "markdown",
   "metadata": {},
   "source": [
    "$$\n",
    "\\LaTeX macros\n",
    "\\newcommand{\\pba}{{p^b_a}}\n",
    "\\newcommand{\\de}{{\\dot{e}}}\n",
    "\\newcommand{\\dde}{{\\ddot{e}}}\n",
    "\\newcommand{\\pbd}{{p^b_d}}\n",
    "\\newcommand{\\dpba}{{\\dot{p}^b_a}}\n",
    "\\newcommand{\\ddpba}{{\\ddot{p}^b_a}}\n",
    "\\newcommand{\\dpbd}{{\\dot{p}^b_d}}\n",
    "\\newcommand{\\ddpbd}{{\\ddot{p}^b_d}}\n",
    "\\newcommand{\\pag}{{p^a_g}}\n",
    "\\newcommand{\\pav}{{p^a_v}}\n",
    "\\newcommand{\\dpag}{{\\dot{p}^a_g}}\n",
    "\\newcommand{\\pai}{{p^a_i}}\n",
    "\\newcommand{\\dpai}{{\\dot{p}^a_i}}\n",
    "\\newcommand{\\pbg}{{p^b_g}}\n",
    "\\newcommand{\\dpbg}{{\\dot{p}^b_g}}\n",
    "\\newcommand{\\ddpbg}{{\\ddot{p}^b_g}}\n",
    "\\newcommand{\\pbi}{{p^b_i}}\n",
    "\\newcommand{\\dpbi}{{\\dot{p}^b_i}}\n",
    "\\newcommand{\\ddpbi}{{\\ddot{p}^b_i}}\n",
    "\\newcommand{\\Rba}{{R^b_a}}\n",
    "\\newcommand{\\dRba}{{\\dot{R}{}^b_a}}\n",
    "\\newcommand{\\ddRba}{{\\ddot{R}{}^b_a}}\n",
    "\\newcommand{\\Rab}{{R^a_b}}\n",
    "\\newcommand{\\omaa}{{\\omega^a_a}}\n",
    "\\newcommand{\\domaa}{{\\dot{\\omega}{}^a_a}}\n",
    "\\newcommand{\\Somaa}{{S\\left(\\omega^a_a\\right)}}\n",
    "\\newcommand{\\dSomaa}{{S\\left(\\dot{\\omega}{}^a_a\\right)}}\n",
    "\\newcommand{\\Spag}{{S\\left(p^a_g\\right)}}\n",
    "\\newcommand{\\Spai}{{S\\left(p^a_i\\right)}}\n",
    "\\newcommand{\\nuaa}{{\\nu^a_a}}\n",
    "\\newcommand{\\dnuaa}{{\\dot{\\nu}{}^a_a}}\n",
    "\\newcommand{\\Fb}{{F^b}}\n",
    "\\newcommand{\\Fa}{{F^a}}\n",
    "\\newcommand{\\Fg}{{F_g}}\n",
    "\\newcommand{\\Fv}{{F_v}}\n",
    "\\newcommand{\\Ng}{{N_g}}\n",
    "\\newcommand{\\Nv}{{N_v}}\n",
    "\\newcommand{\\Fe}{{F^{ext}}}\n",
    "\\newcommand{\\Na}{{N^a}}\n",
    "\\newcommand{\\iM}{{M^{-1}}}\n",
    "\\newcommand{\\BM}{\\left[\\begin{matrix}}\n",
    "\\newcommand{\\EBM}{\\end{matrix}\\right]}\n",
    "\\newcommand{\\gamaa}{{\\gamma^a_a}}\n",
    "\\newcommand{\\dgamaa}{{\\dot{\\gamma}{}^a_a}}\n",
    "\\newcommand{\\vx}{\\vec{x}}\n",
    "\\newcommand{\\vt}{\\vec{\\tau}}\n",
    "\\newcommand{\\vn}{\\vec{\\nu}}\n",
    "\\newcommand{\\T}{^\\top}\n",
    "\\newcommand{\\o}[1]{{\\overline{#1}}}\n",
    "\\newcommand{\\d}[2]{{\\frac{\\partial #1}{\\partial #2}}}\n",
    "\\newcommand{\\xpba}{{\\,}^x{\\!}p^b_a}\n",
    "\\newcommand{\\ypba}{{\\,}^y{\\!}p^b_a}\n",
    "\\newcommand{\\As}{{A^{\\!*}}}\n",
    "$$\n"
   ]
  },
  {
   "cell_type": "markdown",
   "metadata": {},
   "source": [
    "## Implementacja artykułu \"Adaptive sliding-mode attitude control for autonomous underwater vehicles with input nonlinearities\""
   ]
  },
  {
   "cell_type": "markdown",
   "metadata": {},
   "source": [
    "Link do artykułu:    https://doi.org/10.1016/j.oceaneng.2016.06.041"
   ]
  },
  {
   "cell_type": "markdown",
   "metadata": {},
   "source": [
    "## Import"
   ]
  },
  {
   "cell_type": "code",
   "execution_count": 1,
   "metadata": {},
   "outputs": [],
   "source": [
    "import sympy as sp \n",
    "import numpy as np\n",
    "import scipy as sc\n",
    "import matplotlib.pyplot as plt # ploting results\n",
    "from scipy.integrate import solve_ivp # solving differential equations\n",
    "from scipy import linalg # solving are\n",
    "MAT = np.array\n",
    "%config IPCompleter.greedy=True"
   ]
  },
  {
   "cell_type": "code",
   "execution_count": 2,
   "metadata": {},
   "outputs": [],
   "source": [
    "#definicja dekoratora log_results\n",
    "import functools\n",
    "\n",
    "def log_results(func):\n",
    "    @functools.wraps(func)\n",
    "    def w_dec(*args, **kwargs):\n",
    "        res = func(*args, **kwargs)\n",
    "        t_old = -1 if len(w_dec.t) == 0 else w_dec.t[-1]\n",
    "        t_new = args[0]\n",
    "        if t_new > t_old:\n",
    "            w_dec.log.append(res)\n",
    "            w_dec.t.append(args[0])\n",
    "        else:\n",
    "            f = filter(lambda x: x >= t_new, w_dec.t)\n",
    "            idx = w_dec.t.index(next(f))\n",
    "            w_dec.log = w_dec.log[0:idx]+[res]\n",
    "            w_dec.t = w_dec.t[0:idx]+[t_new]\n",
    "        return res\n",
    "    w_dec.log = []\n",
    "    w_dec.t = []\n",
    "    return w_dec"
   ]
  },
  {
   "cell_type": "markdown",
   "metadata": {},
   "source": [
    "## Zmienne symboliczne"
   ]
  },
  {
   "cell_type": "code",
   "execution_count": 3,
   "metadata": {},
   "outputs": [],
   "source": [
    "t = sp.symbols('t') # czas\n",
    "psi_, tta_, phi_ = sp.symbols('\\\\psi \\\\theta \\\\phi', cls=sp.Function)# kąty Eulera kolejno yaw, pitch, roll\n",
    "psi, tta, phi = psi_(t), tta_(t), phi_(t)\n",
    "psi_0, Omy_0 = sp.symbols('\\\\psi(0) \\\\omega_y(0)')\n",
    "x_, y_, z_ = sp.symbols('x y z', cls=sp.Function) # położenie torpedy w układzie globalnym\n",
    "x, y, z = x_(t), y_(t), z_(t)\n",
    "Vx_, Vy_, Vz_ = sp.symbols('V_x V_y V_z', cls=sp.Function) # prędkosci liniowe w układzie lokalnym\n",
    "Vx, Vy, Vz = Vx_(t), Vy_(t), Vz_(t)\n",
    "dVx_, dVy_, dVz_ = sp.symbols('\\dot{V}_x \\dot{V}_y \\dot{V}_z', cls=sp.Function) # prędkosci liniowe w układzie lokalnym\n",
    "dVx, dVy, dVz = dVx_(t), dVy_(t), dVz_(t)\n",
    "Omx_, Omy_, Omz_ = sp.symbols('\\\\omega_x \\\\omega_y \\\\omega_z', cls=sp.Function) # prędkosci kątowe w układzie lokalnym\n",
    "Omx, Omy, Omz = Omx_(t), Omy_(t), Omz_(t)\n",
    "dOmx_, dOmy_, dOmz_ = sp.symbols('\\dot{\\\\omega}_x \\dot{\\\\omega}_y \\dot{\\\\omega}_z', cls=sp.Function) # prędkosci kątowe w układzie lokalnym\n",
    "dOmx, dOmy, dOmz = dOmx_(t), dOmy_(t), dOmz_(t)\n",
    "V = sp.symbols('V') # prędkość wypadkowa sqrt(Vx^2 + Vy^2 + Vz^2)\n",
    "xc, yc, zc = sp.symbols('x_c y_c z_c') # współrzędne odległości od środka ciężkości do środka wyporności \n",
    "de, dr, dd = sp.symbols('\\\\delta_e \\\\delta_r \\\\delta_d')\n",
    "\n",
    "beta, alpha = sp.symbols('\\\\beta \\\\alpha') # kąt pooślizgu i natarcia\n",
    "m, rho, L, S, T = sp.symbols('m \\\\rho L S T') # masa torpedy, gęstość wody, długość i przekrój poprzeczny torpedy, siła ciagu\n",
    "lam11, lam22, lam33, lam44 = sp.symbols('\\\\lambda_{11} \\\\lambda_{22} \\\\lambda_{33} \\\\lambda_{44}') # masa dodana\n",
    "lam26, lam35, lam55, lam66 = sp.symbols('\\\\lambda_{26} \\\\lambda_{35} \\\\lambda_{55} \\\\lambda_{66}') # masa dodana\n",
    "Jxx, Jyy, Jzz = sp.symbols('J_{xx} J_{yy} J_{zz}') # dodany moment bezwładności\n",
    "G, dG, dMxp = sp.symbols('G {\\\\Delta}G {\\\\Delta}M_{xp}') # współczynniki\n",
    "Ca_xs, Ca_y, Cde_y, Cwz_y, Cb_z, Cdr_z, Cwy_z = sp.symbols('C^{\\\\alpha}_{xS} C^{\\\\alpha}_{y} C^{\\\\delta_e}_{y} C^{\\\\omega_z}_{y} C^{\\\\beta}_{z} C^{\\\\delta_r}_{z} C^{\\\\omega_y}_{z}')\n",
    "mb_x, mdr_x, mdd_x, mox_x, moy_y, mb_y = sp.symbols('m^{\\\\beta}_x m^{\\\\delta_r}_x m^{\\\\delta_d}_x m^{\\\\omega_x}_x m^{\\\\omega_y}_y m^{\\\\beta}_y ')\n",
    "mdr_y, mox_y, ma_z, mde_z, moz_z = sp.symbols('m^{\\\\delta_r}_y m^{\\\\omega_x}_y m^{\\\\alpha}_z m^{\\\\delta_e}_z m^{\\\\omega_z}_z')\n",
    "c1, c2, c3 = sp.symbols('c_1 c_2 c_3') # c1 c2 wspł hydrodynamiczne c3 wspł wzm sterowania petli otwartej \n",
    "c4, c5, c6 = sp.symbols('c_4 c_5 c_6')\n",
    "f_, d_ = sp.symbols('f d', cls=sp.Function)\n",
    "f, d = f_(V,psi,Omy,t), d_(t)\n",
    "D, h, PHI = sp.symbols('D h \\\\Phi') # nieliniowa część dynamiki i zaburzenia\n",
    "s, e, edot, lam = sp.symbols('s e \\dot{e} \\\\lambda') # zmienne sterownika ślizgowego\n",
    "bhat, hhat, rhohat, Lest, tau, k = sp.symbols('\\hat{b} \\hat{h} \\hat{\\\\rho} L_{est} \\\\tau k')#estymaty i wzmocnienia\n",
    "PSId, PSIdbis, PSIddot = sp.symbols('\\\\Psi_d \\ddot{\\\\Psi}_d \\dot{\\\\Psi}_d') #wartości kąta zadanego, 2 pochoodna, 1 pochodna\n",
    "k1, k2, k3 = sp.symbols('k_1 k_2 k_3')# wzmocnienia pochodnych estymat\n",
    "Phib = sp.symbols('\\\\Phi_b') #wsp ograniczenia funkcji saturacji \n",
    "sig, mu, u = sp.symbols('\\\\sigma m_u u') #zmienne sterowania z martwą strefą\n",
    "mr, ml, br, bl = sp.symbols('m_r m_l b_r b_l') #parametry martwej strefy\n",
    "Omyhat, Omyhatdot, k06, k07 = sp.symbols('\\hat{\\\\omega}_y \\dot{\\hat{\\\\omega}}_y k_{06} k_{07}')\n",
    "Dhat, mihat, ghat = sp.symbols('\\hat{D} \\hat{\\\\mu} \\hat{g}')\n",
    "b1hat, L1est = sp.symbols('\\hat{b}_1 L_{1est}')\n",
    "k01, k02, k03, k04, k05 = sp.symbols('k_{01} k_{02} k_{03} k_{04} k_{05}')#wsp wzm prawa adaptacji \n",
    "drm = sp.symbols('\\\\delta_{rm}')#górny poziom nasycenia\n",
    "kwindup, l, c3b, w, du, w2 = sp.symbols('k^* l \\\\bar{c}_3 w {\\\\Delta}u w_{aw}')\n",
    "b2, L2est, c3h = sp.symbols('\\hat{b}_2 L_{2est} \\\\hat{c}_3')\n",
    "c1h, c2h, c3h = sp.symbols('\\hat{c}_1 \\hat{c}_2 \\hat{c}_3')\n",
    "c1h_0, c2h_0, c3h_0, rhoh_0, bh_0, gh_0, mih_0, Omyh_0, Dh_0 = sp.symbols('\\\\hat{c}_1(0) \\\\hat{c}_2(0) \\\\hat{c}_3(0) \\\\hat{\\\\rho}(0) \\\\hat{b}(0) \\\\hat{g}(0) \\\\hat{\\\\mu}(0) \\\\hat{\\\\omega}_y(0) \\\\hat{D}(0)')\n",
    "muu = sp.symbols('m_u', cls=sp.Function)\n",
    "drm = sp.symbols('\\\\delta_{rm}')\n",
    "l_small = sp.symbols('l')"
   ]
  },
  {
   "cell_type": "code",
   "execution_count": 4,
   "metadata": {},
   "outputs": [
    {
     "data": {
      "text/latex": [
       "$\\displaystyle \\hat{c}_2$"
      ],
      "text/plain": [
       "\\hat{c}_2"
      ]
     },
     "execution_count": 4,
     "metadata": {},
     "output_type": "execute_result"
    }
   ],
   "source": [
    "c2h"
   ]
  },
  {
   "cell_type": "markdown",
   "metadata": {},
   "source": [
    "Definicja kąta poślizgu $\\beta$ i kąta natarcia $\\alpha$ - rozdział 2.1 opis przed wzorem (1)"
   ]
  },
  {
   "cell_type": "code",
   "execution_count": 5,
   "metadata": {},
   "outputs": [],
   "source": [
    "beta_ = sp.atan(Vz/sp.sqrt(Vx**2+Vy**2))\n",
    "alpha_ = -sp.atan(Vy/Vx)\n",
    "podstaw = {beta:0.05,alpha:alpha_}\n",
    "#display(beta_,alpha_)"
   ]
  },
  {
   "cell_type": "markdown",
   "metadata": {},
   "source": [
    "Opis kinematyki AUV - rozdział 2.1 (1)  $\\BM \\dot{x}\\\\\\dot{y}\\\\\\dot{z} \\EBM$"
   ]
  },
  {
   "cell_type": "code",
   "execution_count": 6,
   "metadata": {},
   "outputs": [
    {
     "data": {
      "text/latex": [
       "$\\displaystyle \\left[\\begin{matrix}\\cos{\\left(\\psi{\\left(t \\right)} \\right)} \\cos{\\left(\\theta{\\left(t \\right)} \\right)} & \\sin{\\left(\\phi{\\left(t \\right)} \\right)} \\sin{\\left(\\psi{\\left(t \\right)} \\right)} - \\sin{\\left(\\theta{\\left(t \\right)} \\right)} \\cos{\\left(\\phi{\\left(t \\right)} \\right)} \\cos{\\left(\\psi{\\left(t \\right)} \\right)} & \\sin{\\left(\\psi{\\left(t \\right)} \\right)} \\cos{\\left(\\phi{\\left(t \\right)} \\right)} + \\sin{\\left(\\theta{\\left(t \\right)} \\right)} \\cos{\\left(\\psi{\\left(t \\right)} \\right)}\\\\\\sin{\\left(\\phi{\\left(t \\right)} \\right)} & \\cos{\\left(\\phi{\\left(t \\right)} \\right)} \\cos{\\left(\\theta{\\left(t \\right)} \\right)} & - \\sin{\\left(\\phi{\\left(t \\right)} \\right)} \\cos{\\left(\\theta{\\left(t \\right)} \\right)} + \\sin{\\left(\\phi{\\left(t \\right)} \\right)}\\\\- \\sin{\\left(\\psi{\\left(t \\right)} \\right)} \\cos{\\left(\\theta{\\left(t \\right)} \\right)} & \\sin{\\left(\\phi{\\left(t \\right)} \\right)} \\cos{\\left(\\psi{\\left(t \\right)} \\right)} + \\sin{\\left(\\psi{\\left(t \\right)} \\right)} \\sin{\\left(\\theta{\\left(t \\right)} \\right)} \\cos{\\left(\\phi{\\left(t \\right)} \\right)} & - \\sin{\\left(\\phi{\\left(t \\right)} \\right)} \\sin{\\left(\\psi{\\left(t \\right)} \\right)} \\sin{\\left(\\theta{\\left(t \\right)} \\right)} + \\cos{\\left(\\phi{\\left(t \\right)} \\right)} \\cos{\\left(\\psi{\\left(t \\right)} \\right)}\\end{matrix}\\right]$"
      ],
      "text/plain": [
       "Matrix([\n",
       "[ cos(\\psi(t))*cos(\\theta(t)), sin(\\phi(t))*sin(\\psi(t)) - sin(\\theta(t))*cos(\\phi(t))*cos(\\psi(t)),               sin(\\psi(t))*cos(\\phi(t)) + sin(\\theta(t))*cos(\\psi(t))],\n",
       "[                sin(\\phi(t)),                                          cos(\\phi(t))*cos(\\theta(t)),                           -sin(\\phi(t))*cos(\\theta(t)) + sin(\\phi(t))],\n",
       "[-sin(\\psi(t))*cos(\\theta(t)), sin(\\phi(t))*cos(\\psi(t)) + sin(\\psi(t))*sin(\\theta(t))*cos(\\phi(t)), -sin(\\phi(t))*sin(\\psi(t))*sin(\\theta(t)) + cos(\\phi(t))*cos(\\psi(t))]])"
      ]
     },
     "metadata": {},
     "output_type": "display_data"
    },
    {
     "data": {
      "text/latex": [
       "$\\displaystyle \\left[\\begin{matrix}\\operatorname{V_{x}}{\\left(t \\right)}\\\\\\operatorname{V_{y}}{\\left(t \\right)}\\\\\\operatorname{V_{z}}{\\left(t \\right)}\\end{matrix}\\right]$"
      ],
      "text/plain": [
       "Matrix([\n",
       "[V_x(t)],\n",
       "[V_y(t)],\n",
       "[V_z(t)]])"
      ]
     },
     "metadata": {},
     "output_type": "display_data"
    }
   ],
   "source": [
    "Rot_ = sp.Matrix([[sp.cos(tta)*sp.cos(psi),sp.sin(psi)*sp.sin(phi)-sp.sin(tta)*sp.cos(psi)*sp.cos(phi),sp.sin(psi)*sp.cos(phi)+sp.sin(tta)*sp.cos(psi)],\n",
    "                 [sp.sin(phi),sp.cos(tta)*sp.cos(phi),sp.sin(phi)-sp.cos(tta)*sp.sin(phi)],\n",
    "                 [-sp.cos(tta)*sp.sin(psi),sp.cos(psi)*sp.sin(phi)+sp.sin(tta)*sp.sin(psi)*sp.cos(phi),sp.cos(psi)*sp.cos(phi)-sp.sin(tta)*sp.sin(psi)*sp.sin(phi)]])\n",
    "V_ = sp.Matrix([[Vx, Vy, Vz]]).T\n",
    "velState_ = Rot_@V_ # wektor stanu pochodnych położenia\n",
    "display(Rot_,V_)"
   ]
  },
  {
   "cell_type": "markdown",
   "metadata": {},
   "source": [
    "Opis kinematyki AUV - rozdział 2.1 (2)  $\\BM \\dot{\\psi}\\\\\\dot{\\theta}\\\\\\dot{\\phi} \\EBM$"
   ]
  },
  {
   "cell_type": "code",
   "execution_count": 7,
   "metadata": {},
   "outputs": [
    {
     "data": {
      "text/latex": [
       "$\\displaystyle \\left[\\begin{matrix}0 & \\frac{\\cos{\\left(\\phi{\\left(t \\right)} \\right)}}{\\cos{\\left(\\theta{\\left(t \\right)} \\right)}} & \\frac{\\sin{\\left(\\phi{\\left(t \\right)} \\right)}}{\\cos{\\left(\\theta{\\left(t \\right)} \\right)}}\\\\0 & \\sin{\\left(\\phi{\\left(t \\right)} \\right)} & \\cos{\\left(\\phi{\\left(t \\right)} \\right)}\\\\1 & - \\cos{\\left(\\phi{\\left(t \\right)} \\right)} \\tan{\\left(\\theta{\\left(t \\right)} \\right)} & \\sin{\\left(\\phi{\\left(t \\right)} \\right)} \\tan{\\left(\\theta{\\left(t \\right)} \\right)}\\end{matrix}\\right]$"
      ],
      "text/plain": [
       "Matrix([\n",
       "[0,  cos(\\phi(t))/cos(\\theta(t)), sin(\\phi(t))/cos(\\theta(t))],\n",
       "[0,                 sin(\\phi(t)),                cos(\\phi(t))],\n",
       "[1, -cos(\\phi(t))*tan(\\theta(t)), sin(\\phi(t))*tan(\\theta(t))]])"
      ]
     },
     "metadata": {},
     "output_type": "display_data"
    },
    {
     "data": {
      "text/latex": [
       "$\\displaystyle \\left[\\begin{matrix}\\omega_{x}{\\left(t \\right)}\\\\\\omega_{y}{\\left(t \\right)}\\\\\\omega_{z}{\\left(t \\right)}\\end{matrix}\\right]$"
      ],
      "text/plain": [
       "Matrix([\n",
       "[\\omega_x(t)],\n",
       "[\\omega_y(t)],\n",
       "[\\omega_z(t)]])"
      ]
     },
     "metadata": {},
     "output_type": "display_data"
    }
   ],
   "source": [
    "Rot2_ = sp.Matrix([[0,1/sp.cos(tta)*sp.cos(phi),1/sp.cos(tta)*sp.sin(phi)],\n",
    "                   [0,sp.sin(phi),sp.cos(phi)],\n",
    "                   [1,-sp.tan(tta)*sp.cos(phi),sp.tan(tta)*sp.sin(phi)]])\n",
    "Om_ = sp.Matrix([[Omx,Omy,Omz]]).T\n",
    "dAngState_ = Rot2_@Om_\n",
    "display(Rot2_,Om_)"
   ]
  },
  {
   "cell_type": "markdown",
   "metadata": {},
   "source": [
    "Równania dynamiki - rozdział 2.1 (3)"
   ]
  },
  {
   "cell_type": "code",
   "execution_count": 8,
   "metadata": {},
   "outputs": [
    {
     "data": {
      "text/latex": [
       "$\\displaystyle \\frac{- 0.5 C^{\\alpha}_{xS} S V^{2} \\rho + T - {\\Delta}G \\sin{\\left(\\theta{\\left(t \\right)} \\right)}}{\\lambda_{11} + m}$"
      ],
      "text/plain": [
       "(-0.5*C^{\\alpha}_{xS}*S*V**2*\\rho + T - {\\Delta}G*sin(\\theta(t)))/(\\lambda_{11} + m)"
      ]
     },
     "metadata": {},
     "output_type": "display_data"
    },
    {
     "data": {
      "text/latex": [
       "$\\displaystyle \\frac{0.5 S V^{2} \\rho \\left(C^{\\alpha}_{y} \\alpha + C^{\\delta_e}_{y} \\delta_e + C^{\\omega_z}_{y} \\omega_{z}{\\left(t \\right)}\\right) - m \\operatorname{V_{x}}{\\left(t \\right)} \\omega_{z}{\\left(t \\right)} - {\\Delta}G \\cos{\\left(\\phi{\\left(t \\right)} \\right)} \\cos{\\left(\\theta{\\left(t \\right)} \\right)} + \\left(- \\lambda_{26} - m x_{c}\\right) \\dot{\\omega}_z{\\left(t \\right)}}{\\lambda_{22} + m}$"
      ],
      "text/plain": [
       "(0.5*S*V**2*\\rho*(C^{\\alpha}_{y}*\\alpha + C^{\\delta_e}_{y}*\\delta_e + C^{\\omega_z}_{y}*\\omega_z(t)) - m*V_x(t)*\\omega_z(t) - {\\Delta}G*cos(\\phi(t))*cos(\\theta(t)) + (-\\lambda_{26} - m*x_c)*\\dot{\\omega}_z(t))/(\\lambda_{22} + m)"
      ]
     },
     "metadata": {},
     "output_type": "display_data"
    },
    {
     "data": {
      "text/latex": [
       "$\\displaystyle \\frac{0.5 S V^{2} \\rho \\left(C^{\\beta}_{z} \\beta + C^{\\delta_r}_{z} + C^{\\omega_y}_{z}\\right) + m \\operatorname{V_{x}}{\\left(t \\right)} \\omega_{y}{\\left(t \\right)} + {\\Delta}G \\sin{\\left(\\phi{\\left(t \\right)} \\right)} \\cos{\\left(\\theta{\\left(t \\right)} \\right)} + \\left(- \\lambda_{35} + m x_{c}\\right) \\dot{\\omega}_y{\\left(t \\right)}}{\\lambda_{33} + m}$"
      ],
      "text/plain": [
       "(0.5*S*V**2*\\rho*(C^{\\beta}_{z}*\\beta + C^{\\delta_r}_{z} + C^{\\omega_y}_{z}) + m*V_x(t)*\\omega_y(t) + {\\Delta}G*sin(\\phi(t))*cos(\\theta(t)) + (-\\lambda_{35} + m*x_c)*\\dot{\\omega}_y(t))/(\\lambda_{33} + m)"
      ]
     },
     "metadata": {},
     "output_type": "display_data"
    },
    {
     "data": {
      "text/latex": [
       "$\\displaystyle \\frac{G \\left(y_{c} \\sin{\\left(\\phi{\\left(t \\right)} \\right)} + z_{c} \\cos{\\left(\\phi{\\left(t \\right)} \\right)}\\right) \\cos{\\left(\\theta{\\left(t \\right)} \\right)} + 0.5 L S V^{2} \\rho \\left(\\beta m^{\\beta}_x + \\delta_d m^{\\delta_d}_x + \\delta_r m^{\\delta_r}_x + m^{\\omega_x}_x \\omega_{x}{\\left(t \\right)} + m^{\\omega_y}_y \\omega_{y}{\\left(t \\right)}\\right) + m \\left(y_{c} \\omega_{x}{\\left(t \\right)} + z_{c} \\omega_{x}{\\left(t \\right)}\\right) \\operatorname{V_{x}}{\\left(t \\right)} + {\\Delta}M_{xp}}{J_{xx} + \\lambda_{44}}$"
      ],
      "text/plain": [
       "(G*(y_c*sin(\\phi(t)) + z_c*cos(\\phi(t)))*cos(\\theta(t)) + 0.5*L*S*V**2*\\rho*(\\beta*m^{\\beta}_x + \\delta_d*m^{\\delta_d}_x + \\delta_r*m^{\\delta_r}_x + m^{\\omega_x}_x*\\omega_x(t) + m^{\\omega_y}_y*\\omega_y(t)) + m*(y_c*\\omega_x(t) + z_c*\\omega_x(t))*V_x(t) + {\\Delta}M_{xp})/(J_{xx} + \\lambda_{44})"
      ]
     },
     "metadata": {},
     "output_type": "display_data"
    },
    {
     "data": {
      "text/latex": [
       "$\\displaystyle \\frac{- G \\left(x_{c} \\sin{\\left(\\phi{\\left(t \\right)} \\right)} \\cos{\\left(\\theta{\\left(t \\right)} \\right)} + z_{c} \\sin{\\left(\\theta{\\left(t \\right)} \\right)}\\right) + 0.5 L S V^{2} \\rho \\left(\\beta m^{\\beta}_y + \\delta_r m^{\\delta_r}_y + m^{\\omega_x}_y \\omega_{x}{\\left(t \\right)} + m^{\\omega_y}_y \\omega_{y}{\\left(t \\right)}\\right) - m x_{c} \\operatorname{V_{x}}{\\left(t \\right)} \\omega_{y}{\\left(t \\right)} + \\left(- \\lambda_{35} + m x_{c}\\right) \\dot{V}_z{\\left(t \\right)}}{J_{yy} + \\lambda_{55}}$"
      ],
      "text/plain": [
       "(-G*(x_c*sin(\\phi(t))*cos(\\theta(t)) + z_c*sin(\\theta(t))) + 0.5*L*S*V**2*\\rho*(\\beta*m^{\\beta}_y + \\delta_r*m^{\\delta_r}_y + m^{\\omega_x}_y*\\omega_x(t) + m^{\\omega_y}_y*\\omega_y(t)) - m*x_c*V_x(t)*\\omega_y(t) + (-\\lambda_{35} + m*x_c)*\\dot{V}_z(t))/(J_{yy} + \\lambda_{55})"
      ]
     },
     "metadata": {},
     "output_type": "display_data"
    },
    {
     "data": {
      "text/latex": [
       "$\\displaystyle \\frac{G \\left(- x_{c} \\cos{\\left(\\phi{\\left(t \\right)} \\right)} \\cos{\\left(\\theta{\\left(t \\right)} \\right)} + y_{c} \\sin{\\left(\\theta{\\left(t \\right)} \\right)}\\right) + 0.5 L S V^{2} \\rho \\left(\\alpha m^{\\alpha}_z + \\delta_e m^{\\delta_e}_z + m^{\\omega_z}_z \\omega_{z}{\\left(t \\right)}\\right) - m x_{c} \\operatorname{V_{x}}{\\left(t \\right)} \\omega_{z}{\\left(t \\right)} - \\left(\\lambda_{26} + m x_{c}\\right) \\dot{V}_y{\\left(t \\right)}}{J_{zz} + \\lambda_{66}}$"
      ],
      "text/plain": [
       "(G*(-x_c*cos(\\phi(t))*cos(\\theta(t)) + y_c*sin(\\theta(t))) + 0.5*L*S*V**2*\\rho*(\\alpha*m^{\\alpha}_z + \\delta_e*m^{\\delta_e}_z + m^{\\omega_z}_z*\\omega_z(t)) - m*x_c*V_x(t)*\\omega_z(t) - (\\lambda_{26} + m*x_c)*\\dot{V}_y(t))/(J_{zz} + \\lambda_{66})"
      ]
     },
     "metadata": {},
     "output_type": "display_data"
    }
   ],
   "source": [
    "dVx_ = (T-0.5*Ca_xs*rho*V**2*S-dG*sp.sin(tta))/(m + lam11)\n",
    "dVy_ = (-(m*xc+lam26)*dOmz-m*Vx*Omz+0.5*rho*V**2*S*(Ca_y*alpha+Cde_y*de+Cwz_y*Omz)-dG*sp.cos(tta)*sp.cos(phi))/(m + lam22)\n",
    "dVz_ = ((m*xc-lam35)*dOmy+m*Vx*Omy+0.5*rho*V**2*S*(Cb_z*beta+Cdr_z+Cwy_z)+dG*sp.cos(tta)*sp.sin(phi))/(m + lam33)\n",
    "dOmx_ = (m*Vx*(yc*Omx+zc*Omx)+0.5*rho*V**2*S*L*(mb_x*beta+mdr_x*dr+mdd_x*dd+mox_x*Omx+moy_y*Omy)+G*sp.cos(tta)*(yc*sp.sin(phi)+zc*sp.cos(phi))+dMxp)/(Jxx+lam44)\n",
    "dOmy_ = (-m*Vx*xc*Omy+(m*xc-lam35)*dVz+0.5*rho*V**2*S*L*(mb_y*beta+mdr_y*dr+mox_y*Omx+moy_y*Omy)-G*(xc*sp.cos(tta)*sp.sin(phi)+zc*sp.sin(tta)))/(Jyy+lam55)\n",
    "dOmz_ = (-m*Vx*xc*Omz-(m*xc+lam26)*dVy+0.5*rho*V**2*S*L*(ma_z*alpha+mde_z*de+moz_z*Omz)+G*(yc*sp.sin(tta)-xc*sp.cos(tta)*sp.cos(phi)))/(Jzz+lam66)\n",
    "display(dVx_,dVy_,dVz_,dOmx_,dOmy_,dOmz_) "
   ]
  },
  {
   "cell_type": "markdown",
   "metadata": {},
   "source": [
    "Obliczenie prędkości - rozdział 2.1 "
   ]
  },
  {
   "cell_type": "code",
   "execution_count": 9,
   "metadata": {},
   "outputs": [
    {
     "data": {
      "text/latex": [
       "$\\displaystyle \\sqrt{\\operatorname{V_{x}}^{2}{\\left(t \\right)} + \\operatorname{V_{y}}^{2}{\\left(t \\right)} + \\operatorname{V_{z}}^{2}{\\left(t \\right)}}$"
      ],
      "text/plain": [
       "sqrt(V_x(t)**2 + V_y(t)**2 + V_z(t)**2)"
      ]
     },
     "metadata": {},
     "output_type": "display_data"
    }
   ],
   "source": [
    "V_ = sp.sqrt(Vx**2+Vy**2+Vz**2)\n",
    "podstaw.update({V:V_})\n",
    "display(V_)"
   ]
  },
  {
   "cell_type": "markdown",
   "metadata": {},
   "source": [
    "Równania dynamiki i kinematyki kąta odchylenia - rozdział 2.2 (4)"
   ]
  },
  {
   "cell_type": "code",
   "execution_count": 10,
   "metadata": {},
   "outputs": [
    {
     "data": {
      "text/latex": [
       "$\\displaystyle \\omega_{y}{\\left(t \\right)}$"
      ],
      "text/plain": [
       "\\omega_y(t)"
      ]
     },
     "metadata": {},
     "output_type": "display_data"
    },
    {
     "data": {
      "text/latex": [
       "$\\displaystyle \\beta c_{2} + \\delta_r c_{3} + c_{1} \\omega_{y}{\\left(t \\right)} + d{\\left(t \\right)} + f{\\left(V,\\psi{\\left(t \\right)},\\omega_{y}{\\left(t \\right)},t \\right)}$"
      ],
      "text/plain": [
       "\\beta*c_2 + \\delta_r*c_3 + c_1*\\omega_y(t) + d(t) + f(V, \\psi(t), \\omega_y(t), t)"
      ]
     },
     "metadata": {},
     "output_type": "display_data"
    }
   ],
   "source": [
    "dPsi_ = Omy  \n",
    "dOMy_ = c1*Omy + c2*beta + c3*dr + f + d \n",
    "display(dPsi_, dOMy_)"
   ]
  },
  {
   "cell_type": "markdown",
   "metadata": {},
   "source": [
    "Kompaktowa forma wzoru (4) - rozdział 2.2 (5)"
   ]
  },
  {
   "cell_type": "code",
   "execution_count": 11,
   "metadata": {},
   "outputs": [
    {
     "data": {
      "text/latex": [
       "$\\displaystyle \\left[\\begin{matrix}D + \\beta c_{2} + \\delta_r c_{3} + c_{1} \\omega_{y}{\\left(t \\right)}\\end{matrix}\\right]$"
      ],
      "text/plain": [
       "Matrix([[D + \\beta*c_2 + \\delta_r*c_3 + c_1*\\omega_y(t)]])"
      ]
     },
     "metadata": {},
     "output_type": "display_data"
    }
   ],
   "source": [
    "h_ = sp.Matrix([[c1,c2]]).T\n",
    "PHI_ = sp.Matrix([[Omy,beta]]).T\n",
    "dOmy2_ = sp.Transpose(h_)@PHI_ + sp.Matrix([[c3*dr]]) + sp.Matrix([[D]])\n",
    "display(dOmy2_)"
   ]
  },
  {
   "cell_type": "markdown",
   "metadata": {},
   "source": [
    "Definicja błędwów śledzenia trajektorii zadanej - rozdział 2.2 (6)"
   ]
  },
  {
   "cell_type": "code",
   "execution_count": 12,
   "metadata": {},
   "outputs": [
    {
     "data": {
      "text/latex": [
       "$\\displaystyle e$"
      ],
      "text/plain": [
       "e"
      ]
     },
     "metadata": {},
     "output_type": "display_data"
    },
    {
     "data": {
      "text/latex": [
       "$\\displaystyle - \\dot{\\Psi}_d + \\omega_{y}{\\left(t \\right)}$"
      ],
      "text/plain": [
       "-\\dot{\\Psi}_d + \\omega_y(t)"
      ]
     },
     "metadata": {},
     "output_type": "display_data"
    }
   ],
   "source": [
    "e_ = psi - PSId\n",
    "edot_ = Omy - PSIddot\n",
    "podstaw.update({e:e_,edot:edot_})\n",
    "display(e,edot_)"
   ]
  },
  {
   "cell_type": "markdown",
   "metadata": {},
   "source": [
    "Sterowanie ślizgowe - rozdział 3 (7)"
   ]
  },
  {
   "cell_type": "code",
   "execution_count": 13,
   "metadata": {},
   "outputs": [
    {
     "data": {
      "text/latex": [
       "$\\displaystyle \\dot{e} + \\lambda e$"
      ],
      "text/plain": [
       "\\dot{e} + \\lambda*e"
      ]
     },
     "metadata": {},
     "output_type": "display_data"
    }
   ],
   "source": [
    "s_ = edot + lam*e\n",
    "display(s_)"
   ]
  },
  {
   "cell_type": "markdown",
   "metadata": {},
   "source": [
    "Prawo sterowania - rozdział 3 (13)"
   ]
  },
  {
   "cell_type": "code",
   "execution_count": 14,
   "metadata": {},
   "outputs": [
    {
     "data": {
      "text/latex": [
       "$\\displaystyle L_{est} \\hat{b}$"
      ],
      "text/plain": [
       "L_{est}*\\hat{b}"
      ]
     },
     "metadata": {},
     "output_type": "display_data"
    },
    {
     "data": {
      "text/latex": [
       "$\\displaystyle - \\Phi \\hat{h} + \\ddot{\\Psi}_d - \\hat{\\rho} \\operatorname{sign}{\\left(s \\right)} - \\lambda \\left(- \\dot{\\Psi}_d + \\omega_{y}{\\left(t \\right)}\\right) - \\tau s - k \\operatorname{sign}{\\left(s \\right)}$"
      ],
      "text/plain": [
       "-\\Phi*\\hat{h} + \\ddot{\\Psi}_d - \\hat{\\rho}*sign(s) - \\lambda*(-\\dot{\\Psi}_d + \\omega_y(t)) - \\tau*s - k*sign(s)"
      ]
     },
     "metadata": {},
     "output_type": "display_data"
    }
   ],
   "source": [
    "znak = sp.sign(s) \n",
    "Lest_ = -tau*s - k*znak - hhat*PHI - rhohat*znak + PSIdbis - lam*(Omy - PSIddot)\n",
    "dr_ = bhat*Lest\n",
    "podstaw.update({Lest:Lest_})\n",
    "display(dr_,Lest_)"
   ]
  },
  {
   "cell_type": "markdown",
   "metadata": {},
   "source": [
    "Prawo adaptacji - rozdział 3 (14)"
   ]
  },
  {
   "cell_type": "code",
   "execution_count": 15,
   "metadata": {},
   "outputs": [
    {
     "data": {
      "text/latex": [
       "$\\displaystyle \\left[\\begin{matrix}k_{1} s \\omega_{y}{\\left(t \\right)}\\\\\\beta k_{1} s\\end{matrix}\\right]$"
      ],
      "text/plain": [
       "Matrix([\n",
       "[k_1*s*\\omega_y(t)],\n",
       "[      \\beta*k_1*s]])"
      ]
     },
     "metadata": {},
     "output_type": "display_data"
    },
    {
     "data": {
      "text/latex": [
       "$\\displaystyle - L_{est} k_{2} s$"
      ],
      "text/plain": [
       "-L_{est}*k_2*s"
      ]
     },
     "metadata": {},
     "output_type": "display_data"
    },
    {
     "data": {
      "text/latex": [
       "$\\displaystyle k_{3} \\left|{s}\\right|$"
      ],
      "text/plain": [
       "k_3*Abs(s)"
      ]
     },
     "metadata": {},
     "output_type": "display_data"
    }
   ],
   "source": [
    "h1hatdot_ = k1*Omy*s\n",
    "h2hatdot_ = k1*beta*s\n",
    "hhatdot_ = sp.Matrix([[h1hatdot_,h2hatdot_]]).T\n",
    "bhatdot_ = - k2*Lest*s\n",
    "rhohatdot_ = k3*sp.Abs(s)\n",
    "display(hhatdot_,bhatdot_,rhohatdot_)"
   ]
  },
  {
   "cell_type": "markdown",
   "metadata": {},
   "source": [
    "Saturacja sygnału - rozdział 3 (19)"
   ]
  },
  {
   "cell_type": "code",
   "execution_count": 16,
   "metadata": {},
   "outputs": [
    {
     "data": {
      "text/latex": [
       "$\\displaystyle \\begin{cases} - \\Phi_b & \\text{for}\\: \\Phi_b < - s \\\\\\Phi_b & \\text{for}\\: \\Phi_b < s \\\\\\frac{1}{\\Phi_b} & \\text{otherwise} \\end{cases}$"
      ],
      "text/plain": [
       "Piecewise((-\\Phi_b, \\Phi_b < -s), (\\Phi_b, \\Phi_b < s), (1/\\Phi_b, True))"
      ]
     },
     "metadata": {},
     "output_type": "display_data"
    }
   ],
   "source": [
    "sat_sig = sp.Piecewise((-Phib,s<-Phib),(Phib,s>Phib),(1/Phib,True))\n",
    "display(sat_sig)"
   ]
  },
  {
   "cell_type": "markdown",
   "metadata": {},
   "source": [
    "Model sterowania z martwą strefą - sygnał sterujący - rozdział 4.1 (20)"
   ]
  },
  {
   "cell_type": "code",
   "execution_count": 17,
   "metadata": {},
   "outputs": [
    {
     "data": {
      "text/latex": [
       "$\\displaystyle \\sigma + m_{u} u$"
      ],
      "text/plain": [
       "\\sigma + m_u*u"
      ]
     },
     "metadata": {},
     "output_type": "display_data"
    }
   ],
   "source": [
    "dr2_ = mu*u + sig\n",
    "display(dr2_)"
   ]
  },
  {
   "cell_type": "code",
   "execution_count": 18,
   "metadata": {},
   "outputs": [
    {
     "data": {
      "text/latex": [
       "$\\displaystyle \\begin{cases} m_{r} & \\text{for}\\: u > 0 \\\\m_{l} & \\text{otherwise} \\end{cases}$"
      ],
      "text/plain": [
       "Piecewise((m_r, u > 0), (m_l, True))"
      ]
     },
     "metadata": {},
     "output_type": "display_data"
    },
    {
     "data": {
      "text/latex": [
       "$\\displaystyle \\begin{cases} - b_{l} m_{l} & \\text{for}\\: b_{l} \\leq - u \\\\b_{r} m_{r} & \\text{for}\\: b_{r} \\leq u \\\\u \\operatorname{m_{u}}{\\left(u \\right)} & \\text{otherwise} \\end{cases}$"
      ],
      "text/plain": [
       "Piecewise((-b_l*m_l, b_l <= -u), (b_r*m_r, b_r <= u), (u*m_u(u), True))"
      ]
     },
     "metadata": {},
     "output_type": "display_data"
    }
   ],
   "source": [
    "mu_sat = sp.Piecewise((mr,u>0),(ml,u<=0)) \n",
    "sig_sat = sp.Piecewise((-ml*bl,u<=-bl),(mr*br,u>=br),(muu(u)*u,(u>-bl)&(u<br)))\n",
    "display(mu_sat,sig_sat)"
   ]
  },
  {
   "cell_type": "markdown",
   "metadata": {},
   "source": [
    "Obserwator zaburzeń - rozdział 4.2 (26)"
   ]
  },
  {
   "cell_type": "code",
   "execution_count": 19,
   "metadata": {},
   "outputs": [
    {
     "data": {
      "text/latex": [
       "$\\displaystyle - k_{06} \\left(\\hat{\\omega}_y - \\omega_{y}{\\left(t \\right)}\\right)$"
      ],
      "text/plain": [
       "-k_{06}*(\\hat{\\omega}_y - \\omega_y(t))"
      ]
     },
     "metadata": {},
     "output_type": "display_data"
    },
    {
     "data": {
      "text/latex": [
       "$\\displaystyle \\beta \\hat{c}_2 + \\hat{D} + \\hat{\\mu} u + \\hat{c}_1 \\omega_{y}{\\left(t \\right)} + \\hat{g} - k_{07} \\left(\\hat{\\omega}_y - \\omega_{y}{\\left(t \\right)}\\right)$"
      ],
      "text/plain": [
       "\\beta*\\hat{c}_2 + \\hat{D} + \\hat{\\mu}*u + \\hat{c}_1*\\omega_y(t) + \\hat{g} - k_{07}*(\\hat{\\omega}_y - \\omega_y(t))"
      ]
     },
     "metadata": {},
     "output_type": "display_data"
    }
   ],
   "source": [
    "Dhatdot_ = -k06*(Omyhat-Omy)\n",
    "Omyhatdot_ = Dhat + mihat*u +ghat + c1h*Omy + c2h*beta - k07*(Omyhat - Omy)\n",
    "display(Dhatdot_,Omyhatdot_)"
   ]
  },
  {
   "cell_type": "markdown",
   "metadata": {},
   "source": [
    "Projekt sterownika dla wejścia z martwą strefą - rozdział 4.3 (27)"
   ]
  },
  {
   "cell_type": "code",
   "execution_count": 20,
   "metadata": {},
   "outputs": [
    {
     "data": {
      "text/latex": [
       "$\\displaystyle L_{1est} \\hat{b}_1$"
      ],
      "text/plain": [
       "L_{1est}*\\hat{b}_1"
      ]
     },
     "metadata": {},
     "output_type": "display_data"
    },
    {
     "data": {
      "text/latex": [
       "$\\displaystyle - \\Phi \\hat{h} + \\ddot{\\Psi}_d - \\hat{D} - \\hat{\\rho} \\operatorname{sign}{\\left(s \\right)} - \\hat{g} - \\lambda \\left(- \\dot{\\Psi}_d + \\omega_{y}{\\left(t \\right)}\\right) - \\tau s - k \\operatorname{sign}{\\left(s \\right)}$"
      ],
      "text/plain": [
       "-\\Phi*\\hat{h} + \\ddot{\\Psi}_d - \\hat{D} - \\hat{\\rho}*sign(s) - \\hat{g} - \\lambda*(-\\dot{\\Psi}_d + \\omega_y(t)) - \\tau*s - k*sign(s)"
      ]
     },
     "metadata": {},
     "output_type": "display_data"
    }
   ],
   "source": [
    "u_ = b1hat*L1est\n",
    "hp = hhat*PHI\n",
    "L1est1_ = -tau*s - k*sp.sign(s) - hp - ghat - Dhat - rhohat*sp.sign(s) + PSIdbis - lam*(Omy - PSIddot)\n",
    "hp = c1h*Omy + c2h*beta\n",
    "L1est_ = -tau*s - k*sp.sign(s) - hp - ghat - Dhat - rhohat*sp.sign(s) + PSIdbis - lam*(Omy - PSIddot)\n",
    "podstaw.update({u:u_,L1est:L1est_})\n",
    "display(u_,L1est1_)"
   ]
  },
  {
   "cell_type": "markdown",
   "metadata": {},
   "source": [
    "Prawo adaptacji - rozdział 4.3 (30)"
   ]
  },
  {
   "cell_type": "code",
   "execution_count": 21,
   "metadata": {
    "scrolled": true
   },
   "outputs": [
    {
     "data": {
      "text/latex": [
       "$\\displaystyle \\left[\\begin{matrix}k_{01} s \\omega_{y}{\\left(t \\right)} - k_{01} \\left(\\hat{\\omega}_y - \\omega_{y}{\\left(t \\right)}\\right) \\omega_{y}{\\left(t \\right)}\\\\\\beta k_{01} s - \\beta k_{01} \\left(\\hat{\\omega}_y - \\omega_{y}{\\left(t \\right)}\\right)\\end{matrix}\\right]$"
      ],
      "text/plain": [
       "Matrix([\n",
       "[k_{01}*s*\\omega_y(t) - k_{01}*(\\hat{\\omega}_y - \\omega_y(t))*\\omega_y(t)],\n",
       "[            \\beta*k_{01}*s - \\beta*k_{01}*(\\hat{\\omega}_y - \\omega_y(t))]])"
      ]
     },
     "metadata": {},
     "output_type": "display_data"
    },
    {
     "data": {
      "text/latex": [
       "$\\displaystyle - L_{1est} k_{02} s$"
      ],
      "text/plain": [
       "-L_{1est}*k_{02}*s"
      ]
     },
     "metadata": {},
     "output_type": "display_data"
    },
    {
     "data": {
      "text/latex": [
       "$\\displaystyle k_{03} \\left|{s}\\right|$"
      ],
      "text/plain": [
       "k_{03}*Abs(s)"
      ]
     },
     "metadata": {},
     "output_type": "display_data"
    },
    {
     "data": {
      "text/latex": [
       "$\\displaystyle k_{04} s - k_{04} \\left(\\hat{\\omega}_y - \\omega_{y}{\\left(t \\right)}\\right)$"
      ],
      "text/plain": [
       "k_{04}*s - k_{04}*(\\hat{\\omega}_y - \\omega_y(t))"
      ]
     },
     "metadata": {},
     "output_type": "display_data"
    },
    {
     "data": {
      "text/latex": [
       "$\\displaystyle - k_{05} u \\left(\\hat{\\omega}_y - \\omega_{y}{\\left(t \\right)}\\right)$"
      ],
      "text/plain": [
       "-k_{05}*u*(\\hat{\\omega}_y - \\omega_y(t))"
      ]
     },
     "metadata": {},
     "output_type": "display_data"
    }
   ],
   "source": [
    "h12hatdot_ = k01*Omy*s - k01*(Omyhat-Omy)*Omy\n",
    "h22hatdot_ = k01*beta*s - k01*(Omyhat-Omy)*beta\n",
    "h1hatdot_ = sp.Matrix([[h12hatdot_,h22hatdot_]]).T\n",
    "b1hatdot_ = -k02*L1est*s\n",
    "rho1hatdot_ = k03*sp.Abs(s)\n",
    "ghatdot_ = k04*s - k04*(Omyhat-Omy)\n",
    "mihatdot_ = -k05*(Omyhat-Omy)*u\n",
    "display(h1hatdot_,b1hatdot_,rho1hatdot_,ghatdot_,mihatdot_)"
   ]
  },
  {
   "cell_type": "markdown",
   "metadata": {},
   "source": [
    "Sterowanie z nasyceniem - rozdział 4.4 \n",
    "Charakterystyka saturacji (35)"
   ]
  },
  {
   "cell_type": "code",
   "execution_count": 22,
   "metadata": {},
   "outputs": [
    {
     "data": {
      "text/latex": [
       "$\\displaystyle \\begin{cases} \\delta_{rm} & \\text{for}\\: \\delta_{rm} < u \\\\- \\delta_{rm} & \\text{for}\\: \\delta_{rm} < - u \\\\u & \\text{otherwise} \\end{cases}$"
      ],
      "text/plain": [
       "Piecewise((\\delta_{rm}, \\delta_{rm} < u), (-\\delta_{rm}, \\delta_{rm} < -u), (u, True))"
      ]
     },
     "metadata": {},
     "output_type": "display_data"
    }
   ],
   "source": [
    "drm_ = 12*np.pi/180  #kąt nasycenia\n",
    "drm_sat = sp.Piecewise((drm,u>drm),(-drm,u<-drm),(u,(u<=drm) & (u>=-drm)))\n",
    "display(drm_sat)"
   ]
  },
  {
   "cell_type": "markdown",
   "metadata": {},
   "source": [
    "Kompensator anti-windup - rozdział 4.4 (36)"
   ]
  },
  {
   "cell_type": "code",
   "execution_count": 23,
   "metadata": {},
   "outputs": [
    {
     "data": {
      "text/latex": [
       "$\\displaystyle \\begin{cases} - k^{*} w - \\frac{w \\left(0.5 {\\Delta}u^{2} + \\left|{\\bar{c}_3 s {\\Delta}u}\\right|\\right)}{\\left|{w}\\right|^{2}} + {\\Delta}u & \\text{for}\\: l \\leq \\left|{w}\\right| \\\\0 & \\text{otherwise} \\end{cases}$"
      ],
      "text/plain": [
       "Piecewise((-k^**w - w*(0.5*{\\Delta}u**2 + Abs(\\bar{c}_3*s*{\\Delta}u))/Abs(w)**2 + {\\Delta}u, l <= Abs(w)), (0, True))"
      ]
     },
     "metadata": {},
     "output_type": "display_data"
    }
   ],
   "source": [
    "du_ = dr-u\n",
    "#w_ = -kwindup*w - w*(sp.Abs(c3b*s*du)+0.5*du**2)/(sp.Abs(w)**2)+du \n",
    "wf_ = sp.Piecewise((-kwindup*w - w*(sp.Abs(c3b*s*du)+0.5*du**2)/(sp.Abs(w)**2)+du,sp.Abs(w)>=l_small),(0,True))\n",
    "podstaw.update({du:du_,w2:wf_})\n",
    "display(wf_)"
   ]
  },
  {
   "cell_type": "markdown",
   "metadata": {},
   "source": [
    "Prawo sterowania - rozdział 4.4 (37)"
   ]
  },
  {
   "cell_type": "code",
   "execution_count": 24,
   "metadata": {},
   "outputs": [],
   "source": [
    "u2_ = b2*L2est\n",
    "b2_ = 1/c3\n",
    "L2est_ = -tau*(s - w2) - k*sp.sign(s) - hhat*PHI - ghat - Dhat - rhohat*znak + PSIdbis - lam*(Omy - PSIddot)\n",
    "podstaw.update({b2:b2_,L2est:L2est_})\n",
    "#display(u2_,L2est_)"
   ]
  },
  {
   "cell_type": "markdown",
   "metadata": {},
   "source": [
    "Obserwator zakłóceń - rozdział 4.4 (38)"
   ]
  },
  {
   "cell_type": "code",
   "execution_count": 25,
   "metadata": {},
   "outputs": [],
   "source": [
    "D2hatdot_ = -k06*(Omyhat-Omy)\n",
    "Omy2hatdot_ = Dhat + c3h*dr + hhat*PHI - k07*(Omyhat - Omy)\n",
    "#display(D2hatdot_,Omy2hatdot_)"
   ]
  },
  {
   "cell_type": "markdown",
   "metadata": {},
   "source": [
    "Prawo adaptacji - rozdział 4.4 (39)"
   ]
  },
  {
   "cell_type": "code",
   "execution_count": 26,
   "metadata": {},
   "outputs": [],
   "source": [
    "h31hatdot_ = k01*Omy*s - k01*Omy*(Omyhat - Omy)\n",
    "h32hatdot_ = k01*beta*s - k01*beta*(Omyhat - Omy)\n",
    "h3_ = sp.Matrix([[h31hatdot_,h32hatdot_]]).T\n",
    "b2dothat_ = -k02*L2est*s\n",
    "rho2hatdot_ = k03*sp.Abs(s)\n",
    "c3hatdot_ = -(Omyhat - Omy)*dr\n",
    "#display(h3_,b2dothat_,rho2hatdot_,c3hatdot_)"
   ]
  },
  {
   "cell_type": "markdown",
   "metadata": {},
   "source": [
    "Zewnętrzne zaburzenie - rozdział 5"
   ]
  },
  {
   "cell_type": "code",
   "execution_count": 27,
   "metadata": {},
   "outputs": [],
   "source": [
    "dis_ = 0.55*sp.sin(0.01*t) + 0.33*sp.sin(0.1*t) + 0.25*sp.cos(0.02*t) + 0.3*sp.sin(0.1*t)*sp.cos(0.2*t)\n",
    "#display(dis_)"
   ]
  },
  {
   "cell_type": "markdown",
   "metadata": {},
   "source": [
    "Wymuszenie - rozdział 5"
   ]
  },
  {
   "cell_type": "code",
   "execution_count": 28,
   "metadata": {},
   "outputs": [],
   "source": [
    "Trec = 50 #okres sygnału prostokątnego\n",
    "Amp = 28.7 #amplituda sygnału prostokątnego\n",
    "def Rectangle(t_):\n",
    "    tmp = t_%Trec\n",
    "    if tmp>=0.5*Trec : return Amp\n",
    "    else : return 0"
   ]
  },
  {
   "cell_type": "markdown",
   "metadata": {},
   "source": [
    "## Wartości zmiennych symbolicznych"
   ]
  },
  {
   "cell_type": "code",
   "execution_count": 29,
   "metadata": {},
   "outputs": [],
   "source": [
    "params ={c1:-4.695,c2:10.735,c3:1.8207,c4:0.2623,c5:-1.274,c6:-0.102}#nominalne parametry modelu\n",
    "params.update({psi_0:10*np.pi/180,Omy_0:3*np.pi/180})#wartości początkowe\n",
    "params.update({c1h_0:-1, c2h_0:2, c3h_0:0, rhoh_0:0.5, bh_0:0, gh_0:0, mih_0:0, Omyh_0:0, Dh_0:0.6})#wart. pocz. estymat\n",
    "params.update({mr:0.3, ml:0.12, br:1, bl:1.3})#wart. saturacji i martwej strefy\n",
    "params.update({k1:60, k2:60, k3:60, k01:60, k02:60, k03:60, k04:60, k05:60, k06:1, k07:1})#wzmocnienie poch. estymat\n",
    "params.update({k:0.02, kwindup:20,tau:20,lam:1,c3b:1.8207,l_small:0.5})\n",
    "params.update({drm:12*np.pi/180})\n",
    "params.update({T:450,Jyy:23.8,Jzz:23.8,Jxx:0.56,dG:10,m:1,L:2.015,S:0.0628,rho:1,G:1})\n",
    "params.update({Ca_xs:-0.45,Ca_y:1.98,Cde_y:4.62,Cwz_y:0.67,Cb_z:-1.92,Cdr_z:-5.89,Cwy_z:-0.67,mb_x:-0.01})\n",
    "params.update({mdr_x:-0.04,mdd_x:-0.04,mb_y:-0.01,mdr_y:-0.04,ma_z:0.31,mde_z:-0.04,mox_x:0.01,moy_y:0.01,mox_y:0.01})\n",
    "params.update({lam11:1,lam22:1,lam33:1,lam44:1,lam55:1,lam66:1,lam26:0.01,lam35:0.01,moz_z:0.01})\n",
    "params.update({xc:0.1,yc:0.1,zc:0.1,beta:0.02,dMxp:0})"
   ]
  },
  {
   "cell_type": "markdown",
   "metadata": {},
   "source": [
    "Funkcje numeryczne"
   ]
  },
  {
   "cell_type": "code",
   "execution_count": 30,
   "metadata": {},
   "outputs": [],
   "source": [
    "dr2_num = sp.lambdify((sig,u,mu),dr2_.subs(params))\n",
    "s_num = sp.lambdify((Omy,psi,PSId,PSIddot),s_.subs(podstaw).subs(params))\n",
    "u_num = sp.lambdify((b1hat,PSIdbis,PSIddot,Dhat,rhohat,s,c1h,Omy,c2h,ghat),u.subs(podstaw).subs(podstaw).subs(podstaw).subs(params))\n",
    "Dhatdot_num = sp.lambdify((Omy,Omyhat),Dhatdot_.subs(params))\n",
    "Omyhatdot_num = sp.lambdify((Dhat,mihat,b1hat,PSIdbis,PSIddot,rhohat,s,c1h,c2h,Omy,Omyhat,ghat),Omyhatdot_.subs(podstaw).subs(podstaw).subs(podstaw).subs(params))\n",
    "h12hatdot_num = sp.lambdify((s,Omy,Omyhat),h12hatdot_.subs(podstaw).subs(podstaw).subs(podstaw).subs(params))\n",
    "h22hatdot_num = sp.lambdify((s,Omy,Omyhat),h22hatdot_.subs(podstaw).subs(podstaw).subs(podstaw).subs(params))\n",
    "b1hatdot_num = sp.lambdify((s,PSIddot,PSIdbis,Dhat,rhohat,c1h,c2h,Omy,ghat),b1hatdot_.subs(podstaw).subs(podstaw).subs(podstaw).subs(params))\n",
    "rho1hatdot_num = sp.lambdify((s),rho1hatdot_.subs(podstaw).subs(podstaw).subs(podstaw).subs(params))#\n",
    "ghatdot_num = sp.lambdify((s,Omy,Omyhat),ghatdot_.subs(podstaw).subs(podstaw).subs(podstaw).subs(params))#\n",
    "midothat_num = sp.lambdify((s,b1hat,Omy,Omyhat,PSIddot,PSIdbis,Dhat,rhohat,c1h,c2h,ghat),mihatdot_.subs(podstaw).subs(podstaw).subs(podstaw).subs(params))\n",
    "#\n",
    "dPsi_num = sp.lambdify((Omy),dPsi_)\n",
    "dOmy2_num = sp.lambdify((D,dr,Omy),dOmy2_.subs(podstaw).subs(podstaw).subs(podstaw).subs(params))\n",
    "#\n",
    "dis_num = sp.lambdify((t),dis_)\n",
    "sat_sig_num = sp.lambdify((Phib,s),sat_sig.subs(params))\n",
    "mu_sat_num = sp.lambdify((u),mu_sat.subs(params))\n",
    "sig_sat_num = sp.lambdify((u,muu(u)),sig_sat.subs(params))\n",
    "drm_sat_num = sp.lambdify((u),drm_sat.subs(params))\n",
    "wf_sat_num = sp.lambdify((dr,u,s,w),wf_.subs(podstaw).subs(params))\n",
    "alpha_num = sp.lambdify((Vx,Vy),alpha_)\n",
    "# dynamika\n",
    "dVx_num = sp.lambdify((V,tta),dVx_.subs(params))\n",
    "dVy_num = sp.lambdify((de,dOmz,Vx,Omz,V,tta,phi,alpha),dVy_.subs(params))\n",
    "dVz_num = sp.lambdify((dOmy,Vx,Omy,V,tta,phi),dVz_.subs(params))\n",
    "dOmx_num = sp.lambdify((Vx,Omx,V,dr,dd,Omy,tta,phi),dOmx_.subs(params))\n",
    "dOmy_num = sp.lambdify((Vx,Omy,dVz,V,dr,Omx,Omy,tta,phi),dOmy_.subs(params))\n",
    "dOmz_num = sp.lambdify((Vx,Omz,dVy,V,alpha,de,Omz,tta,phi),dOmz_.subs(params))\n",
    "V_num = sp.lambdify((Vx,Vy,Vz),V_)\n",
    "# kinematyka\n",
    "velState_num = sp.lambdify((tta,phi,psi,Vx,Vy,Vz),velState_)\n",
    "dAngState_num = sp.lambdify((tta,phi,psi,Omx,Omy,Omz),dAngState_)\n"
   ]
  },
  {
   "cell_type": "code",
   "execution_count": 31,
   "metadata": {},
   "outputs": [
    {
     "data": {
      "text/plain": [
       "-0.0015207654012349223"
      ]
     },
     "execution_count": 31,
     "metadata": {},
     "output_type": "execute_result"
    }
   ],
   "source": [
    "dOmy_num(0.1,0.4,0.2,2,1,5,2,1,4)+0"
   ]
  },
  {
   "cell_type": "markdown",
   "metadata": {},
   "source": [
    "## Definicja funkcji symulacji "
   ]
  },
  {
   "cell_type": "code",
   "execution_count": 32,
   "metadata": {},
   "outputs": [],
   "source": [
    "def Torpeda(t_, x0_array):\n",
    "    x0 = MAT([x0_array]).T\n",
    "    #------------- wartości początkowe\n",
    "    psii = dOmyi = MAT(x0[0][0])\n",
    "    Omyi = MAT(x0[1][0])\n",
    "    \n",
    "    Omyhati = MAT(x0[2][0])\n",
    "    c1hi = MAT(x0[3][0])\n",
    "    c2hi = MAT(x0[4][0])\n",
    "    rhoi = MAT(x0[5][0])\n",
    "    gi = MAT(x0[6][0])\n",
    "    Di = MAT(x0[7][0])\n",
    "    b1i = MAT(x0[8][0])\n",
    "    mii = MAT(x0[9][0])\n",
    "    #------------- wartości początkowe\n",
    "    alphai = alpha_num(1,0.1)\n",
    "    \n",
    "    #estymaty\n",
    "    PSId =  Rectangle(t_)\n",
    "    si = s_num(Omyi,psii,PSId,0)\n",
    "    dc1h = h12hatdot_num(si,Omyi,Omyhati)\n",
    "    dc2h = h22hatdot_num(si,Omyi,Omyhati)\n",
    "    drho = rho1hatdot_num(si)\n",
    "    dg = ghatdot_num(si,Omyi,Omyhati)\n",
    "    dD = Dhatdot_num(Omyi,Omyhati)\n",
    "    db1 = b1hatdot_num(si,0,0,Di,rhoi,c1hi,c2hi,Omyi,gi)\n",
    "    dmi = midothat_num(si,b1i,Omyi,Omyhati,0,0,Di,rhoi,c1hi,c2hi,gi)\n",
    "    dOmyhat = Omyhatdot_num(Di,mii,b1i,0,0,rhoi,si,c1hi,c2hi,Omyi,Omyhati,gi)\n",
    "    \n",
    "    #- sterowanie \n",
    "    u = u_num(b1i,0,0,Di,rhoi,si,c1hi,Omyi,c2hi,gi)\n",
    "    mu = mu_sat_num(u)\n",
    "    sig = sig_sat_num(u,mu)\n",
    "    dri = dr2_num(sig,u,mu)\n",
    "    #część dynamiki z której korzystamy\n",
    "    dOmyi = dPsi_num(Omyi)\n",
    "    ddOmyi = dOmy2_num(Di,dri,Omyi)\n",
    "    #- przygotowanie wyników\n",
    "    d1 = MAT([dOmyi.item(),ddOmyi.item()])\n",
    "    d2 = MAT([dOmyhat,dc1h,dc2h,drho,dg,dD,db1,dmi])\n",
    "    # Zbieranie wyników\n",
    "    dxi = np.concatenate((np.asarray(d1.flat),np.asarray(d2.flat)))\n",
    "    return np.ndarray.tolist(dxi)"
   ]
  },
  {
   "cell_type": "markdown",
   "metadata": {},
   "source": [
    "## Przygotowanie symulacji"
   ]
  },
  {
   "cell_type": "code",
   "execution_count": 33,
   "metadata": {},
   "outputs": [],
   "source": [
    "xi0_array = [0,0, 0,-1,2,0.5,0,0.6,0,0]#wartości początkowe zmiennych\n",
    "time_sym =2 # Czas trwania symulacji\n",
    "sim = solve_ivp(Torpeda, [0, time_sym], xi0_array)\n",
    "t = sim.t+0\n",
    "Omyp,dOmyp,Omyhat,c1h,c2h,rho,g,D,b1,mi  = sim.y # return xi"
   ]
  },
  {
   "cell_type": "code",
   "execution_count": 34,
   "metadata": {},
   "outputs": [
    {
     "data": {
      "image/png": "[encoded data removed]",
      "text/plain": [
       "<Figure size 432x288 with 1 Axes>"
      ]
     },
     "metadata": {
      "needs_background": "light"
     },
     "output_type": "display_data"
    }
   ],
   "source": [
    "plt.figure()\n",
    "plt.plot(t, Omyp, 'b', label='$\\\\psi$')\n",
    "plt.plot(t, dOmyp, 'r', label='$\\\\omega_y$')\n",
    "#plt.plot(t, phip, 'y', label='phi')\n",
    "plt.legend(loc = 'best')\n",
    "plt.xlabel('time [s]')\n",
    "plt.ylabel('vel [m/s]')\n",
    "plt.grid(True)\n",
    "plt.show()"
   ]
  },
  {
   "cell_type": "code",
   "execution_count": 35,
   "metadata": {},
   "outputs": [
    {
     "data": {
      "image/png": "[encoded data removed]",
      "text/plain": [
       "<Figure size 432x288 with 1 Axes>"
      ]
     },
     "metadata": {
      "needs_background": "light"
     },
     "output_type": "display_data"
    }
   ],
   "source": [
    "plt.figure()\n",
    "plt.plot(t, D, 'b', label='$\\hat{D}$')\n",
    "#plt.plot(t, yp, 'r', label='y')\n",
    "#plt.plot(t, zp, 'y', label='z')\n",
    "plt.legend(loc = 'best')\n",
    "plt.xlabel('time [s]')\n",
    "plt.ylabel('vel [m/s]')\n",
    "plt.grid(True)\n",
    "plt.show()"
   ]
  },
  {
   "cell_type": "code",
   "execution_count": null,
   "metadata": {},
   "outputs": [],
   "source": []
  }
 ],
 "metadata": {
  "kernelspec": {
   "display_name": "Python 3",
   "language": "python",
   "name": "python3"
  },
  "language_info": {
   "codemirror_mode": {
    "name": "ipython",
    "version": 3
   },
   "file_extension": ".py",
   "mimetype": "text/x-python",
   "name": "python",
   "nbconvert_exporter": "python",
   "pygments_lexer": "ipython3",
   "version": "3.7.6"
  }
 },
 "nbformat": 4,
 "nbformat_minor": 4
}
