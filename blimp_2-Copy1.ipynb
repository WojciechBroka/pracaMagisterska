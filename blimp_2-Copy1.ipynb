{
 "cells": [
  {
   "cell_type": "markdown",
   "metadata": {},
   "source": [
    "## Implementacja \"Robust global stabilization and disturbance rejection of an underactuated nonholonomic airship\""
   ]
  },
  {
   "cell_type": "markdown",
   "metadata": {},
   "source": [
    "Link do implementowanego artykułu: https://ieeexplore.ieee.org/document/4389345"
   ]
  },
  {
   "cell_type": "markdown",
   "metadata": {},
   "source": [
    "# Import"
   ]
  },
  {
   "cell_type": "code",
   "execution_count": 104,
   "metadata": {},
   "outputs": [],
   "source": [
    "import sympy as sp\n",
    "import numpy as np\n",
    "import scipy as sc\n",
    "import matplotlib.pyplot as plt # ploting results\n",
    "from scipy.integrate import solve_ivp # solving differential equations\n",
    "MAT = np.array"
   ]
  },
  {
   "cell_type": "markdown",
   "metadata": {},
   "source": [
    "# Definicja zmiennych"
   ]
  },
  {
   "cell_type": "code",
   "execution_count": 105,
   "metadata": {},
   "outputs": [],
   "source": [
    "t = sp.symbols('t') # czas\n",
    "th = sp.symbols('\\\\theta') # kąt obrotu sterowca w układzie globalnym\n",
    "u = sp.symbols('u') # prędkość wzdłużna sterowca w układzie lokalnym\n",
    "v = sp.symbols('v') # prędkość poprzeczna sterowca w układzie lokalnym\n",
    "r = sp.symbols('r') # prędkość obrotowa sterowca w układzie globalnym\n",
    "x, y = sp.symbols('x y') # położenie sterowca w układzie globalnym\n",
    "z1, z2, z3 = sp.symbols('z_{1} z_{2} z_{3}') # ?\n",
    "tauu, taur = sp.symbols('\\\\tau_{u} \\\\tau_{r}') # sygnały sterujące kolejno: siła ciągu, siła skręcająca \n",
    "ub, vb, z1b, z2b, z3b = sp.symbols('\\\\bar{u} \\\\bar{v} \\\\bar{z}_{1} \\\\bar{z}_{2} \\\\bar{z}_{3}')#nowe zmienne stanu po transforma\n",
    "#u, v, z1, z2, z3, r, th = u_(t), v_(t), z1_(t), z2_(t), z3_(t), r_(t), th_(t)"
   ]
  },
  {
   "cell_type": "markdown",
   "metadata": {},
   "source": [
    "# Współczynniki"
   ]
  },
  {
   "cell_type": "code",
   "execution_count": 106,
   "metadata": {},
   "outputs": [],
   "source": [
    "Cu, Cv, Cr = sp.symbols('C_{u} C_{v} C_{r}') #współczynniki aerodynamiczne względem osi u v r\n",
    "Vw = sp.symbols('V_{w}') #prędkość wiatru (w artykule jest zawsze stała)\n",
    "a_ship, b_ship = sp.symbols('a_{ship} b_{ship}') #długość sterowca, szerokość sterowca\n",
    "m, m3 = sp.symbols('m m_{3}') # masa strowca m=m1=m2, masa sterowca m3------------------------------------\n",
    "d1, d2, d3 = sp.symbols('d_{1} d_{2} d_{3}') # współczynniki tłumienia kolejno w osi u v r\n",
    "d1f, d2f, d3f, th3f = sp.symbols('\\\\underline{d}_{1} \\\\underline{d}_{2} \\\\underline{d}_{3} \\\\underline{\\\\theta}_{3}') # dolne wartości wsp tłumienia d1, d2, d3\n",
    "d1c, d2c, d3c, th3c = sp.symbols('\\\\bar{d}_{1} \\\\bar{d}_{2} \\\\bar{d}_{3} \\\\bar{\\\\theta}_{3}') # górne wartości współczynników tłumienia d1, d2, d3\n",
    "d10, d20, d30, th30 = sp.symbols('d_{10} d_{20} d_{30} \\\\theta_{30}') # niepewności\n",
    "Delta_1, Delta_2, Delta_3, delta_1, delta_2, delta_3 = sp.symbols('\\\\Delta_{1} \\\\Delta_{2} \\\\Delta_{3} \\\\delta_{1} \\\\delta_{2} \\\\delta_{3}')# niepewności\n",
    "k1, k2, k3, a = sp.symbols('k_{1} k_{2} k_{3} a') # współczynniki wzmocnień syg ster tau_r\n",
    "k_th, k_r  = sp.symbols('k_{\\\\theta} k_{r}') # jak wyżej\n",
    "k1b, k2b, k3b, k4b, k5b = sp.symbols('\\\\bar{k}_{1} \\\\bar{k}_{2} \\\\bar{k}_{3} \\\\bar{k}_{4} \\\\bar{k}_{5}')#wsp wzm sterownika tau_u\n",
    "th_1, th_2, th_3 = sp.symbols('\\\\theta_1 \\\\theta_2 \\\\theta_3') # współczynniki th z obliczone na podst wzoru 4.4\n",
    "lam_1, lam_2 = sp.symbols('\\lambda_1 \\lambda_2') # współczynniki lam z obliczone na podst wzoru 4.4\n",
    "delta_d = sp.symbols('\\\\Delta_{d}') # współczynnik deltad ze wzoru 4.3\n",
    "th_0, r_0 = sp.symbols('th(0) r(0)')# wartości początkowe\n",
    "fu, fv, fr = sp.symbols('f_{u} f_{v} f_{r}') # funkcje symboliczne"
   ]
  },
  {
   "cell_type": "markdown",
   "metadata": {},
   "source": [
    "Definicja funkcji - rozdział II (2.2)"
   ]
  },
  {
   "cell_type": "code",
   "execution_count": 107,
   "metadata": {},
   "outputs": [
    {
     "data": {
      "text/latex": [
       "$\\displaystyle \\sqrt{a_{ship}^{2} \\sin^{2}{\\left(\\theta \\right)} + b_{ship}^{2} \\cos^{2}{\\left(\\theta \\right)}}$"
      ],
      "text/plain": [
       "sqrt(a_{ship}**2*sin(\\theta)**2 + b_{ship}**2*cos(\\theta)**2)"
      ]
     },
     "metadata": {},
     "output_type": "display_data"
    }
   ],
   "source": [
    "F = sp.sqrt(a_ship**2 * sp.sin(th)**2 + b_ship**2 * sp.cos(th)**2)\n",
    "display(F)"
   ]
  },
  {
   "cell_type": "markdown",
   "metadata": {},
   "source": [
    "Opis modelu kinematycznego, geometrycznego powiązania pomiędzy układem globalnym a układem lokalnym - rozdział II (2.4)"
   ]
  },
  {
   "cell_type": "code",
   "execution_count": 108,
   "metadata": {},
   "outputs": [
    {
     "data": {
      "text/latex": [
       "$\\displaystyle u \\cos{\\left(\\theta \\right)} - v \\sin{\\left(\\theta \\right)}$"
      ],
      "text/plain": [
       "u*cos(\\theta) - v*sin(\\theta)"
      ]
     },
     "metadata": {},
     "output_type": "display_data"
    },
    {
     "data": {
      "text/latex": [
       "$\\displaystyle u \\sin{\\left(\\theta \\right)} + v \\cos{\\left(\\theta \\right)}$"
      ],
      "text/plain": [
       "u*sin(\\theta) + v*cos(\\theta)"
      ]
     },
     "metadata": {},
     "output_type": "display_data"
    },
    {
     "data": {
      "text/latex": [
       "$\\displaystyle r$"
      ],
      "text/plain": [
       "r"
      ]
     },
     "metadata": {},
     "output_type": "display_data"
    }
   ],
   "source": [
    "dx = u * sp.cos(th) - v * sp.sin(th)\n",
    "dy = u * sp.sin(th) + v * sp.cos(th)\n",
    "dth = r\n",
    "display(dx,dy,dth)"
   ]
  },
  {
   "cell_type": "markdown",
   "metadata": {},
   "source": [
    "Ciąg dalszy opisu kinematyki, z1 z2 - rozdział II (2.5)"
   ]
  },
  {
   "cell_type": "code",
   "execution_count": 109,
   "metadata": {},
   "outputs": [
    {
     "data": {
      "text/latex": [
       "$\\displaystyle x \\cos{\\left(\\theta \\right)} + y \\sin{\\left(\\theta \\right)}$"
      ],
      "text/plain": [
       "x*cos(\\theta) + y*sin(\\theta)"
      ]
     },
     "metadata": {},
     "output_type": "display_data"
    },
    {
     "data": {
      "text/latex": [
       "$\\displaystyle - x \\sin{\\left(\\theta \\right)} + y \\cos{\\left(\\theta \\right)}$"
      ],
      "text/plain": [
       "-x*sin(\\theta) + y*cos(\\theta)"
      ]
     },
     "metadata": {},
     "output_type": "display_data"
    }
   ],
   "source": [
    "z1_ = x * sp.cos(th) + y * sp.sin(th)\n",
    "z2_ = -x * sp.sin(th) + y * sp.cos(th)\n",
    "#wyświetlanie implementowanych wzorów\n",
    "display(z1_,z2_)"
   ]
  },
  {
   "cell_type": "markdown",
   "metadata": {},
   "source": [
    "Równanie stanu uzyskane przez połączenie kinematyki i dynamiki sterowca - rozdział II (2.6)"
   ]
  },
  {
   "cell_type": "code",
   "execution_count": 110,
   "metadata": {},
   "outputs": [
    {
     "data": {
      "text/latex": [
       "$\\displaystyle \\left[\\begin{matrix}- d_{1} & r & 0 & 0\\\\- r & - d_{2} & 0 & 0\\\\1 & 0 & 0 & r\\\\0 & 1 & - r & 0\\end{matrix}\\right]$"
      ],
      "text/plain": [
       "Matrix([\n",
       "[-d_{1},      r,  0, 0],\n",
       "[    -r, -d_{2},  0, 0],\n",
       "[     1,      0,  0, r],\n",
       "[     0,      1, -r, 0]])"
      ]
     },
     "metadata": {},
     "output_type": "display_data"
    },
    {
     "data": {
      "text/latex": [
       "$\\displaystyle \\left[\\begin{matrix}u\\\\v\\\\z_{1}\\\\z_{2}\\end{matrix}\\right]$"
      ],
      "text/plain": [
       "Matrix([\n",
       "[    u],\n",
       "[    v],\n",
       "[z_{1}],\n",
       "[z_{2}]])"
      ]
     },
     "metadata": {},
     "output_type": "display_data"
    },
    {
     "data": {
      "text/latex": [
       "$\\displaystyle \\left[\\begin{matrix}\\frac{1}{m}\\\\0\\\\0\\\\0\\end{matrix}\\right]$"
      ],
      "text/plain": [
       "Matrix([\n",
       "[1/m],\n",
       "[  0],\n",
       "[  0],\n",
       "[  0]])"
      ]
     },
     "metadata": {},
     "output_type": "display_data"
    },
    {
     "data": {
      "text/latex": [
       "$\\displaystyle \\left[\\begin{matrix}\\frac{f_{u}}{m}\\\\\\frac{f_{v}}{m}\\\\0\\\\0\\end{matrix}\\right]$"
      ],
      "text/plain": [
       "Matrix([\n",
       "[f_{u}/m],\n",
       "[f_{v}/m],\n",
       "[      0],\n",
       "[      0]])"
      ]
     },
     "metadata": {},
     "output_type": "display_data"
    }
   ],
   "source": [
    "# układ Sigma1:\n",
    "# macierz stanu\n",
    "A1 = sp.Matrix([[-d1,r,0,0],[-r,-d2,0,0],[1,0,0,r],[0,1,-r,0]])  \n",
    "#---------\n",
    "q = sp.Matrix([[u,v,z1,z2]]).T # wektor stanu\n",
    "b1 = sp.Matrix([[1/m,0,0,0]]).T # macierz sterowania\n",
    "# wektor sił zakłóceń - wiatru\n",
    "f1 = sp.Matrix([[fu/m,fv/m,0,0]]).T \n",
    "#wyświetlanie implementowanych wzorów\n",
    "display(A1,q,b1,f1)"
   ]
  },
  {
   "cell_type": "code",
   "execution_count": 111,
   "metadata": {},
   "outputs": [
    {
     "data": {
      "text/latex": [
       "$\\displaystyle - d_{3} r + \\frac{\\tau_{r} + f_{r}}{m_{3}}$"
      ],
      "text/plain": [
       "-d_{3}*r + (\\tau_{r} + f_{r})/m_{3}"
      ]
     },
     "metadata": {},
     "output_type": "display_data"
    },
    {
     "data": {
      "text/latex": [
       "$\\displaystyle r$"
      ],
      "text/plain": [
       "r"
      ]
     },
     "metadata": {},
     "output_type": "display_data"
    }
   ],
   "source": [
    "# układ Sigma2:                                    #ten układ umieścić w funkcji symulacji\n",
    "dr = -d3 * r + (1/m3) * (taur + fr) \n",
    "dth = r\n",
    "display(dr,dth)"
   ]
  },
  {
   "cell_type": "markdown",
   "metadata": {},
   "source": [
    "Sygnał sterujący dla podsystemu Sigma2 - rozdział IV (4.1)"
   ]
  },
  {
   "cell_type": "code",
   "execution_count": 112,
   "metadata": {},
   "outputs": [
    {
     "data": {
      "text/latex": [
       "$\\displaystyle m_{3} \\left(- \\theta k_{\\theta} + a e^{- k_{3} t} - f_{r} - k_{r} r\\right)$"
      ],
      "text/plain": [
       "m_{3}*(-\\theta*k_{\\theta} + a*exp(-k_{3}*t) - f_{r} - k_{r}*r)"
      ]
     },
     "metadata": {},
     "output_type": "display_data"
    }
   ],
   "source": [
    "taur = m3 * (-k_r * r - k_th * th + a * sp.exp(-k3 * t) - fr) \n",
    "display(taur)"
   ]
  },
  {
   "cell_type": "markdown",
   "metadata": {},
   "source": [
    "Odpowiedź kąta i prędkości kątowej jest dana - rozdział IV (4.3)"
   ]
  },
  {
   "cell_type": "code",
   "execution_count": 113,
   "metadata": {},
   "outputs": [
    {
     "data": {
      "text/latex": [
       "$\\displaystyle \\theta_1 e^{- \\lambda_1 t} + \\theta_2 e^{- \\lambda_2 t} + \\theta_3 e^{- k_{3} t}$"
      ],
      "text/plain": [
       "\\theta_1*exp(-\\lambda_1*t) + \\theta_2*exp(-\\lambda_2*t) + \\theta_3*exp(-k_{3}*t)"
      ]
     },
     "metadata": {},
     "output_type": "display_data"
    },
    {
     "data": {
      "text/latex": [
       "$\\displaystyle - \\lambda_1 \\theta_1 e^{- \\lambda_1 t} - \\lambda_2 \\theta_2 e^{- \\lambda_2 t} - \\theta_3 k_{3} e^{- k_{3} t}$"
      ],
      "text/plain": [
       "-\\lambda_1*\\theta_1*exp(-\\lambda_1*t) - \\lambda_2*\\theta_2*exp(-\\lambda_2*t) - \\theta_3*k_{3}*exp(-k_{3}*t)"
      ]
     },
     "metadata": {},
     "output_type": "display_data"
    }
   ],
   "source": [
    "Th = th_1*sp.exp(-lam_1*t) + th_2*sp.exp(-lam_2*t) + th_3*sp.exp(-k3*t) # th(t)\n",
    "R = -th_1*lam_1*sp.exp(-lam_1*t) - th_2*lam_2*sp.exp(-lam_2*t) - th_3*k3*sp.exp(-k3*t) # r(t)\n",
    "tta, rf = sp.symbols('\\\\theta(t) r(t)') # to będą później funkcje te powyżej\n",
    "display(Th,R)"
   ]
  },
  {
   "cell_type": "markdown",
   "metadata": {},
   "source": [
    "Funkcja alpha(t) - rozdział IV (4.14)"
   ]
  },
  {
   "cell_type": "code",
   "execution_count": 114,
   "metadata": {},
   "outputs": [
    {
     "data": {
      "text/latex": [
       "$\\displaystyle - \\lambda_1 \\theta_1 e^{t \\left(- \\lambda_1 + k_{3}\\right)} - \\lambda_2 \\theta_2 e^{t \\left(- \\lambda_2 + k_{3}\\right)}$"
      ],
      "text/plain": [
       "-\\lambda_1*\\theta_1*exp(t*(-\\lambda_1 + k_{3})) - \\lambda_2*\\theta_2*exp(t*(-\\lambda_2 + k_{3}))"
      ]
     },
     "metadata": {},
     "output_type": "display_data"
    }
   ],
   "source": [
    "Alp = -(th_1*lam_1*sp.exp(-(lam_1-k3)*t)+th_2*lam_2*sp.exp(-(lam_2-k3)*t)) #funkcja alpha(t)\n",
    "display(Alp)"
   ]
  },
  {
   "cell_type": "markdown",
   "metadata": {},
   "source": [
    "Implementacja współczynników theta - rozdział IV (4.4)"
   ]
  },
  {
   "cell_type": "code",
   "execution_count": 115,
   "metadata": {},
   "outputs": [
    {
     "data": {
      "text/latex": [
       "$\\displaystyle \\frac{a}{\\left(- \\lambda_1 + \\lambda_2\\right) \\left(- \\lambda_1 + k_{3}\\right)} + \\frac{\\lambda_2 th(0) + r(0)}{- \\lambda_1 + \\lambda_2}$"
      ],
      "text/plain": [
       "a/((-\\lambda_1 + \\lambda_2)*(-\\lambda_1 + k_{3})) + (\\lambda_2*th(0) + r(0))/(-\\lambda_1 + \\lambda_2)"
      ]
     },
     "metadata": {},
     "output_type": "display_data"
    },
    {
     "data": {
      "text/latex": [
       "$\\displaystyle \\frac{a}{\\left(\\lambda_1 - \\lambda_2\\right) \\left(- \\lambda_2 + k_{3}\\right)} + \\frac{k_{1} th(0) + r(0)}{\\lambda_1 - \\lambda_2}$"
      ],
      "text/plain": [
       "a/((\\lambda_1 - \\lambda_2)*(-\\lambda_2 + k_{3})) + (k_{1}*th(0) + r(0))/(\\lambda_1 - \\lambda_2)"
      ]
     },
     "metadata": {},
     "output_type": "display_data"
    },
    {
     "data": {
      "text/latex": [
       "$\\displaystyle \\frac{a}{\\left(\\lambda_1 - k_{3}\\right) \\left(\\lambda_2 - k_{3}\\right)}$"
      ],
      "text/plain": [
       "a/((\\lambda_1 - k_{3})*(\\lambda_2 - k_{3}))"
      ]
     },
     "metadata": {},
     "output_type": "display_data"
    }
   ],
   "source": [
    "th_1 = ((lam_2*th_0 + r_0)/(lam_2 - lam_1)) + a/((lam_2 - lam_1)*(k3 - lam_1))\n",
    "th_2 = ((k1*th_0 + r_0)/(lam_1 - lam_2)) + a/((lam_1 - lam_2)*(k3 - lam_2))\n",
    "th_3 = a/((lam_1 - k3)*(lam_2 - k3))\n",
    "#wyświetlanie implementowanych wzorów\n",
    "display(th_1,th_2,th_3)  "
   ]
  },
  {
   "cell_type": "markdown",
   "metadata": {},
   "source": [
    "Implementacja współczynników lambda - rozdział IV (4.4)"
   ]
  },
  {
   "cell_type": "code",
   "execution_count": 116,
   "metadata": {},
   "outputs": [
    {
     "data": {
      "text/latex": [
       "$\\displaystyle \\frac{\\Delta_{d}}{2} + \\frac{k_{1}}{2} + \\frac{k_{2}}{2} + \\frac{\\sqrt{\\Delta_{d}^{2} + 2 \\Delta_{d} \\left(k_{1} + k_{2}\\right) + \\left(k_{1} - k_{2}\\right)^{2}}}{2}$"
      ],
      "text/plain": [
       "\\Delta_{d}/2 + k_{1}/2 + k_{2}/2 + sqrt(\\Delta_{d}**2 + 2*\\Delta_{d}*(k_{1} + k_{2}) + (k_{1} - k_{2})**2)/2"
      ]
     },
     "metadata": {},
     "output_type": "display_data"
    },
    {
     "data": {
      "text/latex": [
       "$\\displaystyle \\frac{\\Delta_{d}}{2} + \\frac{k_{1}}{2} + \\frac{k_{2}}{2} - \\frac{\\sqrt{\\Delta_{d}^{2} + 2 \\Delta_{d} \\left(k_{1} + k_{2}\\right) + \\left(k_{1} - k_{2}\\right)^{2}}}{2}$"
      ],
      "text/plain": [
       "\\Delta_{d}/2 + k_{1}/2 + k_{2}/2 - sqrt(\\Delta_{d}**2 + 2*\\Delta_{d}*(k_{1} + k_{2}) + (k_{1} - k_{2})**2)/2"
      ]
     },
     "metadata": {},
     "output_type": "display_data"
    },
    {
     "data": {
      "text/latex": [
       "$\\displaystyle - \\underline{d}_{3} + d_{3}$"
      ],
      "text/plain": [
       "-\\underline{d}_{3} + d_{3}"
      ]
     },
     "metadata": {},
     "output_type": "display_data"
    }
   ],
   "source": [
    "lam_1 = ((delta_d + k1 + k2) + sp.sqrt(delta_d**2 + 2*delta_d*(k1 + k2) + (k1 - k2)**2))/2#\n",
    "lam_2 = ((delta_d + k1 + k2) - sp.sqrt(delta_d**2 + 2*delta_d*(k1 + k2) + (k1 - k2)**2))/2#\n",
    "delta_d = d3 - d3f#\n",
    "#wyświetlanie implementowanych wzorów\n",
    "display(lam_1,lam_2,delta_d)"
   ]
  },
  {
   "cell_type": "markdown",
   "metadata": {},
   "source": [
    "Implementacja systemu Sigma1e - rozdział IV (4.7)"
   ]
  },
  {
   "cell_type": "code",
   "execution_count": 117,
   "metadata": {},
   "outputs": [
    {
     "data": {
      "text/latex": [
       "$\\displaystyle \\left[\\begin{matrix}- d_{1} & r(t) & 0 & 0 & 0\\\\- r(t) & - d_{2} & 0 & 0 & 0\\\\1 & 0 & 0 & r(t) & 0\\\\0 & 1 & - r(t) & 0 & 0\\\\0 & 0 & 1 & 0 & 0\\end{matrix}\\right]$"
      ],
      "text/plain": [
       "Matrix([\n",
       "[-d_{1},   r(t),     0,    0, 0],\n",
       "[ -r(t), -d_{2},     0,    0, 0],\n",
       "[     1,      0,     0, r(t), 0],\n",
       "[     0,      1, -r(t),    0, 0],\n",
       "[     0,      0,     1,    0, 0]])"
      ]
     },
     "metadata": {},
     "output_type": "display_data"
    },
    {
     "data": {
      "text/latex": [
       "$\\displaystyle \\left[\\begin{matrix}\\frac{1}{m}\\\\0\\\\0\\\\0\\\\0\\end{matrix}\\right]$"
      ],
      "text/plain": [
       "Matrix([\n",
       "[1/m],\n",
       "[  0],\n",
       "[  0],\n",
       "[  0],\n",
       "[  0]])"
      ]
     },
     "metadata": {},
     "output_type": "display_data"
    },
    {
     "data": {
      "text/latex": [
       "$\\displaystyle \\left[\\begin{matrix}\\frac{f_{u}}{m}\\\\- \\frac{f_{v}}{m}\\\\0\\\\0\\\\0\\end{matrix}\\right]$"
      ],
      "text/plain": [
       "Matrix([\n",
       "[ f_{u}/m],\n",
       "[-f_{v}/m],\n",
       "[       0],\n",
       "[       0],\n",
       "[       0]])"
      ]
     },
     "metadata": {},
     "output_type": "display_data"
    },
    {
     "data": {
      "text/latex": [
       "$\\displaystyle \\left[\\begin{matrix}u\\\\v\\\\z_{1}\\\\z_{2}\\\\z_{3}\\end{matrix}\\right]$"
      ],
      "text/plain": [
       "Matrix([\n",
       "[    u],\n",
       "[    v],\n",
       "[z_{1}],\n",
       "[z_{2}],\n",
       "[z_{3}]])"
      ]
     },
     "metadata": {},
     "output_type": "display_data"
    }
   ],
   "source": [
    "A2 = sp.Matrix([[-d1,rf,0,0,0],[-rf,-d2,0,0,0],[1,0,0,rf,0],[0,1,-rf,0,0],[0,0,1,0,0]])# macierz stanu\n",
    "b2 = sp.Matrix([[1/m,0,0,0,0]]).T # macierz sterowania\n",
    "ff = sp.Matrix([[fu/m,-fv/m,0,0,0]]).T # wektor zakłóceń - wiatru\n",
    "q2 = sp.Matrix([[u,v,z1,z2,z3]]).T # wektor stanu\n",
    "display(A2,b2,ff,q2)\n",
    "#display(dX1_sym)"
   ]
  },
  {
   "cell_type": "markdown",
   "metadata": {},
   "source": [
    "Definicja funkcji - rozdział II (2.2)"
   ]
  },
  {
   "cell_type": "code",
   "execution_count": 118,
   "metadata": {},
   "outputs": [
    {
     "data": {
      "text/latex": [
       "$\\displaystyle C_{u} V_{w}^{2} \\sqrt{a_{ship}^{2} \\sin^{2}{\\left(\\theta \\right)} + b_{ship}^{2} \\cos^{2}{\\left(\\theta \\right)}} \\cos{\\left(\\theta \\right)}$"
      ],
      "text/plain": [
       "C_{u}*V_{w}**2*sqrt(a_{ship}**2*sin(\\theta)**2 + b_{ship}**2*cos(\\theta)**2)*cos(\\theta)"
      ]
     },
     "metadata": {},
     "output_type": "display_data"
    },
    {
     "data": {
      "text/latex": [
       "$\\displaystyle C_{v} V_{w}^{2} \\sqrt{a_{ship}^{2} \\sin^{2}{\\left(\\theta \\right)} + b_{ship}^{2} \\cos^{2}{\\left(\\theta \\right)}} \\sin{\\left(\\theta \\right)}$"
      ],
      "text/plain": [
       "C_{v}*V_{w}**2*sqrt(a_{ship}**2*sin(\\theta)**2 + b_{ship}**2*cos(\\theta)**2)*sin(\\theta)"
      ]
     },
     "metadata": {},
     "output_type": "display_data"
    },
    {
     "data": {
      "text/latex": [
       "$\\displaystyle C_{r} V_{w}^{2} \\sqrt{a_{ship}^{2} \\sin^{2}{\\left(\\theta \\right)} + b_{ship}^{2} \\cos^{2}{\\left(\\theta \\right)}} \\cos{\\left(2 \\theta \\right)}$"
      ],
      "text/plain": [
       "C_{r}*V_{w}**2*sqrt(a_{ship}**2*sin(\\theta)**2 + b_{ship}**2*cos(\\theta)**2)*cos(2*\\theta)"
      ]
     },
     "metadata": {},
     "output_type": "display_data"
    }
   ],
   "source": [
    "fu = Cu * Vw**2 * F * sp.cos(th)\n",
    "fv = Cv * Vw**2 * F * sp.sin(th)\n",
    "fr = Cr * Vw**2 * F * sp.cos(2 * th)\n",
    "display(fu,fv,fr) "
   ]
  },
  {
   "cell_type": "markdown",
   "metadata": {},
   "source": [
    "Nowy wektor stanu - rozdział IV (4.10)"
   ]
  },
  {
   "cell_type": "code",
   "execution_count": 119,
   "metadata": {},
   "outputs": [
    {
     "data": {
      "text/latex": [
       "$\\displaystyle \\left[\\begin{matrix}u\\\\v e^{- k_{3} t}\\\\z_{1}\\\\z_{2} e^{- k_{3} t}\\\\z_{3}\\end{matrix}\\right]$"
      ],
      "text/plain": [
       "Matrix([\n",
       "[                  u],\n",
       "[    v*exp(-k_{3}*t)],\n",
       "[              z_{1}],\n",
       "[z_{2}*exp(-k_{3}*t)],\n",
       "[              z_{3}]])"
      ]
     },
     "metadata": {},
     "output_type": "display_data"
    }
   ],
   "source": [
    "ub = u\n",
    "vb = v * sp.exp(-k3 * t)\n",
    "z1b = z1\n",
    "z2b = z2 * sp.exp(-k3 * t)\n",
    "z3b = z3\n",
    "Xb = sp.Matrix([[ub,vb,z1b,z2b,z3b]]).T\n",
    "#wyświetlanie implementowanych wzorów\n",
    "display(Xb)"
   ]
  },
  {
   "cell_type": "markdown",
   "metadata": {},
   "source": [
    "Współczynniki d1, d2, th3 - rozdział IV (4.11)"
   ]
  },
  {
   "cell_type": "code",
   "execution_count": 120,
   "metadata": {},
   "outputs": [
    {
     "data": {
      "text/latex": [
       "$\\displaystyle \\Delta_{1} + d_{10}$"
      ],
      "text/plain": [
       "\\Delta_{1} + d_{10}"
      ]
     },
     "metadata": {},
     "output_type": "display_data"
    },
    {
     "data": {
      "text/latex": [
       "$\\displaystyle \\Delta_{2} + d_{20}$"
      ],
      "text/plain": [
       "\\Delta_{2} + d_{20}"
      ]
     },
     "metadata": {},
     "output_type": "display_data"
    },
    {
     "data": {
      "text/latex": [
       "$\\displaystyle \\Delta_{3} + d_{30}$"
      ],
      "text/plain": [
       "\\Delta_{3} + d_{30}"
      ]
     },
     "metadata": {},
     "output_type": "display_data"
    },
    {
     "data": {
      "text/latex": [
       "$\\displaystyle \\Delta_{3} + \\theta_{30}$"
      ],
      "text/plain": [
       "\\Delta_{3} + \\theta_{30}"
      ]
     },
     "metadata": {},
     "output_type": "display_data"
    }
   ],
   "source": [
    "d1 = d10 + Delta_1#\n",
    "d2 = d20 + Delta_2#\n",
    "d3 = d30 + Delta_3# za d3 podstawić ręcznie wartość z artykułu 0.05\n",
    "th3 = th30 + Delta_3#\n",
    "#wyświetlanie implementowanych wzorów\n",
    "display(d1,d2,d3,th3)"
   ]
  },
  {
   "cell_type": "markdown",
   "metadata": {},
   "source": [
    "Rozszerzony system Sigma1e bez zakłócenia f(t) - rozdział IV (4.13) i (4.14)"
   ]
  },
  {
   "cell_type": "code",
   "execution_count": 121,
   "metadata": {},
   "outputs": [
    {
     "data": {
      "text/latex": [
       "$\\displaystyle \\left[\\begin{matrix}0 & r(t) e^{- k_{3} t} & 0 & 0 & 0\\\\\\alpha(t) & 0 & 0 & 0 & 0\\\\0 & 0 & 0 & r(t) e^{- k_{3} t} & 0\\\\0 & 0 & \\alpha(t) & 0 & 0\\\\0 & 0 & 0 & 0 & 0\\end{matrix}\\right]$"
      ],
      "text/plain": [
       "Matrix([\n",
       "[        0, r(t)*exp(-k_{3}*t),         0,                  0, 0],\n",
       "[\\alpha(t),                  0,         0,                  0, 0],\n",
       "[        0,                  0,         0, r(t)*exp(-k_{3}*t), 0],\n",
       "[        0,                  0, \\alpha(t),                  0, 0],\n",
       "[        0,                  0,         0,                  0, 0]])"
      ]
     },
     "metadata": {},
     "output_type": "display_data"
    },
    {
     "data": {
      "text/latex": [
       "$\\displaystyle \\left[\\begin{matrix}- d_{10} & 0 & 0 & 0 & 0\\\\\\theta_{30} k_{3} & - d_{20} + k_{3} & 0 & 0 & 0\\\\1 & 0 & 0 & 0 & 0\\\\0 & 1 & \\theta_{30} k_{3} & k_{3} & 0\\\\0 & 0 & 1 & 0 & 0\\end{matrix}\\right]$"
      ],
      "text/plain": [
       "Matrix([\n",
       "[          -d_{10},               0,                 0,     0, 0],\n",
       "[\\theta_{30}*k_{3}, -d_{20} + k_{3},                 0,     0, 0],\n",
       "[                1,               0,                 0,     0, 0],\n",
       "[                0,               1, \\theta_{30}*k_{3}, k_{3}, 0],\n",
       "[                0,               0,                 1,     0, 0]])"
      ]
     },
     "metadata": {},
     "output_type": "display_data"
    },
    {
     "data": {
      "text/latex": [
       "$\\displaystyle \\left[\\begin{matrix}1 & 0 & 0 & 0\\\\0 & 1 & 1 & 0\\\\0 & 0 & 0 & 0\\\\0 & 0 & 0 & 1\\\\0 & 0 & 0 & 0\\end{matrix}\\right]$"
      ],
      "text/plain": [
       "Matrix([\n",
       "[1, 0, 0, 0],\n",
       "[0, 1, 1, 0],\n",
       "[0, 0, 0, 0],\n",
       "[0, 0, 0, 1],\n",
       "[0, 0, 0, 0]])"
      ]
     },
     "metadata": {},
     "output_type": "display_data"
    },
    {
     "data": {
      "text/latex": [
       "$\\displaystyle \\left[\\begin{matrix}- \\delta_{1} & 0 & 0 & 0 & 0\\\\0 & - \\delta_{2} & 0 & 0 & 0\\\\\\delta_{3} k_{3} & 0 & 0 & 0 & 0\\\\0 & 0 & \\delta_{3} k_{3} & 0 & 0\\end{matrix}\\right]$"
      ],
      "text/plain": [
       "Matrix([\n",
       "[     -\\delta_{1},           0,                0, 0, 0],\n",
       "[               0, -\\delta_{2},                0, 0, 0],\n",
       "[\\delta_{3}*k_{3},           0,                0, 0, 0],\n",
       "[               0,           0, \\delta_{3}*k_{3}, 0, 0]])"
      ]
     },
     "metadata": {},
     "output_type": "display_data"
    },
    {
     "data": {
      "text/latex": [
       "$\\displaystyle \\left[\\begin{matrix}\\frac{\\Delta_{1}}{\\delta_{1}} & 0 & 0 & 0\\\\0 & \\frac{\\Delta_{2}}{\\delta_{2}} & 0 & 0\\\\0 & 0 & \\frac{\\Delta_{3}}{\\delta_{3}} & 0\\\\0 & 0 & 0 & \\frac{\\Delta_{3}}{\\delta_{3}}\\end{matrix}\\right]$"
      ],
      "text/plain": [
       "Matrix([\n",
       "[\\Delta_{1}/\\delta_{1},                     0,                     0,                     0],\n",
       "[                    0, \\Delta_{2}/\\delta_{2},                     0,                     0],\n",
       "[                    0,                     0, \\Delta_{3}/\\delta_{3},                     0],\n",
       "[                    0,                     0,                     0, \\Delta_{3}/\\delta_{3}]])"
      ]
     },
     "metadata": {},
     "output_type": "display_data"
    }
   ],
   "source": [
    "#macierze o stałych współczynnikach\n",
    "A10 = sp.Matrix([[-d10,0,0,0,0],[th30*k3,-(d20-k3),0,0,0],[1,0,0,0,0],[0,1,th30*k3,k3,0],[0,0,1,0,0]])#\n",
    "D = sp.Matrix([[1,0,0,0],[0,1,1,0],[0,0,0,0],[0,0,0,1],[0,0,0,0]])#\n",
    "E = sp.Matrix([[-delta_1,0,0,0,0],[0,-delta_2,0,0,0],[k3*delta_3,0,0,0,0],[0,0,k3*delta_3,0,0]])#\n",
    "DELTA = sp.Matrix.diag([Delta_1/delta_1,Delta_2/delta_2,Delta_3/delta_3,Delta_3/delta_3])#\n",
    "#macierz o zmiennych współczynnikach\n",
    "af = sp.symbols('\\\\alpha(t)')# to będzie później funkcja alpha(t)\n",
    "A22 = sp.Matrix([[0,rf*sp.exp(-k3*t),0,0,0],[af,0,0,0,0],[0,0,0,rf*sp.exp(-k3*t),0],[0,0,af,0,0],[0,0,0,0,0]])\n",
    "#wyświetlanie implementowanych wzorów\n",
    "display(A22)\n",
    "display(A10,D,E,DELTA)"
   ]
  },
  {
   "cell_type": "markdown",
   "metadata": {},
   "source": [
    "Wzory potrzebne do obliczenia d1, d2, th3 - rozdział IV (4.12)"
   ]
  },
  {
   "cell_type": "code",
   "execution_count": 122,
   "metadata": {},
   "outputs": [
    {
     "data": {
      "text/latex": [
       "$\\displaystyle \\frac{\\bar{\\theta}_{3}}{2} - \\frac{\\underline{\\theta}_{3}}{2}$"
      ],
      "text/plain": [
       "\\bar{\\theta}_{3}/2 - \\underline{\\theta}_{3}/2"
      ]
     },
     "metadata": {},
     "output_type": "display_data"
    },
    {
     "data": {
      "text/latex": [
       "$\\displaystyle \\frac{\\bar{\\theta}_{3}}{2} + \\frac{\\underline{\\theta}_{3}}{2}$"
      ],
      "text/plain": [
       "\\bar{\\theta}_{3}/2 + \\underline{\\theta}_{3}/2"
      ]
     },
     "metadata": {},
     "output_type": "display_data"
    }
   ],
   "source": [
    "delta_3 = (th3c - th3f)/2 #\n",
    "th30 = (th3c + th3f)/2 #\n",
    "display(delta_3,th30)"
   ]
  },
  {
   "cell_type": "code",
   "execution_count": 123,
   "metadata": {},
   "outputs": [
    {
     "data": {
      "text/latex": [
       "$\\displaystyle \\frac{a}{\\left(- k_{1} + k_{3}\\right) \\left(- k_{2} + k_{3}\\right)}$"
      ],
      "text/plain": [
       "a/((-k_{1} + k_{3})*(-k_{2} + k_{3}))"
      ]
     },
     "metadata": {},
     "output_type": "display_data"
    },
    {
     "data": {
      "text/latex": [
       "$\\displaystyle \\frac{a}{k_{1} k_{2} + k_{3}^{2} - k_{3} \\left(\\bar{d}_{3} + k_{r}\\right)}$"
      ],
      "text/plain": [
       "a/(k_{1}*k_{2} + k_{3}**2 - k_{3}*(\\bar{d}_{3} + k_{r}))"
      ]
     },
     "metadata": {},
     "output_type": "display_data"
    },
    {
     "data": {
      "text/latex": [
       "$\\displaystyle \\frac{\\bar{d}_{1}}{2} + \\frac{\\underline{d}_{1}}{2}$"
      ],
      "text/plain": [
       "\\bar{d}_{1}/2 + \\underline{d}_{1}/2"
      ]
     },
     "metadata": {},
     "output_type": "display_data"
    },
    {
     "data": {
      "text/latex": [
       "$\\displaystyle \\frac{\\bar{d}_{2}}{2} + \\frac{\\underline{d}_{2}}{2}$"
      ],
      "text/plain": [
       "\\bar{d}_{2}/2 + \\underline{d}_{2}/2"
      ]
     },
     "metadata": {},
     "output_type": "display_data"
    },
    {
     "data": {
      "text/latex": [
       "$\\displaystyle \\frac{\\bar{d}_{3}}{2} + \\frac{\\underline{d}_{3}}{2}$"
      ],
      "text/plain": [
       "\\bar{d}_{3}/2 + \\underline{d}_{3}/2"
      ]
     },
     "metadata": {},
     "output_type": "display_data"
    },
    {
     "data": {
      "text/latex": [
       "$\\displaystyle \\frac{\\bar{d}_{1}}{2} - \\frac{\\underline{d}_{1}}{2}$"
      ],
      "text/plain": [
       "\\bar{d}_{1}/2 - \\underline{d}_{1}/2"
      ]
     },
     "metadata": {},
     "output_type": "display_data"
    },
    {
     "data": {
      "text/latex": [
       "$\\displaystyle \\frac{\\bar{d}_{2}}{2} - \\frac{\\underline{d}_{2}}{2}$"
      ],
      "text/plain": [
       "\\bar{d}_{2}/2 - \\underline{d}_{2}/2"
      ]
     },
     "metadata": {},
     "output_type": "display_data"
    }
   ],
   "source": [
    "th3f = a/((k3 - k1)*(k3 - k2))#\n",
    "th3c = a/(k3**2 - (d3c + k_r)*k3 + k1*k2)#\n",
    "d10 = (d1c + d1f)/2#\n",
    "d20 = (d2c + d2f)/2#\n",
    "d30 = (d3c + d3f)/2#\n",
    "delta_1 = (d1c - d1f)/2#\n",
    "delta_2 = (d2c - d2f)/2#\n",
    "#wyświetlanie implementowanych wzorów\n",
    "display(th3f,th3c,d10,d20,d30,delta_1,delta_2)"
   ]
  },
  {
   "cell_type": "markdown",
   "metadata": {},
   "source": [
    "Sygnał sterujący tau_u - rozdział IV (4.21)"
   ]
  },
  {
   "cell_type": "code",
   "execution_count": 124,
   "metadata": {},
   "outputs": [
    {
     "data": {
      "text/latex": [
       "$\\displaystyle - \\bar{k}_{1} u - \\bar{k}_{2} v e^{- k_{3} t} - \\bar{k}_{3} z_{1} - \\bar{k}_{4} z_{2} e^{- k_{3} t} - \\bar{k}_{5} z_{3}$"
      ],
      "text/plain": [
       "-\\bar{k}_{1}*u - \\bar{k}_{2}*v*exp(-k_{3}*t) - \\bar{k}_{3}*z_{1} - \\bar{k}_{4}*z_{2}*exp(-k_{3}*t) - \\bar{k}_{5}*z_{3}"
      ]
     },
     "metadata": {},
     "output_type": "display_data"
    }
   ],
   "source": [
    "tauu = -(k1b*u+k2b*v*sp.exp(-k3*t)+k3b*z1+k4b*z2*sp.exp(-k3*t)+k5b*z3)\n",
    "#wyświetlanie implementowanych wzorów\n",
    "display(tauu)"
   ]
  },
  {
   "cell_type": "markdown",
   "metadata": {},
   "source": [
    "Wektor zakłóceń - rozdział IV (4.26)"
   ]
  },
  {
   "cell_type": "code",
   "execution_count": 125,
   "metadata": {},
   "outputs": [
    {
     "data": {
      "text/latex": [
       "$\\displaystyle \\left[\\begin{matrix}\\frac{C_{u} V_{w}^{2} \\sqrt{a_{ship}^{2} \\sin^{2}{\\left(\\theta \\right)} + b_{ship}^{2} \\cos^{2}{\\left(\\theta \\right)}} \\cos{\\left(\\theta(t) \\right)}}{m}\\\\- \\frac{C_{v} V_{w}^{2} \\sqrt{a_{ship}^{2} \\sin^{2}{\\left(\\theta \\right)} + b_{ship}^{2} \\cos^{2}{\\left(\\theta \\right)}} e^{- k_{3} t} \\sin{\\left(\\theta(t) \\right)}}{m}\\\\0\\\\0\\\\0\\end{matrix}\\right]$"
      ],
      "text/plain": [
       "Matrix([\n",
       "[               C_{u}*V_{w}**2*sqrt(a_{ship}**2*sin(\\theta)**2 + b_{ship}**2*cos(\\theta)**2)*cos(\\theta(t))/m],\n",
       "[-C_{v}*V_{w}**2*sqrt(a_{ship}**2*sin(\\theta)**2 + b_{ship}**2*cos(\\theta)**2)*exp(-k_{3}*t)*sin(\\theta(t))/m],\n",
       "[                                                                                                           0],\n",
       "[                                                                                                           0],\n",
       "[                                                                                                           0]])"
      ]
     },
     "metadata": {},
     "output_type": "display_data"
    }
   ],
   "source": [
    "#wektor zakłóceń\n",
    "fb = sp.Matrix([[Cu*Vw**2*F*sp.cos(tta)/m,-Cv*Vw**2*sp.exp(-k3*t)*F*sp.sin(tta)/m,0,0,0]]).T \n",
    "display(fb)  "
   ]
  },
  {
   "cell_type": "markdown",
   "metadata": {},
   "source": [
    "Wzory na współczynniki sterownika tau_r"
   ]
  },
  {
   "cell_type": "code",
   "execution_count": 126,
   "metadata": {},
   "outputs": [
    {
     "data": {
      "text/latex": [
       "$\\displaystyle k_{1} k_{2}$"
      ],
      "text/plain": [
       "k_{1}*k_{2}"
      ]
     },
     "metadata": {},
     "output_type": "display_data"
    },
    {
     "data": {
      "text/latex": [
       "$\\displaystyle - \\underline{d}_{3} + k_{1} + k_{2}$"
      ],
      "text/plain": [
       "-\\underline{d}_{3} + k_{1} + k_{2}"
      ]
     },
     "metadata": {},
     "output_type": "display_data"
    }
   ],
   "source": [
    "k_th = k1 * k2#\n",
    "k_r = k1 + k2 - d3f#\n",
    "display(k_th,k_r)"
   ]
  },
  {
   "cell_type": "markdown",
   "metadata": {},
   "source": [
    "Wzory na Delta_i - Delta_i <= delta_i - rozdział (4.11)"
   ]
  },
  {
   "cell_type": "code",
   "execution_count": 127,
   "metadata": {},
   "outputs": [],
   "source": [
    "Delta_1 = delta_1\n",
    "Delta_2 = delta_2\n",
    "Delta_3 = delta_3"
   ]
  },
  {
   "cell_type": "markdown",
   "metadata": {},
   "source": [
    "Wektor wzmocnień sterownika - rozdział IV (4.21)"
   ]
  },
  {
   "cell_type": "code",
   "execution_count": 128,
   "metadata": {},
   "outputs": [
    {
     "data": {
      "text/latex": [
       "$\\displaystyle \\left[\\begin{matrix}\\bar{k}_{1} & \\bar{k}_{2} & \\bar{k}_{3} & \\bar{k}_{4} & \\bar{k}_{5}\\end{matrix}\\right]$"
      ],
      "text/plain": [
       "Matrix([[\\bar{k}_{1}, \\bar{k}_{2}, \\bar{k}_{3}, \\bar{k}_{4}, \\bar{k}_{5}]])"
      ]
     },
     "metadata": {},
     "output_type": "display_data"
    }
   ],
   "source": [
    "Kb = sp.Matrix([[k1b,k2b,k3b,k4b,k5b]])\n",
    "display(Kb)"
   ]
  },
  {
   "cell_type": "markdown",
   "metadata": {},
   "source": [
    "## ----------------------------------------------------------------------------------------------------------------------------------"
   ]
  },
  {
   "cell_type": "markdown",
   "metadata": {},
   "source": [
    "Ponowne zapisanie wzorów na współczynniki tak aby wszytskie były zależne tylko od podanych wartości w artykule"
   ]
  },
  {
   "cell_type": "code",
   "execution_count": 129,
   "metadata": {},
   "outputs": [],
   "source": [
    "th3f = a/((k3 - k1)*(k3 - k2))#\n",
    "th3c = a/(k3**2 - (d3c + k_r)*k3 + k1*k2)#\n",
    "d10 = (d1c + d1f)/2#\n",
    "d20 = (d2c + d2f)/2#\n",
    "d30 = (d3c + d3f)/2#\n",
    "delta_1 = (d1c - d1f)/2#\n",
    "delta_2 = (d2c - d2f)/2#\n",
    "delta_3 = (th3c - th3f)/2 #\n",
    "Delta_1 = delta_1\n",
    "Delta_2 = delta_2\n",
    "Delta_3 = delta_3\n",
    "th30 = (th3c + th3f)/2 #\n",
    "d1 = d10 + Delta_1 #\n",
    "d2 = d20 + Delta_2 #\n",
    "d3 = 0.05#d30 + Delta_3 # za d3 podstawić ręcznie wartość z artykułu 0.05\n",
    "th3 = th30 + Delta_3 #\n",
    "delta_d = d3 - d3f #\n",
    "lam_1 = ((delta_d + k1 + k2) + sp.sqrt(delta_d**2 + 2*delta_d*(k1 + k2) + (k1 - k2)**2))/2 #\n",
    "lam_2 = ((delta_d + k1 + k2) - sp.sqrt(delta_d**2 + 2*delta_d*(k1 + k2) + (k1 - k2)**2))/2 #\n",
    "th_1 = ((lam_2*th_0 + r_0)/(lam_2 - lam_1)) + a/((lam_2 - lam_1)*(k3 - lam_1))\n",
    "th_2 = ((k1*th_0 + r_0)/(lam_1 - lam_2)) + a/((lam_1 - lam_2)*(k3 - lam_2))\n",
    "th_3 = a/((lam_1 - k3)*(lam_2 - k3))\n",
    "Alp = -(th_1*lam_1*sp.exp(-(lam_1-k3)*t)+th_2*lam_2*sp.exp(-(lam_2-k3)*t)) #funkcja alpha(t)\n",
    "Th = th_1*sp.exp(-lam_1*t) + th_2*sp.exp(-lam_2*t) + th_3*sp.exp(-k3*t) # th(t)\n",
    "R = -th_1*lam_1*sp.exp(-lam_1*t) - th_2*lam_2*sp.exp(-lam_2*t) - th_3*k3*sp.exp(-k3*t) # r(t)\n",
    "taur = m3 * (-k_r * r - k_th * th + a * sp.exp(-k3 * t) - fr) \n",
    "dr = -d3 * r + (1/m3) * (taur + fr) \n",
    "# - - - \n",
    "rf = Alp\n",
    "tta = Th\n",
    "f1 = sp.Matrix([[fu/m,fv/m,0,0]]).T \n",
    "fb = sp.Matrix([[Cu*Vw**2*F*sp.cos(tta)/m,-Cv*Vw**2*sp.exp(k3*t)*F*sp.sin(tta)/m,0,0,0]]).T \n",
    "A1 = sp.Matrix([[-d1,r,0,0],[-r,-d2,0,0],[1,0,0,r],[0,1,-r,0]])\n",
    "A2 = sp.Matrix([[-d1,rf,0,0,0],[-rf,-d2,0,0,0],[1,0,0,rf,0],[0,1,-rf,0,0],[0,0,1,0,0]])# macierz stanu\n",
    "A10 = sp.Matrix([[-d10,0,0,0,0],[th30*k3,-(d20-k3),0,0,0],[1,0,0,0,0],[0,1,th30*k3,k3,0],[0,0,1,0,0]])#\n",
    "E = sp.Matrix([[-delta_1,0,0,0,0],[0,-delta_2,0,0,0],[k3*delta_3,0,0,0,0],[0,0,k3*delta_3,0,0]])#\n",
    "DELTA = sp.Matrix.diag([Delta_1/delta_1,Delta_2/delta_2,Delta_3/delta_3,Delta_3/delta_3])#"
   ]
  },
  {
   "cell_type": "markdown",
   "metadata": {},
   "source": [
    "Zdefiniowanie funkcji w formie dx = f(x,u)"
   ]
  },
  {
   "cell_type": "code",
   "execution_count": 130,
   "metadata": {},
   "outputs": [],
   "source": [
    "# System 1 \n",
    "dx1 = A1 @ q + b1 * tauu + f1\n",
    "# System 2\n",
    "dx2 = sp.Matrix([[dr,dth]]).T\n",
    "# System 1e\n",
    "dx3 = ((A10 - b2 @ Kb + D@DELTA@E) + A2) @ Xb + fb\n",
    "# Przeliczenie prędkości\n",
    "dx4 = sp.Matrix([[dx,dy]]).T"
   ]
  },
  {
   "cell_type": "markdown",
   "metadata": {},
   "source": [
    "## ----------------------------------------------------------------------------------------------------------------------------------"
   ]
  },
  {
   "cell_type": "markdown",
   "metadata": {},
   "source": [
    "# Podstawienie wartości do zmiennych symbolicznych"
   ]
  },
  {
   "cell_type": "code",
   "execution_count": 131,
   "metadata": {},
   "outputs": [],
   "source": [
    "params = {a_ship:1.2,b_ship:0.5} #Podstawienie wymiarów sterowca\n",
    "params.update({Cu:0.42,Cv:0.42,Cr:0.42,Vw:0.1}) #Podstawienie wartości współczynników aerodynamicznych i prędkości wiatru\n",
    "params.update({m:0.072, m3:0.018})#Podstawienie wartości masy strowca m=m1=m2, masa sterowca m3\n",
    "params.update({d1f:0.008, d2f:0.029, d3f:0.035})#Podstawienie dolnych wartości współczynników tłumienia\n",
    "params.update({d1c:0.01, d2c:0.057, d3c:0.05})#Podstawienie górnych wartości współczynników tłumienia\n",
    "params.update({k1:0.52, k2:0.5, k3:0.35, a:0.15})#Podstawienie wartości wzmocnień kontrolera tau_r\n",
    "params.update({k1b:1.6, k2b:0.13, k3b:1.0, k4b:0.16, k5b:0.0032})#Podstawienie wartości\n",
    "params.update({th_0:1,r_0:0})#Wartości początkowe kąta, prędkości kątowej"
   ]
  },
  {
   "cell_type": "markdown",
   "metadata": {},
   "source": [
    "# Definicja funkcji numerycznych"
   ]
  },
  {
   "cell_type": "code",
   "execution_count": 132,
   "metadata": {},
   "outputs": [],
   "source": [
    "dx1_ = sp.lambdify((u,v,z1,z2,z3,r,th,t),dx1.subs(params)) # system 1\n",
    "dx2_ = sp.lambdify((r,th,t),dx2.subs(params))              # system 2\n",
    "dx3_ = sp.lambdify((u,v,z1,z2,z3,r,th,t),dx3.subs(params)) # system 1e\n",
    "dx4_ = sp.lambdify((u,v,th),dx4.subs(params))              # prędkości x y"
   ]
  },
  {
   "cell_type": "markdown",
   "metadata": {},
   "source": [
    "# Definicja funkcji symulacji"
   ]
  },
  {
   "cell_type": "code",
   "execution_count": 154,
   "metadata": {},
   "outputs": [],
   "source": [
    "def Blimp(t_, xi_array):\n",
    "    xi = MAT([xi_array]).T\n",
    "    ui = MAT(xi[0][0])\n",
    "    vi = MAT(xi[1][0])\n",
    "    z1i = MAT(xi[2][0])\n",
    "    z2i = MAT(xi[3][0])\n",
    "    z3i = MAT(xi[4][0])\n",
    "    ri = MAT(xi[5][0])\n",
    "    thi = MAT(xi[6][0])\n",
    "    # system 1\n",
    "    #w1 = dx1_(ui,vi,z1i,z2i,z3i,ri,thi,t_)\n",
    "    # system 2\n",
    "    w2 = dx2_(ri,thi,t_)\n",
    "    #System 1e\n",
    "    w3 = dx3_(ui,vi,z1i,z2i,z3i,ri,thi,t_)\n",
    "    # x y\n",
    "    w4 = dx4_(ui,vi,thi)\n",
    "    # Zbieranie wyników\n",
    "    dxi = np.concatenate((w3,w2,w4))\n",
    "    return np.ndarray.tolist(dxi.T[0])"
   ]
  },
  {
   "cell_type": "markdown",
   "metadata": {},
   "source": [
    "# Przygotowanie symulacji"
   ]
  },
  {
   "cell_type": "code",
   "execution_count": 156,
   "metadata": {},
   "outputs": [],
   "source": [
    "xi0_array = [0,0,0,0,0,0,1,0,0]#wartości początkowe zmiennych\n",
    "time_sym = 30 # Czas trwania symulacji\n",
    "sim = solve_ivp(Blimp, [0, time_sym], xi0_array, method='RK23')\n",
    "t = sim.t\n",
    "u, v, z1, z2, z3, r, th, xv, yv = sim.y # return xi   "
   ]
  },
  {
   "cell_type": "code",
   "execution_count": 160,
   "metadata": {},
   "outputs": [
    {
     "data": {
      "image/png": "[encoded data removed]",
      "text/plain": [
       "<Figure size 432x288 with 1 Axes>"
      ]
     },
     "metadata": {
      "needs_background": "light"
     },
     "output_type": "display_data"
    },
    {
     "data": {
      "image/png": "[encoded data removed]",
      "text/plain": [
       "<Figure size 432x288 with 1 Axes>"
      ]
     },
     "metadata": {
      "needs_background": "light"
     },
     "output_type": "display_data"
    },
    {
     "data": {
      "image/png": "[encoded data removed]",
      "text/plain": [
       "<Figure size 432x288 with 1 Axes>"
      ]
     },
     "metadata": {
      "needs_background": "light"
     },
     "output_type": "display_data"
    },
    {
     "data": {
      "image/png": "[encoded data removed]",
      "text/plain": [
       "<Figure size 432x288 with 1 Axes>"
      ]
     },
     "metadata": {
      "needs_background": "light"
     },
     "output_type": "display_data"
    }
   ],
   "source": [
    "#wykres prędkości w lokalnym układzie sterowca\n",
    "plt.figure()\n",
    "plt.plot(t, v, 'r', label='v')\n",
    "plt.plot(t, u, 'b', label='u')\n",
    "plt.legend(loc='best')\n",
    "plt.xlabel('time [s]')\n",
    "plt.ylabel('vel [m/s]')\n",
    "plt.grid(True)\n",
    "plt.show()\n",
    "#wykres wykres prędkości kątowej r i kąta theta\n",
    "plt.figure()\n",
    "plt.plot(t, r, 'r', label='r')\n",
    "plt.plot(t, th, 'b', label='th')\n",
    "plt.legend(loc='best')\n",
    "plt.xlabel('time [s]')\n",
    "plt.ylabel('rad')\n",
    "plt.grid(True)\n",
    "plt.show()\n",
    "#wykres wykres z1 i z2\n",
    "plt.figure()\n",
    "plt.plot(t, z1, 'r', label='z1')\n",
    "plt.plot(t, z2, 'b', label='z2')\n",
    "plt.legend(loc='best')\n",
    "plt.xlabel('time [s]')\n",
    "plt.ylabel('-')\n",
    "plt.grid(True)\n",
    "plt.show()\n",
    "#wykres wykres z1 i z2\n",
    "plt.figure()\n",
    "plt.plot(t, xv, 'r', label='xv')\n",
    "plt.plot(t, yv, 'b', label='yv')\n",
    "plt.legend(loc='best')\n",
    "plt.xlabel('time [s]')\n",
    "plt.ylabel('vel [m/s]')\n",
    "plt.grid(True)\n",
    "plt.show()"
   ]
  },
  {
   "cell_type": "code",
   "execution_count": null,
   "metadata": {},
   "outputs": [],
   "source": []
  },
  {
   "cell_type": "code",
   "execution_count": null,
   "metadata": {},
   "outputs": [],
   "source": []
  }
 ],
 "metadata": {
  "kernelspec": {
   "display_name": "Python 3",
   "language": "python",
   "name": "python3"
  },
  "language_info": {
   "codemirror_mode": {
    "name": "ipython",
    "version": 3
   },
   "file_extension": ".py",
   "mimetype": "text/x-python",
   "name": "python",
   "nbconvert_exporter": "python",
   "pygments_lexer": "ipython3",
   "version": "3.8.1"
  }
 },
 "nbformat": 4,
 "nbformat_minor": 4
}
