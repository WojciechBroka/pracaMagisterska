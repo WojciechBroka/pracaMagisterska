{
 "cells": [
  {
   "cell_type": "markdown",
   "metadata": {},
   "source": [
    "## Implementacja \"Robust global stabilization and disturbance rejection of an underactuated nonholonomic airship\""
   ]
  },
  {
   "cell_type": "markdown",
   "metadata": {},
   "source": [
    "Link do implementowanego artykułu: https://ieeexplore.ieee.org/document/4389345"
   ]
  },
  {
   "cell_type": "markdown",
   "metadata": {},
   "source": [
    "# Import"
   ]
  },
  {
   "cell_type": "code",
   "execution_count": null,
   "metadata": {},
   "outputs": [],
   "source": [
    "import sympy as sp\n",
    "import numpy as np\n",
    "import scipy as sc\n",
    "import matplotlib.pyplot as plt # ploting results\n",
    "from scipy.integrate import solve_ivp # solving differential equations\n",
    "MAT = np.array"
   ]
  },
  {
   "cell_type": "markdown",
   "metadata": {},
   "source": [
    "# Definicja zmiennych"
   ]
  },
  {
   "cell_type": "code",
   "execution_count": null,
   "metadata": {},
   "outputs": [],
   "source": [
    "t = sp.symbols('t') # czas\n",
    "tta = sp.symbols('\\\\theta', cls=sp.Function) # kąt obrotu sterowca w układzie globalnym\n",
    "u = sp.symbols('u', cls=sp.Function) # prędkość wzdłużna sterowca w układzie lokalnym\n",
    "v = sp.symbols('v', cls=sp.Function) # prędkość poprzeczna sterowca w układzie lokalnym\n",
    "r = sp.symbols('r', cls=sp.Function) # prędkość obrotowa sterowca w układzie globalnym\n",
    "x, y = sp.symbols('x y', cls=sp.Function) # położenie sterowca w układzie globalnym\n",
    "F, fu, fv, fr = sp.symbols('F f_{u} f_{v} f_{r}', cls=sp.Function) # funkcje symboliczne\n",
    "z1, z2, z3 = sp.symbols('z_{1} z_{2} z_{3}', cls=sp.Function) # ?\n",
    "Tt, rf, alpha = sp.symbols('\\\\theta_{f} r_{f} \\\\alpha', cls=sp.Function)\n",
    "tauu, taur = sp.symbols('\\\\tau_{u} \\\\tau_{r}') # sygnały sterujące kolejno: siła ciągu, siła skręcająca \n",
    "ub, vb, z1b, z2b, z3b = sp.symbols('\\\\bar{u} \\\\bar{v} \\\\bar{z}_{1} \\\\bar{z}_{2} \\\\bar{z}_{3}')#nowe zmienne stanu po transforma"
   ]
  },
  {
   "cell_type": "markdown",
   "metadata": {},
   "source": [
    "# Współczynniki"
   ]
  },
  {
   "cell_type": "code",
   "execution_count": null,
   "metadata": {},
   "outputs": [],
   "source": [
    "Cu, Cv, Cr = sp.symbols('C_{u} C_{v} C_{r}') #współczynniki aerodynamiczne względem osi u v r\n",
    "Vw = sp.symbols('V_{w}') #prędkość wiatru (w artykule jest zawsze stała)\n",
    "a_ship, b_ship = sp.symbols('a_{ship} b_{ship}') #długość sterowca, szerokość sterowca\n",
    "m, m3 = sp.symbols('m m_{3}') # masa strowca m=m1=m2, masa sterowca m3------------------------------------\n",
    "d1, d2, d3, th3 = sp.symbols('d_{1} d_{2} d_{3} \\\\theta_{3}') # współczynniki tłumienia kolejno w osi u v r\n",
    "d1f, d2f, d3f, th3f = sp.symbols('\\\\underline{d}_{1} \\\\underline{d}_{2} \\\\underline{d}_{3} \\\\underline{\\\\theta}_{3}') # dolne wartości wsp tłumienia d1, d2, d3\n",
    "d1c, d2c, d3c, th3c = sp.symbols('\\\\bar{d}_{1} \\\\bar{d}_{2} \\\\bar{d}_{3} \\\\bar{\\\\theta}_{3}') # górne wartości współczynników tłumienia d1, d2, d3\n",
    "d10, d20, d30, th30 = sp.symbols('d_{10} d_{20} d_{30} \\\\theta_{30}') # niepewności\n",
    "Delta_1, Delta_2, Delta_3, delta_1, delta_2, delta_3 = sp.symbols('\\\\Delta_{1} \\\\Delta_{2} \\\\Delta_{3} \\\\delta_{1} \\\\delta_{2} \\\\delta_{3}')# niepewności\n",
    "k1, k2, k3, a = sp.symbols('k_{1} k_{2} k_{3} a') # współczynniki wzmocnień syg ster tau_r\n",
    "k_th, k_r  = sp.symbols('k_{\\\\theta} k_{r}') # jak wyżej\n",
    "k1b, k2b, k3b, k4b, k5b = sp.symbols('\\\\bar{k}_{1} \\\\bar{k}_{2} \\\\bar{k}_{3} \\\\bar{k}_{4} \\\\bar{k}_{5}')#wsp wzm sterownika tau_u\n",
    "th_1, th_2, th_3 = sp.symbols('\\\\theta_1 \\\\theta_2 \\\\theta_3') # współczynniki th z obliczone na podst wzoru 4.4\n",
    "lam_1, lam_2 = sp.symbols('\\lambda_1 \\lambda_2') # współczynniki lam z obliczone na podst wzoru 4.4\n",
    "delta_d = sp.symbols('\\\\Delta_{d}') # współczynnik deltad ze wzoru 4.3\n",
    "th_0, r_0 = sp.symbols('th(0) r(0)')# wartości początkowe"
   ]
  },
  {
   "cell_type": "markdown",
   "metadata": {},
   "source": [
    "Opis modelu kinematycznego, geometrycznego powiązania pomiędzy układem globalnym a układem lokalnym - rozdział II (2.4)"
   ]
  },
  {
   "cell_type": "code",
   "execution_count": null,
   "metadata": {},
   "outputs": [],
   "source": [
    "dx_ = u(t) * sp.cos(tta(t)) - v(t) * sp.sin(tta(t))\n",
    "dy_ = u(t) * sp.sin(tta(t)) + v(t) * sp.cos(tta(t))\n",
    "dtta_ = r(t)\n",
    "kin_ = sp.Matrix([[dx_],[dy_],[dtta_]])\n",
    "display(dx_,dy_,dtta_)"
   ]
  },
  {
   "cell_type": "markdown",
   "metadata": {},
   "source": [
    "Ciąg dalszy opisu kinematyki, z1 z2 - rozdział II (2.5)"
   ]
  },
  {
   "cell_type": "code",
   "execution_count": null,
   "metadata": {},
   "outputs": [],
   "source": [
    "z1_ = x(t) * sp.cos(tta(t)) + y(t) * sp.sin(tta(t))\n",
    "z2_ = -x(t) * sp.sin(tta(t)) + y(t) * sp.cos(tta(t))\n",
    "#wyświetlanie implementowanych wzorów\n",
    "display(z1_,z2_)"
   ]
  },
  {
   "cell_type": "markdown",
   "metadata": {},
   "source": [
    "Równanie stanu uzyskane przez połączenie kinematyki i dynamiki sterowca - rozdział II (2.6)"
   ]
  },
  {
   "cell_type": "code",
   "execution_count": null,
   "metadata": {},
   "outputs": [],
   "source": [
    "# układ Sigma1:\n",
    "# macierz stanu\n",
    "A1 = sp.Matrix([[-d1,r(t),0,0],[-r(t),-d2,0,0],[1,0,0,r(t)],[0,1,-r(t),0]])  \n",
    "q = sp.Matrix([[u(t),v(t),z1(t),z2(t)]]).T # wektor stanu\n",
    "b1 = sp.Matrix([[1/m,0,0,0]]).T # macierz sterowania\n",
    "# wektor sił zakłóceń - wiatru\n",
    "f1 = sp.Matrix([[fu(tta(t))/m,fv(tta(t))/m,0,0]]).T \n",
    "s_ = A1@q+b1*tauu+f1\n",
    "#wyświetlanie implementowanych wzorów\n",
    "#display(s_)\n",
    "display(A1,q,b1,f1)"
   ]
  },
  {
   "cell_type": "code",
   "execution_count": null,
   "metadata": {},
   "outputs": [],
   "source": [
    "# układ Sigma2:                                    #ten układ umieścić w funkcji symulacji\n",
    "dr_ = -d3 * r(t) + (1/m3) * (taur + fr(tta(t))) \n",
    "dth_ = r(t)\n",
    "display(dr_,dth_)"
   ]
  },
  {
   "cell_type": "markdown",
   "metadata": {},
   "source": [
    "Dynamika sterowca"
   ]
  },
  {
   "cell_type": "code",
   "execution_count": null,
   "metadata": {},
   "outputs": [],
   "source": [
    "dyn_ = sp.Matrix([[s_.row(0)],[s_.row(1)],[dr_]])\n",
    "dyn_"
   ]
  },
  {
   "cell_type": "markdown",
   "metadata": {},
   "source": [
    "Sygnał sterujący dla podsystemu Sigma2 - rozdział IV (4.1)"
   ]
  },
  {
   "cell_type": "code",
   "execution_count": null,
   "metadata": {},
   "outputs": [],
   "source": [
    "taur_ = m3 * (-k_r * r(t) - k_th * tta(t) + a * sp.exp(-k3 * t) - fr(tta(t))) \n",
    "kr = k1 + k2 - d3c\n",
    "ktta = k1*k2\n",
    "podstaw={k_r:kr,k_th:ktta}\n",
    "display(taur_,kr,ktta)"
   ]
  },
  {
   "cell_type": "markdown",
   "metadata": {},
   "source": [
    "Odpowiedź kąta i prędkości kątowej jest dana - rozdział IV (4.3)"
   ]
  },
  {
   "cell_type": "code",
   "execution_count": null,
   "metadata": {},
   "outputs": [],
   "source": [
    "Tt_ = th_1*sp.exp(-lam_1*t) + th_2*sp.exp(-lam_2*t) + th_3*sp.exp(-k3*t) # th(t)\n",
    "R_ = -th_1*lam_1*sp.exp(-lam_1*t) - th_2*lam_2*sp.exp(-lam_2*t) - th_3*k3*sp.exp(-k3*t) # r(t)\n",
    "podstaw.update({rf(t):R_}) \n",
    "display(Tt_,R_)"
   ]
  },
  {
   "cell_type": "markdown",
   "metadata": {},
   "source": [
    "Funkcja alpha(t) - rozdział IV (4.14)"
   ]
  },
  {
   "cell_type": "code",
   "execution_count": null,
   "metadata": {},
   "outputs": [],
   "source": [
    "Alp_ = -(th_1*lam_1*sp.exp(-(lam_1-k3)*t)+th_2*lam_2*sp.exp(-(lam_2-k3)*t)) #funkcja alpha(t)\n",
    "podstaw.update({alpha(t):Alp_})\n",
    "display(Alp_)"
   ]
  },
  {
   "cell_type": "markdown",
   "metadata": {},
   "source": [
    "Implementacja współczynników theta - rozdział IV (4.4)"
   ]
  },
  {
   "cell_type": "code",
   "execution_count": null,
   "metadata": {},
   "outputs": [],
   "source": [
    "th_1_ = ((lam_2*th_0 + r_0)/(lam_2 - lam_1)) + a/((lam_2 - lam_1)*(k3 - lam_1))\n",
    "th_2_ = ((k1*th_0 + r_0)/(lam_1 - lam_2)) + a/((lam_1 - lam_2)*(k3 - lam_2))\n",
    "th_3_ = a/((lam_1 - k3)*(lam_2 - k3))\n",
    "podstaw.update({th_1:th_1_,th_2:th_2_,th_3:th_3_})\n",
    "#wyświetlanie implementowanych wzorów\n",
    "display(th_1_,th_2_,th_3_)  "
   ]
  },
  {
   "cell_type": "markdown",
   "metadata": {},
   "source": [
    "Implementacja współczynników lambda - rozdział IV (4.4)"
   ]
  },
  {
   "cell_type": "code",
   "execution_count": null,
   "metadata": {},
   "outputs": [],
   "source": [
    "lam_1_ = ((delta_d + k1 + k2) + sp.sqrt(delta_d**2 + 2*delta_d*(k1 + k2) + (k1 - k2)**2))/2#\n",
    "lam_2_ = ((delta_d + k1 + k2) - sp.sqrt(delta_d**2 + 2*delta_d*(k1 + k2) + (k1 - k2)**2))/2#\n",
    "delta_d_ = d3 - d3f#\n",
    "podstaw.update({lam_1:lam_1_,lam_2:lam_2_,delta_d:delta_d_})\n",
    "#wyświetlanie implementowanych wzorów\n",
    "display(lam_1_,lam_2_,delta_d_)"
   ]
  },
  {
   "cell_type": "markdown",
   "metadata": {},
   "source": [
    "Implementacja systemu Sigma1e - rozdział IV (4.7)"
   ]
  },
  {
   "cell_type": "code",
   "execution_count": null,
   "metadata": {},
   "outputs": [],
   "source": [
    "A2 = sp.Matrix([[-d1,rf(t),0,0,0],[-rf(t),-d2,0,0,0],[1,0,0,rf(t),0],[0,1,-rf(t),0,0],[0,0,1,0,0]])# macierz stanu\n",
    "b2 = sp.Matrix([[1/m,0,0,0,0]]).T # macierz sterowania\n",
    "ff = sp.Matrix([[fu(tta(t))/m,-fv(tta(t))/m,0,0,0]]).T # wektor zakłóceń - wiatru\n",
    "q2 = sp.Matrix([[u(t),v(t),z1(t),z2(t),z3(t)]]).T # wektor stanu\n",
    "display(A2,b2,ff,q2)\n",
    "#display(dX1_sym)"
   ]
  },
  {
   "cell_type": "markdown",
   "metadata": {},
   "source": [
    "Nowy wektor stanu - rozdział IV (4.10)"
   ]
  },
  {
   "cell_type": "code",
   "execution_count": null,
   "metadata": {},
   "outputs": [],
   "source": [
    "ub = u(t)\n",
    "vb = v(t) * sp.exp(-k3 * t)\n",
    "z1b = z1(t)\n",
    "z2b = z2(t) * sp.exp(-k3 * t)\n",
    "z3b = z3(t)\n",
    "Xb = sp.Matrix([[ub,vb,z1b,z2b,z3b]]).T\n",
    "#wyświetlanie implementowanych wzorów\n",
    "display(Xb)"
   ]
  },
  {
   "cell_type": "markdown",
   "metadata": {},
   "source": [
    "Współczynniki d1, d2, th3 - rozdział IV (4.11)"
   ]
  },
  {
   "cell_type": "code",
   "execution_count": null,
   "metadata": {},
   "outputs": [],
   "source": [
    "d1_ = d10 + Delta_1#\n",
    "d2_ = d20 + Delta_2#\n",
    "th3_ = th30 + Delta_3#\n",
    "podstaw.update({d1:d1_,d2:d2_,th3:th3_})\n",
    "#wyświetlanie implementowanych wzorów\n",
    "display(d1_,d2_,th3_)"
   ]
  },
  {
   "cell_type": "markdown",
   "metadata": {},
   "source": [
    "Rozszerzony system Sigma1e bez zakłócenia f(t) - rozdział IV (4.13) i (4.14)"
   ]
  },
  {
   "cell_type": "code",
   "execution_count": null,
   "metadata": {},
   "outputs": [],
   "source": [
    "#macierze o stałych współczynnikach\n",
    "A10 = sp.Matrix([[-d10,0,0,0,0],[th30*k3,-(d20-k3),0,0,0],[1,0,0,0,0],[0,1,th30*k3,k3,0],[0,0,1,0,0]])#\n",
    "D = sp.Matrix([[1,0,0,0],[0,1,1,0],[0,0,0,0],[0,0,0,1],[0,0,0,0]])#\n",
    "E = sp.Matrix([[-delta_1,0,0,0,0],[0,-delta_2,0,0,0],[k3*delta_3,0,0,0,0],[0,0,k3*delta_3,0,0]])#\n",
    "DELTA = sp.Matrix.diag([Delta_1/delta_1,Delta_2/delta_2,Delta_3/delta_3,Delta_3/delta_3])#\n",
    "#macierz o zmiennych współczynnikach\n",
    "A22 = sp.Matrix([[0,rf(t)*sp.exp(-k3*t),0,0,0],[alpha(t),0,0,0,0],[0,0,0,rf(t)*sp.exp(-k3*t),0],[0,0,alpha(t),0,0],[0,0,0,0,0]])\n",
    "#wyświetlanie implementowanych wzorów\n",
    "display(A22)\n",
    "display(A10,D,E,DELTA)"
   ]
  },
  {
   "cell_type": "markdown",
   "metadata": {},
   "source": [
    "Wzory potrzebne do obliczenia d1, d2, th3 - rozdział IV (4.12)"
   ]
  },
  {
   "cell_type": "code",
   "execution_count": null,
   "metadata": {},
   "outputs": [],
   "source": [
    "delta_3_ = (th3c - th3f)/2 #\n",
    "th30_ = (th3c + th3f)/2 #\n",
    "podstaw.update({delta_3:delta_3_,th30:th30_})\n",
    "display(delta_3_,th30_)"
   ]
  },
  {
   "cell_type": "code",
   "execution_count": null,
   "metadata": {},
   "outputs": [],
   "source": [
    "th3f_ = a/((k3 - k1)*(k3 - k2))#\n",
    "th3c_ = a/(k3**2 - (d3c + k_r)*k3 + k1*k2)#\n",
    "d10_ = (d1c + d1f)/2#\n",
    "d20_ = (d2c + d2f)/2#\n",
    "d30_ = (d3c + d3f)/2#\n",
    "delta_1_ = (d1c - d1f)/2#\n",
    "delta_2_ = (d2c - d2f)/2#\n",
    "podstaw.update({delta_1:delta_1_,delta_2:delta_2_,th3f:th3f_,th3c:th3c_,d10:d10_,d20:d20_,d30:d30_})\n",
    "#wyświetlanie implementowanych wzorów\n",
    "display(th3f_,th3c_,d10_,d20_,d30_,delta_1_,delta_2_)"
   ]
  },
  {
   "cell_type": "markdown",
   "metadata": {},
   "source": [
    "Sygnał sterujący tau_u - rozdział IV (4.21)"
   ]
  },
  {
   "cell_type": "code",
   "execution_count": null,
   "metadata": {},
   "outputs": [],
   "source": [
    "tauu_ = -(k1b*u(t)+k2b*v(t)*sp.exp(-k3*t)+k3b*z1(t)+k4b*z2(t)*sp.exp(-k3*t)+k5b*z3(t))\n",
    "#wyświetlanie implementowanych wzorów\n",
    "display(tauu_)"
   ]
  },
  {
   "cell_type": "markdown",
   "metadata": {},
   "source": [
    "Wektor zakłóceń - rozdział IV (4.26)"
   ]
  },
  {
   "cell_type": "code",
   "execution_count": null,
   "metadata": {},
   "outputs": [],
   "source": [
    "#wektor zakłóceń\n",
    "fb = sp.Matrix([[Cu*Vw**2*F(tta(t))*sp.cos(tta(t))/m,-Cv*Vw**2*sp.exp(-k3*t)*F(tta(t))*sp.sin(tta(t))/m,0,0,0]]).T \n",
    "display(fb)  "
   ]
  },
  {
   "cell_type": "markdown",
   "metadata": {},
   "source": [
    "Definicja funkcji - rozdział II (2.2)"
   ]
  },
  {
   "cell_type": "code",
   "execution_count": null,
   "metadata": {},
   "outputs": [],
   "source": [
    "fu_ = Cu * Vw**2 * F(tta(t)) * sp.cos(tta(t))\n",
    "fv_ = Cv * Vw**2 * F(tta(t)) * sp.sin(tta(t))\n",
    "fr_ = Cr * Vw**2 * F(tta(t)) * sp.cos(2 * tta(t))\n",
    "podstaw.update({fu(tta(t)):fu_,fv(tta(t)):fv_,fr(tta(t)):fr_})\n",
    "display(fu_,fv_,fr_) "
   ]
  },
  {
   "cell_type": "code",
   "execution_count": null,
   "metadata": {},
   "outputs": [],
   "source": [
    "F_ = sp.sqrt(a_ship**2 * sp.sin(tta(t))**2 + b_ship**2 * sp.cos(tta(t))**2)\n",
    "podstaw.update({F(tta(t)):F_})\n",
    "display(F_)"
   ]
  },
  {
   "cell_type": "markdown",
   "metadata": {},
   "source": [
    "Wzory na Delta_i - Delta_i <= delta_i - rozdział (4.11)"
   ]
  },
  {
   "cell_type": "code",
   "execution_count": null,
   "metadata": {},
   "outputs": [],
   "source": [
    "Delta_1_ = delta_1\n",
    "Delta_2_ = delta_2\n",
    "Delta_3_ = delta_3\n",
    "podstaw.update({Delta_1:Delta_1_,Delta_2:Delta_2_,Delta_3:Delta_3_})\n",
    "#display(Delta_1_,Delta_2_,Delta_3_)"
   ]
  },
  {
   "cell_type": "markdown",
   "metadata": {},
   "source": [
    "Wektor wzmocnień sterownika - rozdział IV (4.21)"
   ]
  },
  {
   "cell_type": "code",
   "execution_count": null,
   "metadata": {},
   "outputs": [],
   "source": [
    "Kb = sp.Matrix([[k1b,k2b,k3b,k4b,k5b]])\n",
    "display(Kb)"
   ]
  },
  {
   "cell_type": "markdown",
   "metadata": {},
   "source": [
    "System 1e - rozdział IV wzór (4.25)"
   ]
  },
  {
   "cell_type": "code",
   "execution_count": null,
   "metadata": {},
   "outputs": [],
   "source": [
    "sys_ = (A10 - b2@Kb + D@DELTA@E) @ Xb + fb"
   ]
  },
  {
   "cell_type": "markdown",
   "metadata": {},
   "source": [
    "## ----------------------------------------------------------------------------------------------------------------------------------"
   ]
  },
  {
   "cell_type": "markdown",
   "metadata": {},
   "source": [
    "# Podstawienie wartości do zmiennych symbolicznych"
   ]
  },
  {
   "cell_type": "code",
   "execution_count": null,
   "metadata": {},
   "outputs": [],
   "source": [
    "params = {a_ship:1.2,b_ship:0.5} #Podstawienie wymiarów sterowca\n",
    "params.update({Cu:0.02,Cv:0.02,Cr:0.02,Vw:0.1}) #Podstawienie wartości współczynników aerodynamicznych i prędkości wiatru\n",
    "params.update({m:0.072, m3:0.018})#Podstawienie wartości masy strowca m=m1=m2, masa sterowca m3\n",
    "params.update({d1f:0.008, d2f:0.029, d3f:0.035})#Podstawienie dolnych wartości współczynników tłumienia\n",
    "params.update({d1c:0.01, d2c:0.057, d3c:0.05})#Podstawienie górnych wartości współczynników tłumienia\n",
    "params.update({k1:0.52, k2:0.5, k3:0.35, a:0.15})#Podstawienie wartości wzmocnień kontrolera tau_r\n",
    "params.update({k1b:1.6, k2b:0.13, k3b:1.0, k4b:0.16, k5b:0.0032})#Podstawienie wartości\n",
    "params.update({th_0:1,r_0:0})#Wartości początkowe kąta, prędkości kątowej\n",
    "params.update({d3:0.05})"
   ]
  },
  {
   "cell_type": "markdown",
   "metadata": {},
   "source": [
    "# Definicja funkcji numerycznych"
   ]
  },
  {
   "cell_type": "code",
   "execution_count": null,
   "metadata": {},
   "outputs": [],
   "source": [
    "# ZMIANA 1 (definicja dekoratora log_results)\n",
    "import functools\n",
    "\n",
    "def log_results(func):\n",
    "    @functools.wraps(func)\n",
    "    def w_dec(*args, **kwargs):\n",
    "        res = func(*args, **kwargs)\n",
    "        t_old = -1 if len(w_dec.t) == 0 else w_dec.t[-1]\n",
    "        t_new = args[0]\n",
    "        if t_new > t_old:\n",
    "            w_dec.log.append(res)\n",
    "            w_dec.t.append(args[0])\n",
    "        else:\n",
    "            f = filter(lambda x: x >= t_new, w_dec.t)\n",
    "            idx = w_dec.t.index(next(f))\n",
    "            w_dec.log = w_dec.log[0:idx]+[res]\n",
    "            w_dec.t = w_dec.t[0:idx]+[t_new]\n",
    "        return res\n",
    "    w_dec.log = []\n",
    "    w_dec.t = []\n",
    "    return w_dec"
   ]
  },
  {
   "cell_type": "code",
   "execution_count": null,
   "metadata": {},
   "outputs": [],
   "source": [
    "# ZMIANA 2 - \"udekorowanie\" numerycznych wersji tauu i taur \n",
    "# ze zmianą kolejności argumentów: t jako pierwszy\n",
    "# kolejność argumentów (t jako pierwszy) jest podyktowany postacią funkcji log_results\n",
    "tauu_num = log_results(sp.lambdify((t,u(t),v(t),z1(t),z2(t),z3(t)),tauu_.subs(params)))\n",
    "taur_num = log_results(sp.lambdify((t,r(t),tta(t)),(((taur_.subs(podstaw)).subs(podstaw)).subs(podstaw)).subs(params)))\n",
    "\n",
    "kin_num = sp.lambdify((u(t),v(t),r(t),tta(t)),kin_)\n",
    "dyn_num = sp.lambdify((u(t),v(t),r(t),tta(t),tauu,taur),dyn_.subs(podstaw).subs(podstaw).subs(params))\n",
    "z1_num = sp.lambdify((x(t),y(t),tta(t)),z1_.subs(params))\n",
    "z2_num = sp.lambdify((x(t),y(t),tta(t)),z2_.subs(params))\n",
    "sys1e_num = sp.lambdify((u(t),v(t),z1(t),z2(t),z3(t),tta(t),t),sys_.subs(podstaw).subs(podstaw).subs(params))\n",
    "sys1_num = sp.lambdify((u(t),v(t),z1(t),z2(t),r(t),tta(t),tauu),s_.subs(podstaw).subs(podstaw).subs(params))"
   ]
  },
  {
   "cell_type": "code",
   "execution_count": null,
   "metadata": {},
   "outputs": [],
   "source": [
    "def wymuszenie(t_):\n",
    "    if(t_<50):\n",
    "        sila = 0.0025\n",
    "    else:\n",
    "        sila = 0\n",
    "    return sila\n",
    "def skret(t_):\n",
    "    if(t_<150):\n",
    "        sila = 0.1\n",
    "    else:\n",
    "        sila = 0\n",
    "    return sila"
   ]
  },
  {
   "cell_type": "markdown",
   "metadata": {},
   "source": [
    "## Definicja funkcji symulacji"
   ]
  },
  {
   "cell_type": "code",
   "execution_count": null,
   "metadata": {},
   "outputs": [],
   "source": [
    "def Blimp(t_, x0_array):\n",
    "    x0 = MAT([x0_array]).T\n",
    "    xi = MAT(x0[0][0])\n",
    "    yi = MAT(x0[1][0])\n",
    "    ttai = MAT(x0[2][0])\n",
    "    ui = MAT(x0[3][0])\n",
    "    vi = MAT(x0[4][0])\n",
    "    ri = MAT(x0[5][0])#\n",
    "    \n",
    "    z1i = z1_num(xi,yi,ttai)\n",
    "    z2i = z2_num(xi,yi,ttai)  \n",
    "    z3i = 0\n",
    "    \n",
    "    # ZMIANA 3 - zmiana kolejności argumentów\n",
    "    uu = tauu_num(t_,ui,vi,z1i,z2i,z3i)\n",
    "    ur = taur_num(t_,ri,ttai)#\n",
    "            \n",
    "    d1 = kin_num(ui,vi,ri,ttai)#\n",
    "    d2 = dyn_num(ui,vi,ri,ttai,uu,ur)#\n",
    "    # Zbieranie wyników\n",
    "    dxi = np.concatenate((d1,d2))\n",
    "    return np.ndarray.tolist(dxi.T[0])"
   ]
  },
  {
   "cell_type": "markdown",
   "metadata": {},
   "source": [
    "# Przygotowanie symulacji"
   ]
  },
  {
   "cell_type": "code",
   "execution_count": null,
   "metadata": {},
   "outputs": [],
   "source": [
    "xi0_array = [0,0.8,65*np.pi/180,0,0,0]#wartości początkowe zmiennych\n",
    "time_sym = 100 # Czas trwania symulacji\n",
    "sim = solve_ivp(Blimp, [0, time_sym], xi0_array, method='RK45')\n",
    "t = sim.t\n",
    "xp, yp, ttap, u, v, r = sim.y # return xi   "
   ]
  },
  {
   "cell_type": "code",
   "execution_count": null,
   "metadata": {},
   "outputs": [],
   "source": [
    "# ZMIANA - 4 \n",
    "# wyciągnięcie pomiarów, dla momentów czasu w wektorze t\n",
    "tauu = [tauu_num.log[tauu_num.t.index(time)] for time in t]\n",
    "taur = [taur_num.log[taur_num.t.index(time)] for time in t]\n",
    "plt.figure()\n",
    "plt.plot(t,tauu, label='$\\\\tau_u$')\n",
    "plt.plot(t,taur, label='$\\\\tau_r$')\n",
    "plt.xlabel('time [s]')\n",
    "plt.grid(True)\n",
    "plt.legend(loc='best')"
   ]
  },
  {
   "cell_type": "code",
   "execution_count": null,
   "metadata": {},
   "outputs": [],
   "source": [
    "#wykres prędkości w lokalnym układzie sterowca >\n",
    "plt.figure()\n",
    "plt.plot(t, v, 'b', label='v')\n",
    "plt.plot(t, u, 'r', label='u')\n",
    "plt.legend(loc='best')\n",
    "plt.xlabel('time [s]')\n",
    "plt.ylabel('vel [m/s]')\n",
    "plt.grid(True)\n",
    "plt.show()\n",
    "#wykres wykres prędkości kątowej r i kąta theta >\n",
    "plt.figure()\n",
    "plt.plot(t, r, 'r', label='r')\n",
    "plt.plot(t, ttap, 'b', label='$\\\\theta$')\n",
    "plt.legend(loc='best')\n",
    "plt.xlabel('time [s]')\n",
    "plt.ylabel('rad')\n",
    "plt.grid(True)\n",
    "plt.show()\n",
    "\n",
    "#wykres wykres x i y w funkcji czasu >\n",
    "plt.figure()\n",
    "plt.plot(t, xp, 'r', label='x')\n",
    "plt.plot(t, yp, 'b', label='y')\n",
    "plt.legend(loc='best')\n",
    "plt.xlabel('time [s]')\n",
    "plt.ylabel('position [m]')\n",
    "plt.grid(True)\n",
    "plt.show()\n",
    "\n",
    "#wykres położenia na płaszczyźnie XY >\n",
    "plt.figure()\n",
    "plt.plot(xp,yp, 'r', label='traj lotu')\n",
    "plt.legend(loc='best')\n",
    "plt.xlabel('X [m]')\n",
    "plt.ylabel('Y [m]')\n",
    "plt.grid(True)\n",
    "plt.show()"
   ]
  }
 ],
 "metadata": {
  "kernelspec": {
   "display_name": "Python 3",
   "language": "python",
   "name": "python3"
  },
  "language_info": {
   "codemirror_mode": {
    "name": "ipython",
    "version": 3
   },
   "file_extension": ".py",
   "mimetype": "text/x-python",
   "name": "python",
   "nbconvert_exporter": "python",
   "pygments_lexer": "ipython3",
   "version": "3.6.9"
  }
 },
 "nbformat": 4,
 "nbformat_minor": 4
}
