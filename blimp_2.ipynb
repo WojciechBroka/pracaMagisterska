{
 "cells": [
  {
   "cell_type": "markdown",
   "metadata": {},
   "source": [
    "## Implementacja \"Robust global stabilization and disturbance rejection of an underactuated nonholonomic airship\""
   ]
  },
  {
   "cell_type": "markdown",
   "metadata": {},
   "source": [
    "Link do implementowanego artykułu: https://ieeexplore.ieee.org/document/4389345"
   ]
  },
  {
   "cell_type": "markdown",
   "metadata": {},
   "source": [
    "# Import"
   ]
  },
  {
   "cell_type": "code",
   "execution_count": 3,
   "metadata": {},
   "outputs": [],
   "source": [
    "import sympy as sp\n",
    "import numpy as np\n",
    "import scipy as sc\n",
    "import matplotlib.pyplot as plt # ploting results\n",
    "from scipy.integrate import solve_ivp # solving differential equations\n",
    "MAT = np.array"
   ]
  },
  {
   "cell_type": "markdown",
   "metadata": {},
   "source": [
    "# Definicja zmiennych"
   ]
  },
  {
   "cell_type": "code",
   "execution_count": 4,
   "metadata": {},
   "outputs": [],
   "source": [
    "t = sp.symbols('t') # czas\n",
    "th = sp.symbols('\\\\theta') # kąt obrotu sterowca w układzie globalnym\n",
    "u = sp.symbols('u') # prędkość wzdłużna sterowca w układzie lokalnym\n",
    "v = sp.symbols('v') # prędkość poprzeczna sterowca w układzie lokalnym\n",
    "r = sp.symbols('r') # prędkość obrotowa sterowca w układzie globalnym\n",
    "x, y = sp.symbols('x y') # położenie sterowca w układzie globalnym\n",
    "z1, z2, z3 = sp.symbols('z_{1} z_{2} z_{3}') # ?\n",
    "tauu, taur = sp.symbols('\\\\tau_{u} \\\\tau_{r}') # sygnały sterujące kolejno: siła ciągu, siła skręcająca \n",
    "ub, vb, z1b, z2b, z3b = sp.symbols('\\\\bar{u} \\\\bar{v} \\\\bar{z}_{1} \\\\bar{z}_{2} \\\\bar{z}_{3}')#nowe zmienne stanu po transforma"
   ]
  },
  {
   "cell_type": "markdown",
   "metadata": {},
   "source": [
    "# Współczynniki"
   ]
  },
  {
   "cell_type": "code",
   "execution_count": 5,
   "metadata": {},
   "outputs": [],
   "source": [
    "Cu, Cv, Cr = sp.symbols('C_{u} C_{v} C_{r}') #współczynniki aerodynamiczne względem osi u v r\n",
    "Vw = sp.symbols('V_{w}') #prędkość wiatru (w artykule jest zawsze stała)\n",
    "a_ship, b_ship = sp.symbols('a_{ship} b_{ship}') #długość sterowca, szerokość sterowca\n",
    "m, m3 = sp.symbols('m m_{3}') # masa strowca m=m1=m2, masa sterowca m3\n",
    "d1_sym, d2_sym, d3_sym = sp.symbols('d_{1} d_{2} d_{3}') # współczynniki tłumienia kolejno w osi u v r\n",
    "d1f, d2f, d3f, th3f_sym = sp.symbols('\\\\underline{d}_{1} \\\\underline{d}_{2} \\\\underline{d}_{3} \\\\underline{\\\\theta}_{3}') # dolne wartości wsp tłumienia d1, d2, d3\n",
    "d1c, d2c, d3c, th3c_sym = sp.symbols('\\\\bar{d}_{1} \\\\bar{d}_{2} \\\\bar{d}_{3} \\\\bar{\\\\theta}_{3}') # górne wartości współczynników tłumienia d1, d2, d3\n",
    "d10_sym, d20_sym, d30_sym, th30_sym = sp.symbols('d_{10} d_{20} d_{30} \\\\theta_{30}') # niepewności\n",
    "Delta_1_sym, Delta_2_sym, Delta_3_sym, delta_1_sym, delta_2_sym, delta_3_sym = sp.symbols('\\\\Delta_{1} \\\\Delta_{2} \\\\Delta_{3} \\\\delta_{1} \\\\delta_{2} \\\\delta_{3}')# niepewności\n",
    "k1, k2, k3, a = sp.symbols('k_{1} k_{2} k_{3} a') # współczynniki wzmocnień syg ster tau_r\n",
    "k_th_sym, k_r_sym  = sp.symbols('k_{\\\\theta} k_{r}') # jak wyżej\n",
    "k1b, k2b, k3b, k4b, k5b = sp.symbols('\\\\bar{k}_{1} \\\\bar{k}_{2} \\\\bar{k}_{3} \\\\bar{k}_{4} \\\\bar{k}_{5}')#wsp wzm sterownika tau_u\n",
    "th_1_sym, th_2_sym, th_3_sym = sp.symbols('\\\\theta_1 \\\\theta_2 \\\\theta_3') # współczynniki th z obliczone na podst wzoru 4.4\n",
    "lam_1_sym, lam_2_sym = sp.symbols('\\lambda_1 \\lambda_2') # współczynniki lam z obliczone na podst wzoru 4.4\n",
    "delta_d_sym = sp.symbols('\\\\Delta_{d}') # współczynnik deltad ze wzoru 4.3\n",
    "th_0, r_0 = sp.symbols('th(0) r(0)')# wartości początkowe\n",
    "fus, fvs, frs = sp.symbols('f_{u} f_{v} f_{r}') # funkcje symboliczne"
   ]
  },
  {
   "cell_type": "markdown",
   "metadata": {},
   "source": [
    "Definicja funkcji - rozdział II (2.2)"
   ]
  },
  {
   "cell_type": "code",
   "execution_count": 6,
   "metadata": {},
   "outputs": [
    {
     "data": {
      "text/latex": [
       "$\\displaystyle \\sqrt{a_{ship}^{2} \\sin^{2}{\\left(\\theta \\right)} + b_{ship}^{2} \\cos^{2}{\\left(\\theta \\right)}}$"
      ],
      "text/plain": [
       "sqrt(a_{ship}**2*sin(\\theta)**2 + b_{ship}**2*cos(\\theta)**2)"
      ]
     },
     "metadata": {},
     "output_type": "display_data"
    }
   ],
   "source": [
    "F_sym = sp.sqrt(a_ship**2 * sp.sin(th)**2 + b_ship**2 * sp.cos(th)**2)\n",
    "F = sp.symbols('F(\\\\theta)')\n",
    "display(F_sym)"
   ]
  },
  {
   "cell_type": "markdown",
   "metadata": {},
   "source": [
    "Definicja funkcji - rozdział II (2.2)"
   ]
  },
  {
   "cell_type": "code",
   "execution_count": 7,
   "metadata": {},
   "outputs": [
    {
     "data": {
      "text/latex": [
       "$\\displaystyle C_{u} F(\\theta) V_{w}^{2} \\cos{\\left(\\theta \\right)}$"
      ],
      "text/plain": [
       "C_{u}*F(\\theta)*V_{w}**2*cos(\\theta)"
      ]
     },
     "metadata": {},
     "output_type": "display_data"
    },
    {
     "data": {
      "text/latex": [
       "$\\displaystyle C_{v} F(\\theta) V_{w}^{2} \\sin{\\left(\\theta \\right)}$"
      ],
      "text/plain": [
       "C_{v}*F(\\theta)*V_{w}**2*sin(\\theta)"
      ]
     },
     "metadata": {},
     "output_type": "display_data"
    },
    {
     "data": {
      "text/latex": [
       "$\\displaystyle C_{r} F(\\theta) V_{w}^{2} \\cos{\\left(2 \\theta \\right)}$"
      ],
      "text/plain": [
       "C_{r}*F(\\theta)*V_{w}**2*cos(2*\\theta)"
      ]
     },
     "metadata": {},
     "output_type": "display_data"
    }
   ],
   "source": [
    "fu_sym = Cu * Vw**2 * F * sp.cos(th)\n",
    "fv_sym = Cv * Vw**2 * F * sp.sin(th)\n",
    "fr_sym = Cr * Vw**2 * F * sp.cos(2 * th)\n",
    "display(fu_sym,fv_sym,fr_sym)\n",
    "fu_sym = Cu * Vw**2 * F_sym * sp.cos(th)\n",
    "fv_sym = Cv * Vw**2 * F_sym * sp.sin(th)\n",
    "fr_sym = Cr * Vw**2 * F_sym * sp.cos(2 * th)\n",
    "#display(fu_sym,fv_sym,fr_sym) #po podstawieniu F(th)"
   ]
  },
  {
   "cell_type": "markdown",
   "metadata": {},
   "source": [
    "Opis modelu kinematycznego, geometrycznego powiązania pomiędzy układem globalnym a układem lokalnym - rozdział II (2.4)"
   ]
  },
  {
   "cell_type": "code",
   "execution_count": 8,
   "metadata": {},
   "outputs": [
    {
     "data": {
      "text/latex": [
       "$\\displaystyle u \\cos{\\left(\\theta \\right)} - v \\sin{\\left(\\theta \\right)}$"
      ],
      "text/plain": [
       "u*cos(\\theta) - v*sin(\\theta)"
      ]
     },
     "metadata": {},
     "output_type": "display_data"
    },
    {
     "data": {
      "text/latex": [
       "$\\displaystyle u \\sin{\\left(\\theta \\right)} + v \\cos{\\left(\\theta \\right)}$"
      ],
      "text/plain": [
       "u*sin(\\theta) + v*cos(\\theta)"
      ]
     },
     "metadata": {},
     "output_type": "display_data"
    },
    {
     "data": {
      "text/latex": [
       "$\\displaystyle r$"
      ],
      "text/plain": [
       "r"
      ]
     },
     "metadata": {},
     "output_type": "display_data"
    }
   ],
   "source": [
    "dx_sym = u * sp.cos(th) - v * sp.sin(th)\n",
    "dy_sym = u * sp.sin(th) + v * sp.cos(th)\n",
    "dth_sym = r\n",
    "display(dx_sym,dy_sym,dth_sym)"
   ]
  },
  {
   "cell_type": "markdown",
   "metadata": {},
   "source": [
    "Ciąg dalszy opisu kinematyki, z1 z2 - rozdział II (2.5)"
   ]
  },
  {
   "cell_type": "code",
   "execution_count": 9,
   "metadata": {},
   "outputs": [
    {
     "data": {
      "text/latex": [
       "$\\displaystyle x \\cos{\\left(\\theta \\right)} + y \\sin{\\left(\\theta \\right)}$"
      ],
      "text/plain": [
       "x*cos(\\theta) + y*sin(\\theta)"
      ]
     },
     "metadata": {},
     "output_type": "display_data"
    },
    {
     "data": {
      "text/latex": [
       "$\\displaystyle - x \\sin{\\left(\\theta \\right)} + y \\cos{\\left(\\theta \\right)}$"
      ],
      "text/plain": [
       "-x*sin(\\theta) + y*cos(\\theta)"
      ]
     },
     "metadata": {},
     "output_type": "display_data"
    }
   ],
   "source": [
    "z1_sym = x * sp.cos(th) + y * sp.sin(th)\n",
    "z2_sym = -x * sp.sin(th) + y * sp.cos(th)\n",
    "#wyświetlanie implementowanych wzorów\n",
    "display(z1_sym,z2_sym)"
   ]
  },
  {
   "cell_type": "markdown",
   "metadata": {},
   "source": [
    "Równanie stanu uzyskane przez połączenie kinematyki i dynamiki sterowca - rozdział II (2.6)"
   ]
  },
  {
   "cell_type": "code",
   "execution_count": 10,
   "metadata": {},
   "outputs": [
    {
     "data": {
      "text/latex": [
       "$\\displaystyle \\left[\\begin{matrix}- d_{1} & r & 0 & 0\\\\- r & - d_{2} & 0 & 0\\\\1 & 0 & 0 & r\\\\0 & 1 & - r & 0\\end{matrix}\\right]$"
      ],
      "text/plain": [
       "Matrix([\n",
       "[-d_{1},      r,  0, 0],\n",
       "[    -r, -d_{2},  0, 0],\n",
       "[     1,      0,  0, r],\n",
       "[     0,      1, -r, 0]])"
      ]
     },
     "metadata": {},
     "output_type": "display_data"
    },
    {
     "data": {
      "text/latex": [
       "$\\displaystyle \\left[\\begin{matrix}u\\\\v\\\\z_{1}\\\\z_{2}\\end{matrix}\\right]$"
      ],
      "text/plain": [
       "Matrix([\n",
       "[    u],\n",
       "[    v],\n",
       "[z_{1}],\n",
       "[z_{2}]])"
      ]
     },
     "metadata": {},
     "output_type": "display_data"
    },
    {
     "data": {
      "text/latex": [
       "$\\displaystyle \\left[\\begin{matrix}\\frac{1}{m}\\\\0\\\\0\\\\0\\end{matrix}\\right]$"
      ],
      "text/plain": [
       "Matrix([\n",
       "[1/m],\n",
       "[  0],\n",
       "[  0],\n",
       "[  0]])"
      ]
     },
     "metadata": {},
     "output_type": "display_data"
    },
    {
     "data": {
      "text/latex": [
       "$\\displaystyle \\left[\\begin{matrix}\\frac{f_{u}}{m}\\\\\\frac{f_{v}}{m}\\\\0\\\\0\\end{matrix}\\right]$"
      ],
      "text/plain": [
       "Matrix([\n",
       "[f_{u}/m],\n",
       "[f_{v}/m],\n",
       "[      0],\n",
       "[      0]])"
      ]
     },
     "metadata": {},
     "output_type": "display_data"
    }
   ],
   "source": [
    "# układ Sigma1:\n",
    "# macierz stanu\n",
    "A1_sym = sp.Matrix([[-d1_sym,r,0,0],[-r,-d2_sym,0,0],[1,0,0,r],[0,1,-r,0]]) \n",
    "#---------\n",
    "q_sym = sp.Matrix([[u,v,z1,z2]]).T # wektor stanu\n",
    "b1_sym = sp.Matrix([[1/m,0,0,0]]).T # macierz sterowania\n",
    "# wektor sił zakłóceń - wiatru\n",
    "f1_sym = sp.Matrix([[fus/m,fvs/m,0,0]]).T \n",
    "#system dynamiczny\n",
    "#dQ1 = A1_sym @ q_sym + b1_sym * tauu + f1_sym #wpisać w funkcji symulacji\n",
    "#wyświetlanie implementowanych wzorów\n",
    "display(A1_sym,q_sym,b1_sym,f1_sym)"
   ]
  },
  {
   "cell_type": "code",
   "execution_count": 11,
   "metadata": {},
   "outputs": [
    {
     "data": {
      "text/latex": [
       "$\\displaystyle - d_{3} r + \\frac{\\tau_{r} + f_{r}}{m_{3}}$"
      ],
      "text/plain": [
       "-d_{3}*r + (\\tau_{r} + f_{r})/m_{3}"
      ]
     },
     "metadata": {},
     "output_type": "display_data"
    },
    {
     "data": {
      "text/latex": [
       "$\\displaystyle r$"
      ],
      "text/plain": [
       "r"
      ]
     },
     "metadata": {},
     "output_type": "display_data"
    }
   ],
   "source": [
    "# układ Sigma2:                                    #ten układ umieścić w funkcji symulacji\n",
    "dr_sym = -d3_sym * r + (1/m3) * (taur + frs) \n",
    "dth_sym = r\n",
    "display(dr_sym,dth_sym)"
   ]
  },
  {
   "cell_type": "markdown",
   "metadata": {},
   "source": [
    "Sygnał sterujący dla podsystemu Sigma2 - rozdział IV (4.1)"
   ]
  },
  {
   "cell_type": "code",
   "execution_count": 12,
   "metadata": {},
   "outputs": [
    {
     "data": {
      "text/latex": [
       "$\\displaystyle m_{3} \\left(- \\theta k_{\\theta} + a e^{- k_{3} t} - f_{r} - k_{r} r\\right)$"
      ],
      "text/plain": [
       "m_{3}*(-\\theta*k_{\\theta} + a*exp(-k_{3}*t) - f_{r} - k_{r}*r)"
      ]
     },
     "metadata": {},
     "output_type": "display_data"
    }
   ],
   "source": [
    "taur_sym = m3 * (-k_r_sym * r - k_th_sym * th + a * sp.exp(-k3 * t) - frs) \n",
    "display(taur_sym)"
   ]
  },
  {
   "cell_type": "markdown",
   "metadata": {},
   "source": [
    "Odpowiedź kąta i prędkości kątowej jest dana - rozdział IV (4.3)"
   ]
  },
  {
   "cell_type": "code",
   "execution_count": 13,
   "metadata": {},
   "outputs": [
    {
     "data": {
      "text/latex": [
       "$\\displaystyle \\theta_1 e^{- \\lambda_1 t} + \\theta_2 e^{- \\lambda_2 t} + \\theta_3 e^{- k_{3} t}$"
      ],
      "text/plain": [
       "\\theta_1*exp(-\\lambda_1*t) + \\theta_2*exp(-\\lambda_2*t) + \\theta_3*exp(-k_{3}*t)"
      ]
     },
     "metadata": {},
     "output_type": "display_data"
    },
    {
     "data": {
      "text/latex": [
       "$\\displaystyle - \\lambda_1 \\theta_1 e^{- \\lambda_1 t} - \\lambda_2 \\theta_2 e^{- \\lambda_2 t} - \\theta_3 k_{3} e^{- k_{3} t}$"
      ],
      "text/plain": [
       "-\\lambda_1*\\theta_1*exp(-\\lambda_1*t) - \\lambda_2*\\theta_2*exp(-\\lambda_2*t) - \\theta_3*k_{3}*exp(-k_{3}*t)"
      ]
     },
     "metadata": {},
     "output_type": "display_data"
    }
   ],
   "source": [
    "theta_sym = th_1_sym*sp.exp(-lam_1_sym*t) + th_2_sym*sp.exp(-lam_2_sym*t) + th_3_sym*sp.exp(-k3*t) # th(t)\n",
    "r_sym = -th_1_sym*lam_1_sym*sp.exp(-lam_1_sym*t) - th_2_sym*lam_2_sym*sp.exp(-lam_2_sym*t) - th_3_sym*k3*sp.exp(-k3*t) # r(t)\n",
    "tta, rf = sp.symbols('\\\\theta(t) r(t)') # to będą później funkcje te powyżej\n",
    "display(theta_sym,r_sym)"
   ]
  },
  {
   "cell_type": "markdown",
   "metadata": {},
   "source": [
    "Funkcja alpha(t) - rozdział IV (4.14)"
   ]
  },
  {
   "cell_type": "code",
   "execution_count": 14,
   "metadata": {},
   "outputs": [
    {
     "data": {
      "text/latex": [
       "$\\displaystyle - \\lambda_1 \\theta_1 e^{t \\left(- \\lambda_1 + k_{3}\\right)} - \\lambda_2 \\theta_2 e^{t \\left(- \\lambda_2 + k_{3}\\right)}$"
      ],
      "text/plain": [
       "-\\lambda_1*\\theta_1*exp(t*(-\\lambda_1 + k_{3})) - \\lambda_2*\\theta_2*exp(t*(-\\lambda_2 + k_{3}))"
      ]
     },
     "metadata": {},
     "output_type": "display_data"
    }
   ],
   "source": [
    "Alp_sym = -(th_1_sym*lam_1_sym*sp.exp(-(lam_1_sym-k3)*t)+th_2_sym*lam_2_sym*sp.exp(-(lam_2_sym-k3)*t)) #funkcja alpha(t)\n",
    "display(Alp_sym)"
   ]
  },
  {
   "cell_type": "markdown",
   "metadata": {},
   "source": [
    "Implementacja współczynników theta - rozdział IV (4.4)"
   ]
  },
  {
   "cell_type": "code",
   "execution_count": 15,
   "metadata": {},
   "outputs": [
    {
     "data": {
      "text/latex": [
       "$\\displaystyle \\frac{a}{\\left(- \\lambda_1 + \\lambda_2\\right) \\left(- \\lambda_1 + k_{3}\\right)} + \\frac{\\lambda_2 th(0) + r(0)}{- \\lambda_1 + \\lambda_2}$"
      ],
      "text/plain": [
       "a/((-\\lambda_1 + \\lambda_2)*(-\\lambda_1 + k_{3})) + (\\lambda_2*th(0) + r(0))/(-\\lambda_1 + \\lambda_2)"
      ]
     },
     "metadata": {},
     "output_type": "display_data"
    },
    {
     "data": {
      "text/latex": [
       "$\\displaystyle \\frac{a}{\\left(\\lambda_1 - \\lambda_2\\right) \\left(- \\lambda_2 + k_{3}\\right)} + \\frac{k_{1} th(0) + r(0)}{\\lambda_1 - \\lambda_2}$"
      ],
      "text/plain": [
       "a/((\\lambda_1 - \\lambda_2)*(-\\lambda_2 + k_{3})) + (k_{1}*th(0) + r(0))/(\\lambda_1 - \\lambda_2)"
      ]
     },
     "metadata": {},
     "output_type": "display_data"
    },
    {
     "data": {
      "text/latex": [
       "$\\displaystyle \\frac{a}{\\left(\\lambda_1 - k_{3}\\right) \\left(\\lambda_2 - k_{3}\\right)}$"
      ],
      "text/plain": [
       "a/((\\lambda_1 - k_{3})*(\\lambda_2 - k_{3}))"
      ]
     },
     "metadata": {},
     "output_type": "display_data"
    }
   ],
   "source": [
    "th_1_sym2 = ((lam_2_sym*th_0 + r_0)/(lam_2_sym - lam_1_sym)) + a/((lam_2_sym - lam_1_sym)*(k3 - lam_1_sym))\n",
    "th_2_sym2 = ((k1*th_0 + r_0)/(lam_1_sym - lam_2_sym)) + a/((lam_1_sym - lam_2_sym)*(k3 - lam_2_sym))\n",
    "th_3_sym2 = a/((lam_1_sym - k3)*(lam_2_sym - k3))\n",
    "#wyświetlanie implementowanych wzorów\n",
    "display(th_1_sym2,th_2_sym2,th_3_sym2)  "
   ]
  },
  {
   "cell_type": "markdown",
   "metadata": {},
   "source": [
    "Implementacja współczynników lambda - rozdział IV (4.4)"
   ]
  },
  {
   "cell_type": "code",
   "execution_count": 16,
   "metadata": {},
   "outputs": [
    {
     "data": {
      "text/latex": [
       "$\\displaystyle \\frac{\\Delta_{d}}{2} + \\frac{k_{1}}{2} + \\frac{k_{2}}{2} + \\frac{\\sqrt{\\Delta_{d}^{2} + 2 \\Delta_{d} \\left(k_{1} + k_{2}\\right) + \\left(k_{1} - k_{2}\\right)^{2}}}{2}$"
      ],
      "text/plain": [
       "\\Delta_{d}/2 + k_{1}/2 + k_{2}/2 + sqrt(\\Delta_{d}**2 + 2*\\Delta_{d}*(k_{1} + k_{2}) + (k_{1} - k_{2})**2)/2"
      ]
     },
     "metadata": {},
     "output_type": "display_data"
    },
    {
     "data": {
      "text/latex": [
       "$\\displaystyle \\frac{\\Delta_{d}}{2} + \\frac{k_{1}}{2} + \\frac{k_{2}}{2} - \\frac{\\sqrt{\\Delta_{d}^{2} + 2 \\Delta_{d} \\left(k_{1} + k_{2}\\right) + \\left(k_{1} - k_{2}\\right)^{2}}}{2}$"
      ],
      "text/plain": [
       "\\Delta_{d}/2 + k_{1}/2 + k_{2}/2 - sqrt(\\Delta_{d}**2 + 2*\\Delta_{d}*(k_{1} + k_{2}) + (k_{1} - k_{2})**2)/2"
      ]
     },
     "metadata": {},
     "output_type": "display_data"
    },
    {
     "data": {
      "text/latex": [
       "$\\displaystyle - \\underline{d}_{3} + d_{3}$"
      ],
      "text/plain": [
       "-\\underline{d}_{3} + d_{3}"
      ]
     },
     "metadata": {},
     "output_type": "display_data"
    }
   ],
   "source": [
    "lam_1_sym2 = ((delta_d_sym + k1 + k2) + sp.sqrt(delta_d_sym**2 + 2*delta_d_sym*(k1 + k2) + (k1 - k2)**2))/2#\n",
    "lam_2_sym2 = ((delta_d_sym + k1 + k2) - sp.sqrt(delta_d_sym**2 + 2*delta_d_sym*(k1 + k2) + (k1 - k2)**2))/2#\n",
    "delta_d_sym2 = d3_sym - d3f#\n",
    "#wyświetlanie implementowanych wzorów\n",
    "display(lam_1_sym2,lam_2_sym2,delta_d_sym2)"
   ]
  },
  {
   "cell_type": "markdown",
   "metadata": {},
   "source": [
    "Implementacja systemu Sigma1e - rozdział IV (4.7)"
   ]
  },
  {
   "cell_type": "code",
   "execution_count": 17,
   "metadata": {},
   "outputs": [
    {
     "data": {
      "text/latex": [
       "$\\displaystyle \\left[\\begin{matrix}- d_{1} & r(t) & 0 & 0 & 0\\\\- r(t) & - d_{2} & 0 & 0 & 0\\\\1 & 0 & 0 & r(t) & 0\\\\0 & 1 & - r(t) & 0 & 0\\\\0 & 0 & 1 & 0 & 0\\end{matrix}\\right]$"
      ],
      "text/plain": [
       "Matrix([\n",
       "[-d_{1},   r(t),     0,    0, 0],\n",
       "[ -r(t), -d_{2},     0,    0, 0],\n",
       "[     1,      0,     0, r(t), 0],\n",
       "[     0,      1, -r(t),    0, 0],\n",
       "[     0,      0,     1,    0, 0]])"
      ]
     },
     "metadata": {},
     "output_type": "display_data"
    },
    {
     "data": {
      "text/latex": [
       "$\\displaystyle \\left[\\begin{matrix}\\frac{1}{m}\\\\0\\\\0\\\\0\\\\0\\end{matrix}\\right]$"
      ],
      "text/plain": [
       "Matrix([\n",
       "[1/m],\n",
       "[  0],\n",
       "[  0],\n",
       "[  0],\n",
       "[  0]])"
      ]
     },
     "metadata": {},
     "output_type": "display_data"
    },
    {
     "data": {
      "text/latex": [
       "$\\displaystyle \\left[\\begin{matrix}\\frac{f_{u}}{m}\\\\- \\frac{f_{v}}{m}\\\\0\\\\0\\\\0\\end{matrix}\\right]$"
      ],
      "text/plain": [
       "Matrix([\n",
       "[ f_{u}/m],\n",
       "[-f_{v}/m],\n",
       "[       0],\n",
       "[       0],\n",
       "[       0]])"
      ]
     },
     "metadata": {},
     "output_type": "display_data"
    },
    {
     "data": {
      "text/latex": [
       "$\\displaystyle \\left[\\begin{matrix}u\\\\v\\\\z_{1}\\\\z_{2}\\\\z_{3}\\end{matrix}\\right]$"
      ],
      "text/plain": [
       "Matrix([\n",
       "[    u],\n",
       "[    v],\n",
       "[z_{1}],\n",
       "[z_{2}],\n",
       "[z_{3}]])"
      ]
     },
     "metadata": {},
     "output_type": "display_data"
    }
   ],
   "source": [
    "A2_sym = sp.Matrix([[-d1_sym,rf,0,0,0],[-rf,-d2_sym,0,0,0],[1,0,0,rf,0],[0,1,-rf,0,0],[0,0,1,0,0]])# macierz stanu\n",
    "b2_sym = sp.Matrix([[1/m,0,0,0,0]]).T # macierz sterowania\n",
    "ff_sym = sp.Matrix([[fus/m,-fvs/m,0,0,0]]).T # wektor zakłóceń - wiatru\n",
    "q2_sym = sp.Matrix([[u,v,z1,z2,z3]]).T # wektor stanu\n",
    "#dX1_sym = A2_sym @ q2_sym + b2_sym * tauu + ff_sym    # to dać w funkcji symulacji\n",
    "display(A2_sym,b2_sym,ff_sym,q2_sym)\n",
    "#display(dX1_sym)"
   ]
  },
  {
   "cell_type": "markdown",
   "metadata": {},
   "source": [
    "Nowy wektor stanu - rozdział IV (4.10)"
   ]
  },
  {
   "cell_type": "code",
   "execution_count": 18,
   "metadata": {},
   "outputs": [],
   "source": [
    "ub = u\n",
    "vb = v * sp.exp(k3 * t)\n",
    "z1b = z1\n",
    "z2b = z2 * sp.exp(k3 * t)\n",
    "z3b = z3\n",
    "Xb = sp.Matrix([[ub,vb,z1b,z2b,z3b]]).T\n",
    "#wyświetlanie implementowanych wzorów\n",
    "#display(Xb)"
   ]
  },
  {
   "cell_type": "markdown",
   "metadata": {},
   "source": [
    "Współczynniki d1, d2, th3 - rozdział IV (4.11)"
   ]
  },
  {
   "cell_type": "code",
   "execution_count": 19,
   "metadata": {},
   "outputs": [
    {
     "data": {
      "text/latex": [
       "$\\displaystyle \\Delta_{1} + d_{10}$"
      ],
      "text/plain": [
       "\\Delta_{1} + d_{10}"
      ]
     },
     "metadata": {},
     "output_type": "display_data"
    },
    {
     "data": {
      "text/latex": [
       "$\\displaystyle \\Delta_{2} + d_{20}$"
      ],
      "text/plain": [
       "\\Delta_{2} + d_{20}"
      ]
     },
     "metadata": {},
     "output_type": "display_data"
    },
    {
     "data": {
      "text/latex": [
       "$\\displaystyle \\Delta_{3} + d_{30}$"
      ],
      "text/plain": [
       "\\Delta_{3} + d_{30}"
      ]
     },
     "metadata": {},
     "output_type": "display_data"
    },
    {
     "data": {
      "text/latex": [
       "$\\displaystyle \\Delta_{3} + \\theta_{30}$"
      ],
      "text/plain": [
       "\\Delta_{3} + \\theta_{30}"
      ]
     },
     "metadata": {},
     "output_type": "display_data"
    }
   ],
   "source": [
    "d1_sym2 = d10_sym + Delta_1_sym#\n",
    "d2_sym2 = d20_sym + Delta_2_sym#\n",
    "d3_sym2 = d30_sym + Delta_3_sym# za d3 podstawić ręcznie wartość z artykułu 0.05\n",
    "th3_sym2 = th30_sym + Delta_3_sym#\n",
    "#wyświetlanie implementowanych wzorów\n",
    "display(d1_sym2,d2_sym2,d3_sym2,th3_sym2)"
   ]
  },
  {
   "cell_type": "markdown",
   "metadata": {},
   "source": [
    "Rozszerzony system Sigma1e bez zakłócenia f(t) - rozdział IV (4.13) i (4.14)"
   ]
  },
  {
   "cell_type": "code",
   "execution_count": 20,
   "metadata": {},
   "outputs": [
    {
     "data": {
      "text/latex": [
       "$\\displaystyle \\left[\\begin{matrix}0 & r(t) e^{- k_{3} t} & 0 & 0 & 0\\\\\\alpha(t) & 0 & 0 & 0 & 0\\\\0 & 0 & 0 & r(t) e^{- k_{3} t} & 0\\\\0 & 0 & \\alpha(t) & 0 & 0\\\\0 & 0 & 0 & 0 & 0\\end{matrix}\\right]$"
      ],
      "text/plain": [
       "Matrix([\n",
       "[        0, r(t)*exp(-k_{3}*t),         0,                  0, 0],\n",
       "[\\alpha(t),                  0,         0,                  0, 0],\n",
       "[        0,                  0,         0, r(t)*exp(-k_{3}*t), 0],\n",
       "[        0,                  0, \\alpha(t),                  0, 0],\n",
       "[        0,                  0,         0,                  0, 0]])"
      ]
     },
     "metadata": {},
     "output_type": "display_data"
    },
    {
     "data": {
      "text/latex": [
       "$\\displaystyle \\left[\\begin{matrix}- d_{10} & 0 & 0 & 0 & 0\\\\\\theta_{30} k_{3} & - d_{20} + k_{3} & 0 & 0 & 0\\\\1 & 0 & 0 & 0 & 0\\\\0 & 1 & \\theta_{30} k_{3} & k_{3} & 0\\\\0 & 0 & 1 & 0 & 0\\end{matrix}\\right]$"
      ],
      "text/plain": [
       "Matrix([\n",
       "[          -d_{10},               0,                 0,     0, 0],\n",
       "[\\theta_{30}*k_{3}, -d_{20} + k_{3},                 0,     0, 0],\n",
       "[                1,               0,                 0,     0, 0],\n",
       "[                0,               1, \\theta_{30}*k_{3}, k_{3}, 0],\n",
       "[                0,               0,                 1,     0, 0]])"
      ]
     },
     "metadata": {},
     "output_type": "display_data"
    },
    {
     "data": {
      "text/latex": [
       "$\\displaystyle \\left[\\begin{matrix}1 & 0 & 0 & 0\\\\0 & 1 & 1 & 0\\\\0 & 0 & 0 & 0\\\\0 & 0 & 0 & 1\\\\0 & 0 & 0 & 0\\end{matrix}\\right]$"
      ],
      "text/plain": [
       "Matrix([\n",
       "[1, 0, 0, 0],\n",
       "[0, 1, 1, 0],\n",
       "[0, 0, 0, 0],\n",
       "[0, 0, 0, 1],\n",
       "[0, 0, 0, 0]])"
      ]
     },
     "metadata": {},
     "output_type": "display_data"
    },
    {
     "data": {
      "text/latex": [
       "$\\displaystyle \\left[\\begin{matrix}- \\delta_{1} & 0 & 0 & 0 & 0\\\\0 & - \\delta_{2} & 0 & 0 & 0\\\\\\delta_{3} k_{3} & 0 & 0 & 0 & 0\\\\0 & 0 & \\delta_{3} k_{3} & 0 & 0\\end{matrix}\\right]$"
      ],
      "text/plain": [
       "Matrix([\n",
       "[     -\\delta_{1},           0,                0, 0, 0],\n",
       "[               0, -\\delta_{2},                0, 0, 0],\n",
       "[\\delta_{3}*k_{3},           0,                0, 0, 0],\n",
       "[               0,           0, \\delta_{3}*k_{3}, 0, 0]])"
      ]
     },
     "metadata": {},
     "output_type": "display_data"
    },
    {
     "data": {
      "text/latex": [
       "$\\displaystyle \\left[\\begin{matrix}\\frac{\\Delta_{1}}{\\delta_{1}} & 0 & 0 & 0\\\\0 & \\frac{\\Delta_{2}}{\\delta_{2}} & 0 & 0\\\\0 & 0 & \\frac{\\Delta_{3}}{\\delta_{3}} & 0\\\\0 & 0 & 0 & \\frac{\\Delta_{3}}{\\delta_{3}}\\end{matrix}\\right]$"
      ],
      "text/plain": [
       "Matrix([\n",
       "[\\Delta_{1}/\\delta_{1},                     0,                     0,                     0],\n",
       "[                    0, \\Delta_{2}/\\delta_{2},                     0,                     0],\n",
       "[                    0,                     0, \\Delta_{3}/\\delta_{3},                     0],\n",
       "[                    0,                     0,                     0, \\Delta_{3}/\\delta_{3}]])"
      ]
     },
     "metadata": {},
     "output_type": "display_data"
    }
   ],
   "source": [
    "#macierze o stałych współczynnikach\n",
    "A10_sym = sp.Matrix([[-d10_sym,0,0,0,0],[th30_sym*k3,-(d20_sym-k3),0,0,0],[1,0,0,0,0],[0,1,th30_sym*k3,k3,0],[0,0,1,0,0]])#\n",
    "D_sym = sp.Matrix([[1,0,0,0],[0,1,1,0],[0,0,0,0],[0,0,0,1],[0,0,0,0]])#\n",
    "E_sym = sp.Matrix([[-delta_1_sym,0,0,0,0],[0,-delta_2_sym,0,0,0],[k3*delta_3_sym,0,0,0,0],[0,0,k3*delta_3_sym,0,0]])#\n",
    "DELTA_sym = sp.Matrix.diag([Delta_1_sym/delta_1_sym,Delta_2_sym/delta_2_sym,Delta_3_sym/delta_3_sym,Delta_3_sym/delta_3_sym])#\n",
    "#macierz o zmiennych współczynnikach\n",
    "af = sp.symbols('\\\\alpha(t)')# to będzie później funkcja alpha(t)\n",
    "A22_sym = sp.Matrix([[0,rf*sp.exp(-k3*t),0,0,0],[af,0,0,0,0],[0,0,0,rf*sp.exp(-k3*t),0],[0,0,af,0,0],[0,0,0,0,0]])\n",
    "#wyświetlanie implementowanych wzorów\n",
    "display(A22_sym)\n",
    "display(A10_sym,D_sym,E_sym,DELTA_sym)"
   ]
  },
  {
   "cell_type": "markdown",
   "metadata": {},
   "source": [
    "Wzory potrzebne do obliczenia d1, d2, th3 - rozdział IV (4.12)"
   ]
  },
  {
   "cell_type": "code",
   "execution_count": 21,
   "metadata": {},
   "outputs": [
    {
     "data": {
      "text/latex": [
       "$\\displaystyle \\frac{\\bar{\\theta}_{3}}{2} - \\frac{\\underline{\\theta}_{3}}{2}$"
      ],
      "text/plain": [
       "\\bar{\\theta}_{3}/2 - \\underline{\\theta}_{3}/2"
      ]
     },
     "metadata": {},
     "output_type": "display_data"
    },
    {
     "data": {
      "text/latex": [
       "$\\displaystyle \\frac{\\bar{\\theta}_{3}}{2} + \\frac{\\underline{\\theta}_{3}}{2}$"
      ],
      "text/plain": [
       "\\bar{\\theta}_{3}/2 + \\underline{\\theta}_{3}/2"
      ]
     },
     "metadata": {},
     "output_type": "display_data"
    }
   ],
   "source": [
    "delta_3_sym2 = (th3c_sym - th3f_sym)/2#\n",
    "th30_sym2 = (th3c_sym + th3f_sym)/2#\n",
    "display(delta_3_sym2,th30_sym2)"
   ]
  },
  {
   "cell_type": "code",
   "execution_count": 22,
   "metadata": {},
   "outputs": [
    {
     "data": {
      "text/latex": [
       "$\\displaystyle \\frac{a}{\\left(- k_{1} + k_{3}\\right) \\left(- k_{2} + k_{3}\\right)}$"
      ],
      "text/plain": [
       "a/((-k_{1} + k_{3})*(-k_{2} + k_{3}))"
      ]
     },
     "metadata": {},
     "output_type": "display_data"
    },
    {
     "data": {
      "text/latex": [
       "$\\displaystyle \\frac{a}{k_{1} k_{2} + k_{3}^{2} - k_{3} \\left(\\bar{d}_{3} + k_{r}\\right)}$"
      ],
      "text/plain": [
       "a/(k_{1}*k_{2} + k_{3}**2 - k_{3}*(\\bar{d}_{3} + k_{r}))"
      ]
     },
     "metadata": {},
     "output_type": "display_data"
    },
    {
     "data": {
      "text/latex": [
       "$\\displaystyle \\frac{\\bar{d}_{1}}{2} + \\frac{\\underline{d}_{1}}{2}$"
      ],
      "text/plain": [
       "\\bar{d}_{1}/2 + \\underline{d}_{1}/2"
      ]
     },
     "metadata": {},
     "output_type": "display_data"
    },
    {
     "data": {
      "text/latex": [
       "$\\displaystyle \\frac{\\bar{d}_{2}}{2} + \\frac{\\underline{d}_{2}}{2}$"
      ],
      "text/plain": [
       "\\bar{d}_{2}/2 + \\underline{d}_{2}/2"
      ]
     },
     "metadata": {},
     "output_type": "display_data"
    },
    {
     "data": {
      "text/latex": [
       "$\\displaystyle \\frac{\\bar{d}_{3}}{2} + \\frac{\\underline{d}_{3}}{2}$"
      ],
      "text/plain": [
       "\\bar{d}_{3}/2 + \\underline{d}_{3}/2"
      ]
     },
     "metadata": {},
     "output_type": "display_data"
    },
    {
     "data": {
      "text/latex": [
       "$\\displaystyle \\frac{\\bar{d}_{1}}{2} - \\frac{\\underline{d}_{1}}{2}$"
      ],
      "text/plain": [
       "\\bar{d}_{1}/2 - \\underline{d}_{1}/2"
      ]
     },
     "metadata": {},
     "output_type": "display_data"
    },
    {
     "data": {
      "text/latex": [
       "$\\displaystyle \\frac{\\bar{d}_{2}}{2} - \\frac{\\underline{d}_{2}}{2}$"
      ],
      "text/plain": [
       "\\bar{d}_{2}/2 - \\underline{d}_{2}/2"
      ]
     },
     "metadata": {},
     "output_type": "display_data"
    }
   ],
   "source": [
    "th3f_sym2 = a/((k3 - k1)*(k3 - k2))#\n",
    "th3c_sym2 = a/(k3**2 - (d3c + k_r_sym)*k3 + k1*k2)#\n",
    "d10_sym2 = (d1c + d1f)/2#\n",
    "d20_sym2 = (d2c + d2f)/2#\n",
    "d30_sym2 = (d3c + d3f)/2#\n",
    "delta_1_sym2 = (d1c - d1f)/2#\n",
    "delta_2_sym2 = (d2c - d2f)/2#\n",
    "#wyświetlanie implementowanych wzorów\n",
    "display(th3f_sym2,th3c_sym2,d10_sym2,d20_sym2,d30_sym2,delta_1_sym2,delta_2_sym2)"
   ]
  },
  {
   "cell_type": "markdown",
   "metadata": {},
   "source": [
    "Sygnał sterujący tau_u - rozdział IV (4.21)"
   ]
  },
  {
   "cell_type": "code",
   "execution_count": 23,
   "metadata": {},
   "outputs": [
    {
     "data": {
      "text/latex": [
       "$\\displaystyle - \\bar{k}_{1} u - \\bar{k}_{2} v e^{k_{3} t} - \\bar{k}_{3} z_{1} - \\bar{k}_{4} z_{2} e^{k_{3} t} - \\bar{k}_{5} z_{3}$"
      ],
      "text/plain": [
       "-\\bar{k}_{1}*u - \\bar{k}_{2}*v*exp(k_{3}*t) - \\bar{k}_{3}*z_{1} - \\bar{k}_{4}*z_{2}*exp(k_{3}*t) - \\bar{k}_{5}*z_{3}"
      ]
     },
     "metadata": {},
     "output_type": "display_data"
    }
   ],
   "source": [
    "tauu_sym = -(k1b*u+k2b*v*sp.exp(k3*t)+k3b*z1+k4b*z2*sp.exp(k3*t)+k5b*z3)\n",
    "#wyświetlanie implementowanych wzorów\n",
    "display(tauu_sym)"
   ]
  },
  {
   "cell_type": "markdown",
   "metadata": {},
   "source": [
    "Wektor zakłóceń - rozdział IV (4.26)"
   ]
  },
  {
   "cell_type": "code",
   "execution_count": 24,
   "metadata": {},
   "outputs": [
    {
     "data": {
      "text/latex": [
       "$\\displaystyle \\left[\\begin{matrix}\\frac{C_{u} F(\\theta) V_{w}^{2} \\cos{\\left(\\theta(t) \\right)}}{m}\\\\- \\frac{C_{v} F(\\theta) V_{w}^{2} e^{k_{3} t} \\sin{\\left(\\theta(t) \\right)}}{m}\\\\0\\\\0\\\\0\\end{matrix}\\right]$"
      ],
      "text/plain": [
       "Matrix([\n",
       "[              C_{u}*F(\\theta)*V_{w}**2*cos(\\theta(t))/m],\n",
       "[-C_{v}*F(\\theta)*V_{w}**2*exp(k_{3}*t)*sin(\\theta(t))/m],\n",
       "[                                                      0],\n",
       "[                                                      0],\n",
       "[                                                      0]])"
      ]
     },
     "metadata": {},
     "output_type": "display_data"
    }
   ],
   "source": [
    "#wektor zakłóceń\n",
    "fb_sym = sp.Matrix([[Cu*Vw**2*F*sp.cos(tta)/m,-Cv*Vw**2*sp.exp(k3*t)*F*sp.sin(tta)/m,0,0,0]]).T \n",
    "display(fb_sym)  "
   ]
  },
  {
   "cell_type": "markdown",
   "metadata": {},
   "source": [
    "Wzory na współczynniki sterownika tau_r"
   ]
  },
  {
   "cell_type": "code",
   "execution_count": 25,
   "metadata": {},
   "outputs": [
    {
     "data": {
      "text/latex": [
       "$\\displaystyle k_{1} k_{2}$"
      ],
      "text/plain": [
       "k_{1}*k_{2}"
      ]
     },
     "metadata": {},
     "output_type": "display_data"
    },
    {
     "data": {
      "text/latex": [
       "$\\displaystyle - \\underline{d}_{3} + k_{1} + k_{2}$"
      ],
      "text/plain": [
       "-\\underline{d}_{3} + k_{1} + k_{2}"
      ]
     },
     "metadata": {},
     "output_type": "display_data"
    }
   ],
   "source": [
    "k_th_sym2 = k1 * k2#\n",
    "k_r_sym2 = k1 + k2 - d3f#\n",
    "display(k_th_sym2,k_r_sym2)"
   ]
  },
  {
   "cell_type": "markdown",
   "metadata": {},
   "source": [
    "Wzory na Delta_i - Delta_i <= delta_i - rozdział (4.11)"
   ]
  },
  {
   "cell_type": "code",
   "execution_count": 26,
   "metadata": {},
   "outputs": [],
   "source": [
    "Delta_1_sym2 = delta_1_sym\n",
    "Delta_2_sym2 = delta_2_sym\n",
    "Delta_3_sym2 = delta_3_sym"
   ]
  },
  {
   "cell_type": "markdown",
   "metadata": {},
   "source": [
    "Wektor wzmocnień sterownika - rozdział IV (4.21)"
   ]
  },
  {
   "cell_type": "code",
   "execution_count": 27,
   "metadata": {},
   "outputs": [
    {
     "data": {
      "text/latex": [
       "$\\displaystyle \\left[\\begin{matrix}\\bar{k}_{1} & \\bar{k}_{2} & \\bar{k}_{3} & \\bar{k}_{4} & \\bar{k}_{5}\\end{matrix}\\right]$"
      ],
      "text/plain": [
       "Matrix([[\\bar{k}_{1}, \\bar{k}_{2}, \\bar{k}_{3}, \\bar{k}_{4}, \\bar{k}_{5}]])"
      ]
     },
     "metadata": {},
     "output_type": "display_data"
    }
   ],
   "source": [
    "Kb_sym2 = sp.Matrix([[k1b,k2b,k3b,k4b,k5b]])\n",
    "display(Kb_sym2)"
   ]
  },
  {
   "cell_type": "markdown",
   "metadata": {},
   "source": [
    "## ----------------------------------------------------------------------------------------------------------------------------------"
   ]
  },
  {
   "cell_type": "markdown",
   "metadata": {},
   "source": [
    "# Podstawienie wartości do zmiennych symbolicznych"
   ]
  },
  {
   "cell_type": "code",
   "execution_count": 28,
   "metadata": {},
   "outputs": [],
   "source": [
    "params = {a_ship:1.2,b_ship:0.5} #Podstawienie wymiarów sterowca\n",
    "params.update({Cu:0.42,Cv:0.42,Cr:0.42,Vw:0.1}) #Podstawienie wartości współczynników aerodynamicznych i prędkości wiatru\n",
    "params.update({m:0.072, m3:0.018})#Podstawienie wartości masy strowca m=m1=m2, masa sterowca m3\n",
    "params.update({d1f:0.008, d2f:0.029, d3f:0.035})#Podstawienie dolnych wartości współczynników tłumienia\n",
    "params.update({d1c:0.01, d2c:0.057, d3c:0.05})#Podstawienie górnych wartości współczynników tłumienia\n",
    "params.update({k1:0.52, k2:0.5, k3:0.35, a:0.15})#Podstawienie wartości wzmocnień kontrolera tau_r\n",
    "params.update({k1b:1.6, k2b:0.13, k3b:1.0, k4b:0.16, k5b:0.0032})#Podstawienie wartości\n",
    "params.update({th_0:1,r_0:0})#Wartości początkowe kąta, prędkości kątowej"
   ]
  },
  {
   "cell_type": "code",
   "execution_count": 29,
   "metadata": {},
   "outputs": [],
   "source": [
    "#podstawienie wartości stałych współczynników\n",
    "tmp = sp.Matrix([[a_ship,b_ship,m,m3,Cu,Cv,Cr,Vw,d1f,d2f,d3f,d1c,d2c,d3c,k1,k2,k3,a,k1b,k2b,k3b,k4b,k5b]]).subs(params)\n",
    "a_ship,b_ship,m,m3,Cu,Cv,Cr,Vw,d1f,d2f,d3f,d1c,d2c,d3c,k1,k2,k3,a,k1b,k2b,k3b,k4b,k5b = tmp\n",
    "k_r_num = k_r_sym2.subs(params)\n",
    "k_th_num = k_th_sym2.subs(params)\n",
    "th3f_num = th3f_sym2.subs(params)\n",
    "params.update({k_r_sym:k_r_num,k_th_sym:k_th_num,th3f_sym:th3f_num})\n",
    "th3c_num = th3c_sym2.subs(params)\n",
    "d10_num = d10_sym2.subs(params)\n",
    "d20_num = d20_sym2.subs(params)\n",
    "d30_num = d30_sym2.subs(params)\n",
    "delta_1_num = delta_1_sym2.subs(params)\n",
    "delta_2_num = delta_2_sym2.subs(params)\n",
    "params.update({th3c_sym:th3c_num,d10_sym:d10_num,d20_sym:d20_num,d30_sym:d30_num})\n",
    "params.update({delta_1_sym:delta_1_num,delta_2_sym:delta_2_num})\n",
    "delta_3_num = delta_3_sym2.subs(params)\n",
    "th30_num = th30_sym2.subs(params)\n",
    "params.update({delta_3_sym:delta_3_num,th30_sym:th30_num})\n",
    "Delta_1_num = Delta_1_sym2.subs(params)\n",
    "Delta_2_num = Delta_2_sym2.subs(params)\n",
    "Delta_3_num = Delta_3_sym2.subs(params)\n",
    "params.update({Delta_1_sym:Delta_1_num,Delta_2_sym:Delta_2_num,Delta_3_sym:Delta_3_num})\n",
    "d1_num = d1_sym2.subs(params)\n",
    "d2_num = d2_sym2.subs(params) \n",
    "d3_num = 0.05 #d3_sym2.subs(params) \n",
    "params.update({d1_sym:d1_num,d2_sym:d2_num,d3_sym:d3_num})\n",
    "delta_d_num = delta_d_sym2.subs(params)\n",
    "params.update({delta_d_sym:delta_d_num})\n",
    "lam_2_num = lam_2_sym2.subs(params)\n",
    "lam_1_num = lam_1_sym2.subs(params)\n",
    "params.update({lam_1_sym:lam_1_num,lam_2_sym:lam_2_num})\n",
    "th_1_num = th_1_sym2.subs(params)\n",
    "th_2_num = th_2_sym2.subs(params)\n",
    "th_3_num = th_3_sym2.subs(params)\n",
    "params.update({th_1_sym:th_1_num,th_2_sym:th_2_num,th_3_sym:th_3_num})\n",
    "#macierze\n",
    "A10_num = A10_sym.subs(params)\n",
    "D_num = D_sym.subs(params)\n",
    "E_num = E_sym.subs(params) \n",
    "DELTA_num = DELTA_sym.subs(params)\n",
    "K_num = Kb_sym2.subs(params)\n",
    "#wektory niezależne\n",
    "b1_num = b1_sym.subs(params)\n",
    "b2_num = b2_sym.subs(params)"
   ]
  },
  {
   "cell_type": "markdown",
   "metadata": {},
   "source": [
    "# Definicja funkcji numerycznych"
   ]
  },
  {
   "cell_type": "code",
   "execution_count": 30,
   "metadata": {},
   "outputs": [],
   "source": [
    "# Funkcje przyjmujące zmienną\n",
    "F_num = sp.lambdify((th),F_sym.subs(params)) # F_num(th)\n",
    "fu_num = sp.lambdify((th),fu_sym.subs(params)) # fu_num(th)\n",
    "fv_num = sp.lambdify((th),fv_sym.subs(params)) # fv_num(th)\n",
    "fr_num = sp.lambdify((th),fr_sym.subs(params)) # fr_num(th)\n",
    "tauu_num = sp.lambdify((u,v,z1,z2,z3,t),tauu_sym.subs(params)) # tauu_num(u,v,z1,z2,z3,t)\n",
    "taur_num = sp.lambdify((r,th,t,frs),taur_sym.subs(params)) # taur_num(r,th,t,fr_num(th))\n",
    "alpha_num = sp.lambdify((t),Alp_sym.subs(params)) # alpha_num(t)\n",
    "theta_num = sp.lambdify((t),theta_sym.subs(params)) # theta_num(t)\n",
    "r_num = sp.lambdify((t),r_sym.subs(params)) # r_num(t)\n",
    "fb_num = sp.lambdify((tta,F,t),fb_sym.subs(params)) # fb_num(theta_num(t),F_num(theta_num(t)),t)\n",
    "ff_num = sp.lambdify((fus,fvs),ff_sym.subs(params)) # ff_num(fu_num(th),fv_num(th))\n",
    "dx_num = sp.lambdify((u,v,th),dx_sym.subs(params)) # dx_num(u,v,th)\n",
    "dy_num = sp.lambdify((u,v,th),dy_sym.subs(params)) # dy_num(u,v,th)\n",
    "# macierze zmienne\n",
    "A2_num = sp.lambdify((rf),A2_sym.subs(params)) # A2_num(r_num(t))\n",
    "A22_num = sp.lambdify((rf,af,t),A22_sym.subs(params)) # A22_num(r_num(t),alpha_num(t),t)\n",
    "# Układ Sigma 2\n",
    "dth_num = sp.lambdify((r),dth_sym.subs(params)) # dth_num(r)\n",
    "dr_num = sp.lambdify((r,taur,frs),dr_sym.subs(params)) # dr_num(r,taur,fr_num(th))\n",
    "# Układ Sigma 1\n",
    "f1_num = sp.lambdify((fus,fvs),f1_sym.subs(params)) # f1_num(fu_num(th),fv_num(th))\n",
    "A1_num = sp.lambdify((r),A1_sym.subs(params)) # A1_num(r)\n",
    "#---\n",
    "Ac_num = A10_num - b2_num @ K_num + D_num @ DELTA_num @ E_num"
   ]
  },
  {
   "cell_type": "markdown",
   "metadata": {},
   "source": [
    "# Definicja funkcji symulacji"
   ]
  },
  {
   "cell_type": "code",
   "execution_count": 40,
   "metadata": {},
   "outputs": [],
   "source": [
    "def Blimp(t_, xi_array):\n",
    "    xi = MAT([xi_array]).T\n",
    "    ui = MAT(xi[0][0])\n",
    "    vi = MAT(xi[1][0])\n",
    "    z1i = MAT(xi[2][0])\n",
    "    z2i = MAT(xi[3][0])\n",
    "    ri = MAT(xi[4][0])\n",
    "    thi = MAT(xi[5][0])\n",
    "    z3i = MAT(xi[6][0])\n",
    "    #System 1e\n",
    "    #X1e = MAT([[uie,vie*sp.exp(k3*t_),z1ie,z2ie*sp.exp(k3*t_),z3ie]]).T #wektor stanu\n",
    "    #dX1e = (Ac_num + A22_num(r_num(t_),alpha_num(t_),t_)) @ X1e + fb_num(theta_num(t_),F_num(theta_num(t_)),t_)\n",
    "    # system 1\n",
    "    x1 = MAT([[ui,vi,z1i,z2i]]).T\n",
    "    dx1 = A1_num(ri) @ x1 + b1_num * tauu_num(ui,vi,z1i,z2i,z3i,t_) + f1_num(fu_num(thi),fv_num(thi))\n",
    "    # system 2\n",
    "    dri = dr_num(ri,taur_num(ri,thi,t_,fr_num(thi)),fr_num(thi))\n",
    "    dthi = dth_num(ri)\n",
    "    dx2 = MAT([[dri,dthi]]).T\n",
    "    #prędkości xd yd\n",
    "    xv = dx_num(ui,vi,thi)\n",
    "    yv = dy_num(ui,vi,thi)\n",
    "    xyv = MAT([[xv,yv,z3i]]).T\n",
    "    # Zbieranie wyników\n",
    "    dxi = np.concatenate((dx1,dx2,xyv))\n",
    "    return np.ndarray.tolist(dxi.T[0])"
   ]
  },
  {
   "cell_type": "markdown",
   "metadata": {},
   "source": [
    "# Przygotowanie symulacji"
   ]
  },
  {
   "cell_type": "code",
   "execution_count": 42,
   "metadata": {},
   "outputs": [],
   "source": [
    "xi0_array = [0,0,0,0,0,1,0,0,0]#wartości początkowe zmiennych\n",
    "time_sym = 25 # Czas trwania symulacji\n",
    "sim = solve_ivp(Blimp, [0, time_sym], xi0_array, method='RK23')\n",
    "t = sim.t\n",
    "u, v, z1, z2, rd, ttad, xd, yd, z3 = sim.y # return xi   ue, ve, z1e, z2e, z3e,"
   ]
  },
  {
   "cell_type": "code",
   "execution_count": 43,
   "metadata": {},
   "outputs": [
    {
     "data": {
      "image/png": "[encoded data removed]",
      "text/plain": [
       "<Figure size 432x288 with 1 Axes>"
      ]
     },
     "metadata": {
      "needs_background": "light"
     },
     "output_type": "display_data"
    },
    {
     "data": {
      "image/png": "[encoded data removed]",
      "text/plain": [
       "<Figure size 432x288 with 1 Axes>"
      ]
     },
     "metadata": {
      "needs_background": "light"
     },
     "output_type": "display_data"
    },
    {
     "data": {
      "image/png": "[encoded data removed]",
      "text/plain": [
       "<Figure size 432x288 with 1 Axes>"
      ]
     },
     "metadata": {
      "needs_background": "light"
     },
     "output_type": "display_data"
    }
   ],
   "source": [
    "#wykres prędkości w lokalnym układzie sterowca\n",
    "plt.figure()\n",
    "plt.plot(t, v, 'r', label='v')\n",
    "plt.plot(t, u, 'b', label='u')\n",
    "plt.legend(loc='best')\n",
    "plt.xlabel('time [s]')\n",
    "plt.ylabel('vel [m/s]')\n",
    "plt.grid(True)\n",
    "plt.show()\n",
    "#wykres wykres przyśpieszenia kątowego rd i prędkości kąta theta\n",
    "plt.figure()\n",
    "plt.plot(t, rd, 'r', label='rd')\n",
    "plt.plot(t, ttad, 'b', label='th')\n",
    "plt.legend(loc='best')\n",
    "plt.xlabel('time [s]')\n",
    "plt.ylabel('rad')\n",
    "plt.grid(True)\n",
    "plt.show()\n",
    "#wykres prędkości w osi x i y układu globalnego \n",
    "plt.figure()\n",
    "plt.plot(t, xd, 'r', label='x vel')\n",
    "plt.plot(t, yd, 'b', label='y vel')\n",
    "plt.legend(loc='best')\n",
    "plt.xlabel('time [s]')\n",
    "plt.ylabel('vel [m/s]')\n",
    "plt.grid(True)\n",
    "plt.show()"
   ]
  }
 ],
 "metadata": {
  "kernelspec": {
   "display_name": "Python 3",
   "language": "python",
   "name": "python3"
  },
  "language_info": {
   "codemirror_mode": {
    "name": "ipython",
    "version": 3
   },
   "file_extension": ".py",
   "mimetype": "text/x-python",
   "name": "python",
   "nbconvert_exporter": "python",
   "pygments_lexer": "ipython3",
   "version": "3.8.1"
  }
 },
 "nbformat": 4,
 "nbformat_minor": 4
}
